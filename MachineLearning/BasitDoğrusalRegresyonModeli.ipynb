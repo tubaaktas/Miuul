{
  "nbformat": 4,
  "nbformat_minor": 0,
  "metadata": {
    "colab": {
      "name": "BasitDoğrusalRegresyonModeli.ipynb",
      "provenance": [],
      "collapsed_sections": []
    },
    "kernelspec": {
      "name": "python3",
      "display_name": "Python 3"
    },
    "language_info": {
      "name": "python"
    }
  },
  "cells": [
    {
      "cell_type": "code",
      "execution_count": null,
      "metadata": {
        "id": "sAXQbv-jMZmn"
      },
      "outputs": [],
      "source": [
        "import pandas as pd\n",
        "import numpy as np\n",
        "import seaborn as sns\n",
        "import matplotlib.pyplot as plt\n",
        "\n",
        "from sklearn.linear_model import LinearRegression\n",
        "from sklearn.metrics import mean_squared_error, mean_absolute_error\n",
        "from sklearn.model_selection import train_test_split, cross_val_score\n",
        "\n",
        "pd.set_option(\"display.float_format\", lambda x: \"%.2f\" % x)"
      ]
    },
    {
      "cell_type": "markdown",
      "source": [
        "#Simple Linear Regression with OLS Using Scikit Learn\n"
      ],
      "metadata": {
        "id": "pLJXX0LSn2jw"
      }
    },
    {
      "cell_type": "code",
      "source": [
        "df = pd.read_csv(\"advertising.csv\")\n",
        "df"
      ],
      "metadata": {
        "colab": {
          "base_uri": "https://localhost:8080/",
          "height": 424
        },
        "id": "1G3864C5NKWz",
        "outputId": "0a68f9f6-8ab5-45fe-9193-cf08fd334e1f"
      },
      "execution_count": null,
      "outputs": [
        {
          "output_type": "execute_result",
          "data": {
            "text/plain": [
              "        TV  Radio  Newspaper  Sales\n",
              "0   230.10  37.80      69.20  22.10\n",
              "1    44.50  39.30      45.10  10.40\n",
              "2    17.20  45.90      69.30  12.00\n",
              "3   151.50  41.30      58.50  16.50\n",
              "4   180.80  10.80      58.40  17.90\n",
              "..     ...    ...        ...    ...\n",
              "195  38.20   3.70      13.80   7.60\n",
              "196  94.20   4.90       8.10  14.00\n",
              "197 177.00   9.30       6.40  14.80\n",
              "198 283.60  42.00      66.20  25.50\n",
              "199 232.10   8.60       8.70  18.40\n",
              "\n",
              "[200 rows x 4 columns]"
            ],
            "text/html": [
              "\n",
              "  <div id=\"df-39e22877-87a1-488b-9451-cfab6b1f2330\">\n",
              "    <div class=\"colab-df-container\">\n",
              "      <div>\n",
              "<style scoped>\n",
              "    .dataframe tbody tr th:only-of-type {\n",
              "        vertical-align: middle;\n",
              "    }\n",
              "\n",
              "    .dataframe tbody tr th {\n",
              "        vertical-align: top;\n",
              "    }\n",
              "\n",
              "    .dataframe thead th {\n",
              "        text-align: right;\n",
              "    }\n",
              "</style>\n",
              "<table border=\"1\" class=\"dataframe\">\n",
              "  <thead>\n",
              "    <tr style=\"text-align: right;\">\n",
              "      <th></th>\n",
              "      <th>TV</th>\n",
              "      <th>Radio</th>\n",
              "      <th>Newspaper</th>\n",
              "      <th>Sales</th>\n",
              "    </tr>\n",
              "  </thead>\n",
              "  <tbody>\n",
              "    <tr>\n",
              "      <th>0</th>\n",
              "      <td>230.10</td>\n",
              "      <td>37.80</td>\n",
              "      <td>69.20</td>\n",
              "      <td>22.10</td>\n",
              "    </tr>\n",
              "    <tr>\n",
              "      <th>1</th>\n",
              "      <td>44.50</td>\n",
              "      <td>39.30</td>\n",
              "      <td>45.10</td>\n",
              "      <td>10.40</td>\n",
              "    </tr>\n",
              "    <tr>\n",
              "      <th>2</th>\n",
              "      <td>17.20</td>\n",
              "      <td>45.90</td>\n",
              "      <td>69.30</td>\n",
              "      <td>12.00</td>\n",
              "    </tr>\n",
              "    <tr>\n",
              "      <th>3</th>\n",
              "      <td>151.50</td>\n",
              "      <td>41.30</td>\n",
              "      <td>58.50</td>\n",
              "      <td>16.50</td>\n",
              "    </tr>\n",
              "    <tr>\n",
              "      <th>4</th>\n",
              "      <td>180.80</td>\n",
              "      <td>10.80</td>\n",
              "      <td>58.40</td>\n",
              "      <td>17.90</td>\n",
              "    </tr>\n",
              "    <tr>\n",
              "      <th>...</th>\n",
              "      <td>...</td>\n",
              "      <td>...</td>\n",
              "      <td>...</td>\n",
              "      <td>...</td>\n",
              "    </tr>\n",
              "    <tr>\n",
              "      <th>195</th>\n",
              "      <td>38.20</td>\n",
              "      <td>3.70</td>\n",
              "      <td>13.80</td>\n",
              "      <td>7.60</td>\n",
              "    </tr>\n",
              "    <tr>\n",
              "      <th>196</th>\n",
              "      <td>94.20</td>\n",
              "      <td>4.90</td>\n",
              "      <td>8.10</td>\n",
              "      <td>14.00</td>\n",
              "    </tr>\n",
              "    <tr>\n",
              "      <th>197</th>\n",
              "      <td>177.00</td>\n",
              "      <td>9.30</td>\n",
              "      <td>6.40</td>\n",
              "      <td>14.80</td>\n",
              "    </tr>\n",
              "    <tr>\n",
              "      <th>198</th>\n",
              "      <td>283.60</td>\n",
              "      <td>42.00</td>\n",
              "      <td>66.20</td>\n",
              "      <td>25.50</td>\n",
              "    </tr>\n",
              "    <tr>\n",
              "      <th>199</th>\n",
              "      <td>232.10</td>\n",
              "      <td>8.60</td>\n",
              "      <td>8.70</td>\n",
              "      <td>18.40</td>\n",
              "    </tr>\n",
              "  </tbody>\n",
              "</table>\n",
              "<p>200 rows × 4 columns</p>\n",
              "</div>\n",
              "      <button class=\"colab-df-convert\" onclick=\"convertToInteractive('df-39e22877-87a1-488b-9451-cfab6b1f2330')\"\n",
              "              title=\"Convert this dataframe to an interactive table.\"\n",
              "              style=\"display:none;\">\n",
              "        \n",
              "  <svg xmlns=\"http://www.w3.org/2000/svg\" height=\"24px\"viewBox=\"0 0 24 24\"\n",
              "       width=\"24px\">\n",
              "    <path d=\"M0 0h24v24H0V0z\" fill=\"none\"/>\n",
              "    <path d=\"M18.56 5.44l.94 2.06.94-2.06 2.06-.94-2.06-.94-.94-2.06-.94 2.06-2.06.94zm-11 1L8.5 8.5l.94-2.06 2.06-.94-2.06-.94L8.5 2.5l-.94 2.06-2.06.94zm10 10l.94 2.06.94-2.06 2.06-.94-2.06-.94-.94-2.06-.94 2.06-2.06.94z\"/><path d=\"M17.41 7.96l-1.37-1.37c-.4-.4-.92-.59-1.43-.59-.52 0-1.04.2-1.43.59L10.3 9.45l-7.72 7.72c-.78.78-.78 2.05 0 2.83L4 21.41c.39.39.9.59 1.41.59.51 0 1.02-.2 1.41-.59l7.78-7.78 2.81-2.81c.8-.78.8-2.07 0-2.86zM5.41 20L4 18.59l7.72-7.72 1.47 1.35L5.41 20z\"/>\n",
              "  </svg>\n",
              "      </button>\n",
              "      \n",
              "  <style>\n",
              "    .colab-df-container {\n",
              "      display:flex;\n",
              "      flex-wrap:wrap;\n",
              "      gap: 12px;\n",
              "    }\n",
              "\n",
              "    .colab-df-convert {\n",
              "      background-color: #E8F0FE;\n",
              "      border: none;\n",
              "      border-radius: 50%;\n",
              "      cursor: pointer;\n",
              "      display: none;\n",
              "      fill: #1967D2;\n",
              "      height: 32px;\n",
              "      padding: 0 0 0 0;\n",
              "      width: 32px;\n",
              "    }\n",
              "\n",
              "    .colab-df-convert:hover {\n",
              "      background-color: #E2EBFA;\n",
              "      box-shadow: 0px 1px 2px rgba(60, 64, 67, 0.3), 0px 1px 3px 1px rgba(60, 64, 67, 0.15);\n",
              "      fill: #174EA6;\n",
              "    }\n",
              "\n",
              "    [theme=dark] .colab-df-convert {\n",
              "      background-color: #3B4455;\n",
              "      fill: #D2E3FC;\n",
              "    }\n",
              "\n",
              "    [theme=dark] .colab-df-convert:hover {\n",
              "      background-color: #434B5C;\n",
              "      box-shadow: 0px 1px 3px 1px rgba(0, 0, 0, 0.15);\n",
              "      filter: drop-shadow(0px 1px 2px rgba(0, 0, 0, 0.3));\n",
              "      fill: #FFFFFF;\n",
              "    }\n",
              "  </style>\n",
              "\n",
              "      <script>\n",
              "        const buttonEl =\n",
              "          document.querySelector('#df-39e22877-87a1-488b-9451-cfab6b1f2330 button.colab-df-convert');\n",
              "        buttonEl.style.display =\n",
              "          google.colab.kernel.accessAllowed ? 'block' : 'none';\n",
              "\n",
              "        async function convertToInteractive(key) {\n",
              "          const element = document.querySelector('#df-39e22877-87a1-488b-9451-cfab6b1f2330');\n",
              "          const dataTable =\n",
              "            await google.colab.kernel.invokeFunction('convertToInteractive',\n",
              "                                                     [key], {});\n",
              "          if (!dataTable) return;\n",
              "\n",
              "          const docLinkHtml = 'Like what you see? Visit the ' +\n",
              "            '<a target=\"_blank\" href=https://colab.research.google.com/notebooks/data_table.ipynb>data table notebook</a>'\n",
              "            + ' to learn more about interactive tables.';\n",
              "          element.innerHTML = '';\n",
              "          dataTable['output_type'] = 'display_data';\n",
              "          await google.colab.output.renderOutput(dataTable, element);\n",
              "          const docLink = document.createElement('div');\n",
              "          docLink.innerHTML = docLinkHtml;\n",
              "          element.appendChild(docLink);\n",
              "        }\n",
              "      </script>\n",
              "    </div>\n",
              "  </div>\n",
              "  "
            ]
          },
          "metadata": {},
          "execution_count": 150
        }
      ]
    },
    {
      "cell_type": "code",
      "source": [
        "df.shape"
      ],
      "metadata": {
        "colab": {
          "base_uri": "https://localhost:8080/"
        },
        "id": "EO23nukfNu58",
        "outputId": "ae42b21f-1842-4961-8d70-ec0a4acbaaa7"
      },
      "execution_count": null,
      "outputs": [
        {
          "output_type": "execute_result",
          "data": {
            "text/plain": [
              "(200, 4)"
            ]
          },
          "metadata": {},
          "execution_count": 151
        }
      ]
    },
    {
      "cell_type": "code",
      "source": [
        "#target : sales, regression problemi\n",
        "X = df[[\"TV\"]]\n",
        "y = df[[\"Sales\"]]"
      ],
      "metadata": {
        "id": "eU5GMlBgNkL6"
      },
      "execution_count": null,
      "outputs": []
    },
    {
      "cell_type": "code",
      "source": [
        "#Model\n",
        "reg_model = LinearRegression().fit(X, y)"
      ],
      "metadata": {
        "id": "H1OUb37mN7gK"
      },
      "execution_count": null,
      "outputs": []
    },
    {
      "cell_type": "code",
      "source": [
        "#y_hat = b + w*x\n",
        "#sabit (b - bias)\n",
        "#intercept, bias, sabit...\n",
        "#ilgili sabitleri getirelim\n",
        "reg_model.intercept_[0] #array olarak döndüğünden [0] ile belirtiyoruz."
      ],
      "metadata": {
        "colab": {
          "base_uri": "https://localhost:8080/"
        },
        "id": "P7x2jfB3OtHH",
        "outputId": "41184d82-fb56-4b1f-c44e-4ee6767e8e84"
      },
      "execution_count": null,
      "outputs": [
        {
          "output_type": "execute_result",
          "data": {
            "text/plain": [
              "6.974821488229891"
            ]
          },
          "metadata": {},
          "execution_count": 154
        }
      ]
    },
    {
      "cell_type": "code",
      "source": [
        "#tv'nin katsayısı (w1)\n",
        "reg_model.coef_[0][0]"
      ],
      "metadata": {
        "colab": {
          "base_uri": "https://localhost:8080/"
        },
        "id": "FchW9goYPa7T",
        "outputId": "ab3a64aa-5bda-4a50-ce16-b4ae89a121f5"
      },
      "execution_count": null,
      "outputs": [
        {
          "output_type": "execute_result",
          "data": {
            "text/plain": [
              "0.055464770469558874"
            ]
          },
          "metadata": {},
          "execution_count": 155
        }
      ]
    },
    {
      "cell_type": "code",
      "source": [
        "#Tahmin\n",
        "#150 birimlik TV harcaması olsa ne kadar satış olur?\n",
        "reg_model.intercept_[0] + reg_model.coef_[0][0] * 150"
      ],
      "metadata": {
        "colab": {
          "base_uri": "https://localhost:8080/"
        },
        "id": "12g0PEmQPwLr",
        "outputId": "eb2ea268-2769-4c1a-effe-a342ae57afd5"
      },
      "execution_count": null,
      "outputs": [
        {
          "output_type": "execute_result",
          "data": {
            "text/plain": [
              "15.294537058663721"
            ]
          },
          "metadata": {},
          "execution_count": 156
        }
      ]
    },
    {
      "cell_type": "code",
      "source": [
        "df.describe().T\n",
        "#tv satışlarının max ve min değerlerine bakalım,\n",
        "# veride olmayan bir değeri bile doğrusal ilişkide satışın ne olacağı tahmin edilebilir."
      ],
      "metadata": {
        "colab": {
          "base_uri": "https://localhost:8080/",
          "height": 175
        },
        "id": "jnfMJKWlQugJ",
        "outputId": "00085ff9-cbab-4f03-9fd0-715446db4e0f"
      },
      "execution_count": null,
      "outputs": [
        {
          "output_type": "execute_result",
          "data": {
            "text/plain": [
              "           count   mean   std  min   25%    50%    75%    max\n",
              "TV        200.00 147.04 85.85 0.70 74.38 149.75 218.82 296.40\n",
              "Radio     200.00  23.26 14.85 0.00  9.97  22.90  36.52  49.60\n",
              "Newspaper 200.00  30.55 21.78 0.30 12.75  25.75  45.10 114.00\n",
              "Sales     200.00  15.13  5.28 1.60 11.00  16.00  19.05  27.00"
            ],
            "text/html": [
              "\n",
              "  <div id=\"df-f9d9833f-5455-468e-b63d-b5f5594b4301\">\n",
              "    <div class=\"colab-df-container\">\n",
              "      <div>\n",
              "<style scoped>\n",
              "    .dataframe tbody tr th:only-of-type {\n",
              "        vertical-align: middle;\n",
              "    }\n",
              "\n",
              "    .dataframe tbody tr th {\n",
              "        vertical-align: top;\n",
              "    }\n",
              "\n",
              "    .dataframe thead th {\n",
              "        text-align: right;\n",
              "    }\n",
              "</style>\n",
              "<table border=\"1\" class=\"dataframe\">\n",
              "  <thead>\n",
              "    <tr style=\"text-align: right;\">\n",
              "      <th></th>\n",
              "      <th>count</th>\n",
              "      <th>mean</th>\n",
              "      <th>std</th>\n",
              "      <th>min</th>\n",
              "      <th>25%</th>\n",
              "      <th>50%</th>\n",
              "      <th>75%</th>\n",
              "      <th>max</th>\n",
              "    </tr>\n",
              "  </thead>\n",
              "  <tbody>\n",
              "    <tr>\n",
              "      <th>TV</th>\n",
              "      <td>200.00</td>\n",
              "      <td>147.04</td>\n",
              "      <td>85.85</td>\n",
              "      <td>0.70</td>\n",
              "      <td>74.38</td>\n",
              "      <td>149.75</td>\n",
              "      <td>218.82</td>\n",
              "      <td>296.40</td>\n",
              "    </tr>\n",
              "    <tr>\n",
              "      <th>Radio</th>\n",
              "      <td>200.00</td>\n",
              "      <td>23.26</td>\n",
              "      <td>14.85</td>\n",
              "      <td>0.00</td>\n",
              "      <td>9.97</td>\n",
              "      <td>22.90</td>\n",
              "      <td>36.52</td>\n",
              "      <td>49.60</td>\n",
              "    </tr>\n",
              "    <tr>\n",
              "      <th>Newspaper</th>\n",
              "      <td>200.00</td>\n",
              "      <td>30.55</td>\n",
              "      <td>21.78</td>\n",
              "      <td>0.30</td>\n",
              "      <td>12.75</td>\n",
              "      <td>25.75</td>\n",
              "      <td>45.10</td>\n",
              "      <td>114.00</td>\n",
              "    </tr>\n",
              "    <tr>\n",
              "      <th>Sales</th>\n",
              "      <td>200.00</td>\n",
              "      <td>15.13</td>\n",
              "      <td>5.28</td>\n",
              "      <td>1.60</td>\n",
              "      <td>11.00</td>\n",
              "      <td>16.00</td>\n",
              "      <td>19.05</td>\n",
              "      <td>27.00</td>\n",
              "    </tr>\n",
              "  </tbody>\n",
              "</table>\n",
              "</div>\n",
              "      <button class=\"colab-df-convert\" onclick=\"convertToInteractive('df-f9d9833f-5455-468e-b63d-b5f5594b4301')\"\n",
              "              title=\"Convert this dataframe to an interactive table.\"\n",
              "              style=\"display:none;\">\n",
              "        \n",
              "  <svg xmlns=\"http://www.w3.org/2000/svg\" height=\"24px\"viewBox=\"0 0 24 24\"\n",
              "       width=\"24px\">\n",
              "    <path d=\"M0 0h24v24H0V0z\" fill=\"none\"/>\n",
              "    <path d=\"M18.56 5.44l.94 2.06.94-2.06 2.06-.94-2.06-.94-.94-2.06-.94 2.06-2.06.94zm-11 1L8.5 8.5l.94-2.06 2.06-.94-2.06-.94L8.5 2.5l-.94 2.06-2.06.94zm10 10l.94 2.06.94-2.06 2.06-.94-2.06-.94-.94-2.06-.94 2.06-2.06.94z\"/><path d=\"M17.41 7.96l-1.37-1.37c-.4-.4-.92-.59-1.43-.59-.52 0-1.04.2-1.43.59L10.3 9.45l-7.72 7.72c-.78.78-.78 2.05 0 2.83L4 21.41c.39.39.9.59 1.41.59.51 0 1.02-.2 1.41-.59l7.78-7.78 2.81-2.81c.8-.78.8-2.07 0-2.86zM5.41 20L4 18.59l7.72-7.72 1.47 1.35L5.41 20z\"/>\n",
              "  </svg>\n",
              "      </button>\n",
              "      \n",
              "  <style>\n",
              "    .colab-df-container {\n",
              "      display:flex;\n",
              "      flex-wrap:wrap;\n",
              "      gap: 12px;\n",
              "    }\n",
              "\n",
              "    .colab-df-convert {\n",
              "      background-color: #E8F0FE;\n",
              "      border: none;\n",
              "      border-radius: 50%;\n",
              "      cursor: pointer;\n",
              "      display: none;\n",
              "      fill: #1967D2;\n",
              "      height: 32px;\n",
              "      padding: 0 0 0 0;\n",
              "      width: 32px;\n",
              "    }\n",
              "\n",
              "    .colab-df-convert:hover {\n",
              "      background-color: #E2EBFA;\n",
              "      box-shadow: 0px 1px 2px rgba(60, 64, 67, 0.3), 0px 1px 3px 1px rgba(60, 64, 67, 0.15);\n",
              "      fill: #174EA6;\n",
              "    }\n",
              "\n",
              "    [theme=dark] .colab-df-convert {\n",
              "      background-color: #3B4455;\n",
              "      fill: #D2E3FC;\n",
              "    }\n",
              "\n",
              "    [theme=dark] .colab-df-convert:hover {\n",
              "      background-color: #434B5C;\n",
              "      box-shadow: 0px 1px 3px 1px rgba(0, 0, 0, 0.15);\n",
              "      filter: drop-shadow(0px 1px 2px rgba(0, 0, 0, 0.3));\n",
              "      fill: #FFFFFF;\n",
              "    }\n",
              "  </style>\n",
              "\n",
              "      <script>\n",
              "        const buttonEl =\n",
              "          document.querySelector('#df-f9d9833f-5455-468e-b63d-b5f5594b4301 button.colab-df-convert');\n",
              "        buttonEl.style.display =\n",
              "          google.colab.kernel.accessAllowed ? 'block' : 'none';\n",
              "\n",
              "        async function convertToInteractive(key) {\n",
              "          const element = document.querySelector('#df-f9d9833f-5455-468e-b63d-b5f5594b4301');\n",
              "          const dataTable =\n",
              "            await google.colab.kernel.invokeFunction('convertToInteractive',\n",
              "                                                     [key], {});\n",
              "          if (!dataTable) return;\n",
              "\n",
              "          const docLinkHtml = 'Like what you see? Visit the ' +\n",
              "            '<a target=\"_blank\" href=https://colab.research.google.com/notebooks/data_table.ipynb>data table notebook</a>'\n",
              "            + ' to learn more about interactive tables.';\n",
              "          element.innerHTML = '';\n",
              "          dataTable['output_type'] = 'display_data';\n",
              "          await google.colab.output.renderOutput(dataTable, element);\n",
              "          const docLink = document.createElement('div');\n",
              "          docLink.innerHTML = docLinkHtml;\n",
              "          element.appendChild(docLink);\n",
              "        }\n",
              "      </script>\n",
              "    </div>\n",
              "  </div>\n",
              "  "
            ]
          },
          "metadata": {},
          "execution_count": 157
        }
      ]
    },
    {
      "cell_type": "code",
      "source": [
        "#Modelin Görselleşttirmesi\n",
        "g = sns.regplot(x = X, y = y, scatter_kws={\"color\" : \"b\", \"s\" : 9}, #regresyon grafiği için regplot kullanılır.\n",
        "                ci=False, color=\"r\")\n",
        "g.set_title(f\"Model Denklemi : Sales = {round(reg_model.intercept_[0], 2)} + TV*{round(reg_model.coef_[0][0], 2)}\") # ,2 anlamı virgülden sonra 2 basamak al\n",
        "g.set_ylabel(\"Satış Sayısı\")\n",
        "g.set_xlabel(\"TV Harcamaları\")\n",
        "plt.xlim(-10, 310)\n",
        "plt.ylim(bottom=0)\n",
        "plt.show()"
      ],
      "metadata": {
        "colab": {
          "base_uri": "https://localhost:8080/",
          "height": 295
        },
        "id": "d4-XxFKEQ3ui",
        "outputId": "e9d21818-70e7-446e-a922-0c43228127fb"
      },
      "execution_count": null,
      "outputs": [
        {
          "output_type": "display_data",
          "data": {
            "text/plain": [
              "<Figure size 432x288 with 1 Axes>"
            ],
            "image/png": "[encoded data removed]"
          },
          "metadata": {
            "needs_background": "light"
          }
        }
      ]
    },
    {
      "cell_type": "code",
      "source": [
        "#Tahmin başarısı\n",
        "y_pred = reg_model.predict(X)\n",
        "y_pred #tahmin edilen değerler"
      ],
      "metadata": {
        "colab": {
          "base_uri": "https://localhost:8080/"
        },
        "id": "6E2SzCMuSbyA",
        "outputId": "ccc14f61-373c-44ab-9880-fff8df0ebd95"
      },
      "execution_count": null,
      "outputs": [
        {
          "output_type": "execute_result",
          "data": {
            "text/plain": [
              "array([[19.73726517],\n",
              "       [ 9.44300377],\n",
              "       [ 7.92881554],\n",
              "       [15.37773421],\n",
              "       [17.00285199],\n",
              "       [ 7.45736499],\n",
              "       [10.16404579],\n",
              "       [13.6416869 ],\n",
              "       [ 7.45181851],\n",
              "       [18.05668263],\n",
              "       [10.64104282],\n",
              "       [18.88310771],\n",
              "       [ 8.29488303],\n",
              "       [12.38263661],\n",
              "       [18.29518114],\n",
              "       [17.81263764],\n",
              "       [10.73533293],\n",
              "       [22.5826079 ],\n",
              "       [10.8129836 ],\n",
              "       [15.14478218],\n",
              "       [19.08832736],\n",
              "       [20.142158  ],\n",
              "       [ 7.70695646],\n",
              "       [19.63742859],\n",
              "       [10.43027669],\n",
              "       [21.55650964],\n",
              "       [14.90073719],\n",
              "       [20.29191288],\n",
              "       [20.77445638],\n",
              "       [10.89063428],\n",
              "       [23.22045276],\n",
              "       [13.23679407],\n",
              "       [12.36599718],\n",
              "       [21.70626452],\n",
              "       [12.28280002],\n",
              "       [23.09843026],\n",
              "       [21.77836873],\n",
              "       [11.11803984],\n",
              "       [ 9.3653531 ],\n",
              "       [19.62078916],\n",
              "       [18.20643751],\n",
              "       [16.79208586],\n",
              "       [23.2592781 ],\n",
              "       [18.4504825 ],\n",
              "       [ 8.36698723],\n",
              "       [16.6867028 ],\n",
              "       [11.9500114 ],\n",
              "       [20.28081992],\n",
              "       [19.57641734],\n",
              "       [10.68541463],\n",
              "       [18.05668263],\n",
              "       [12.54348444],\n",
              "       [18.97739782],\n",
              "       [17.10268858],\n",
              "       [21.54541669],\n",
              "       [18.00676433],\n",
              "       [ 7.37971431],\n",
              "       [14.52912323],\n",
              "       [18.6667951 ],\n",
              "       [18.66124863],\n",
              "       [ 9.94218671],\n",
              "       [21.46776601],\n",
              "       [20.24754106],\n",
              "       [12.67105342],\n",
              "       [14.2462529 ],\n",
              "       [10.80189065],\n",
              "       [ 8.72196176],\n",
              "       [14.70106401],\n",
              "       [20.142158  ],\n",
              "       [18.99958373],\n",
              "       [18.01785729],\n",
              "       [13.06485329],\n",
              "       [ 8.46127734],\n",
              "       [14.15196279],\n",
              "       [18.81100351],\n",
              "       [ 7.91217611],\n",
              "       [ 8.50010268],\n",
              "       [13.65832633],\n",
              "       [ 7.27433125],\n",
              "       [13.40873486],\n",
              "       [11.21232995],\n",
              "       [20.27527345],\n",
              "       [11.1513187 ],\n",
              "       [10.76861179],\n",
              "       [18.81654998],\n",
              "       [17.69061514],\n",
              "       [11.20678348],\n",
              "       [13.11477158],\n",
              "       [11.87236072],\n",
              "       [13.06485329],\n",
              "       [14.42374016],\n",
              "       [ 8.56111392],\n",
              "       [19.04950202],\n",
              "       [20.8909324 ],\n",
              "       [12.93173784],\n",
              "       [16.03221851],\n",
              "       [17.93466013],\n",
              "       [17.23025755],\n",
              "       [23.04296549],\n",
              "       [14.47365846],\n",
              "       [19.31018644],\n",
              "       [23.41457946],\n",
              "       [22.51605017],\n",
              "       [17.39665186],\n",
              "       [20.18652981],\n",
              "       [14.62341334],\n",
              "       [ 8.36144075],\n",
              "       [11.98883674],\n",
              "       [ 7.70140998],\n",
              "       [21.14052387],\n",
              "       [19.49876666],\n",
              "       [20.38065651],\n",
              "       [16.71998166],\n",
              "       [18.60023738],\n",
              "       [11.31216654],\n",
              "       [11.14022575],\n",
              "       [14.69551754],\n",
              "       [11.21232995],\n",
              "       [13.94674314],\n",
              "       [ 8.05083804],\n",
              "       [14.81199356],\n",
              "       [ 8.01755917],\n",
              "       [19.39893007],\n",
              "       [13.80253473],\n",
              "       [19.70398631],\n",
              "       [11.81134947],\n",
              "       [ 7.4074467 ],\n",
              "       [11.42309608],\n",
              "       [19.19371042],\n",
              "       [10.28052181],\n",
              "       [ 7.01364683],\n",
              "       [21.68407862],\n",
              "       [ 7.44072556],\n",
              "       [19.16597804],\n",
              "       [ 9.02147152],\n",
              "       [ 9.6537699 ],\n",
              "       [ 8.39471961],\n",
              "       [22.15552917],\n",
              "       [ 9.35980662],\n",
              "       [17.23025755],\n",
              "       [11.04593564],\n",
              "       [17.71834753],\n",
              "       [19.20480338],\n",
              "       [12.77643648],\n",
              "       [12.31053241],\n",
              "       [14.75652879],\n",
              "       [20.29191288],\n",
              "       [20.46385367],\n",
              "       [ 9.08248277],\n",
              "       [ 9.45409673],\n",
              "       [22.54378256],\n",
              "       [13.68605872],\n",
              "       [17.93466013],\n",
              "       [16.47593667],\n",
              "       [17.39110538],\n",
              "       [ 7.20222705],\n",
              "       [12.18296344],\n",
              "       [15.2834441 ],\n",
              "       [ 7.6237593 ],\n",
              "       [14.27953176],\n",
              "       [16.54249439],\n",
              "       [11.72815232],\n",
              "       [17.42438424],\n",
              "       [16.04331146],\n",
              "       [13.47529259],\n",
              "       [19.98131016],\n",
              "       [ 7.96764088],\n",
              "       [18.44493602],\n",
              "       [18.92193305],\n",
              "       [22.74345573],\n",
              "       [ 9.74806001],\n",
              "       [16.09877623],\n",
              "       [ 8.06193099],\n",
              "       [16.31508884],\n",
              "       [19.31018644],\n",
              "       [22.33301643],\n",
              "       [20.75227047],\n",
              "       [16.41492542],\n",
              "       [22.32192348],\n",
              "       [16.15978748],\n",
              "       [15.66060454],\n",
              "       [19.09387384],\n",
              "       [10.09194159],\n",
              "       [22.92648948],\n",
              "       [21.05178023],\n",
              "       [18.34509943],\n",
              "       [14.71215697],\n",
              "       [17.57413912],\n",
              "       [22.83774584],\n",
              "       [ 8.0120127 ],\n",
              "       [ 9.16567992],\n",
              "       [11.16241166],\n",
              "       [ 7.92881554],\n",
              "       [16.2263452 ],\n",
              "       [15.27789763],\n",
              "       [ 9.09357572],\n",
              "       [12.19960287],\n",
              "       [16.79208586],\n",
              "       [22.70463039],\n",
              "       [19.84819471]])"
            ]
          },
          "metadata": {},
          "execution_count": 159
        }
      ]
    },
    {
      "cell_type": "code",
      "source": [
        "mean_squared_error(y, y_pred) #Ortalama hata."
      ],
      "metadata": {
        "colab": {
          "base_uri": "https://localhost:8080/"
        },
        "id": "arNjxHdDiBDK",
        "outputId": "74f1b197-a2a3-4370-9cea-1a5b115547d5"
      },
      "execution_count": null,
      "outputs": [
        {
          "output_type": "execute_result",
          "data": {
            "text/plain": [
              "5.2177438977951285"
            ]
          },
          "metadata": {},
          "execution_count": 160
        }
      ]
    },
    {
      "cell_type": "code",
      "source": [
        "#Bu değerin yüksek olup olmadığını bilmiyoruz.\n",
        "# Olabildiğince küçük tutmak istediğimizden\n",
        "y.mean() #ortalamasını"
      ],
      "metadata": {
        "colab": {
          "base_uri": "https://localhost:8080/"
        },
        "id": "aGmzbXDNiGME",
        "outputId": "dbb53bd4-c1f4-41b1-d36a-b703e588404a"
      },
      "execution_count": null,
      "outputs": [
        {
          "output_type": "execute_result",
          "data": {
            "text/plain": [
              "Sales   15.13\n",
              "dtype: float64"
            ]
          },
          "metadata": {},
          "execution_count": 161
        }
      ]
    },
    {
      "cell_type": "code",
      "source": [
        "#ve standart sapmasını alıyoruz.\n",
        "y.std() "
      ],
      "metadata": {
        "colab": {
          "base_uri": "https://localhost:8080/"
        },
        "id": "cnxurgIgjx6d",
        "outputId": "dce3d946-53ab-454d-f7ba-5c2b34bf268e"
      },
      "execution_count": null,
      "outputs": [
        {
          "output_type": "execute_result",
          "data": {
            "text/plain": [
              "Sales   5.28\n",
              "dtype: float64"
            ]
          },
          "metadata": {},
          "execution_count": 162
        }
      ]
    },
    {
      "cell_type": "code",
      "source": [
        "# Ortalamamız 15 birim, hata oranımız 5 birim yeteri kadar küçük görünüyor,\n",
        "# ama yine de daha da düşürebilir miyiz diye incelememiz gerekebilir.\n",
        "#RMSE hesabı yapalım\n",
        "np.sqrt(mean_squared_error(y, y_pred))"
      ],
      "metadata": {
        "colab": {
          "base_uri": "https://localhost:8080/"
        },
        "id": "s2Ogv0Aaj1b4",
        "outputId": "ab7d671a-ec02-450c-f15a-9f0f08d254ca"
      },
      "execution_count": null,
      "outputs": [
        {
          "output_type": "execute_result",
          "data": {
            "text/plain": [
              "2.2842381438447106"
            ]
          },
          "metadata": {},
          "execution_count": 163
        }
      ]
    },
    {
      "cell_type": "code",
      "source": [
        "#MAE değerine bakalım\n",
        "mean_absolute_error(y, y_pred)"
      ],
      "metadata": {
        "colab": {
          "base_uri": "https://localhost:8080/"
        },
        "id": "1iBJJfDWkmDf",
        "outputId": "5814beec-2c51-41cb-bef4-1d478f15f73f"
      },
      "execution_count": null,
      "outputs": [
        {
          "output_type": "execute_result",
          "data": {
            "text/plain": [
              "1.8305872641932412"
            ]
          },
          "metadata": {},
          "execution_count": 164
        }
      ]
    },
    {
      "cell_type": "markdown",
      "source": [
        "#Metrikleri birbiriyle değil, modelde bir değişiklik yaptıktan sonra tekrar bakacağımız metriklerle karşılaştırmalıyız.\n",
        "# Mesela ilk baktığımız MSE ile daha sonra bakacağımız MSE skoruyla karşılaştırmalıyız.\n",
        "# MSE = 5.2177438977951285\n",
        "# RMSE = 2.2842381438447106\n",
        "# MAE = 1.8305872641932412"
      ],
      "metadata": {
        "id": "YtHQlOjfmOM4"
      }
    },
    {
      "cell_type": "code",
      "source": [
        "# R-KARE -> Doğrusal regresyon modellerinde, veri setindeki bağımsız değişkenlerin bağımlı değişkeni açıklama yüzdesidir.\n",
        "# Biz şimdilik tv yi göz önüne aldığımızdan, tv değişkeninin sale değişkenini açıklama yüzdesidir.\n",
        "reg_model.score(X, y)"
      ],
      "metadata": {
        "colab": {
          "base_uri": "https://localhost:8080/"
        },
        "id": "6ME8I8_Vkyt0",
        "outputId": "73867035-2f95-4558-a0da-a968746e51f5"
      },
      "execution_count": null,
      "outputs": [
        {
          "output_type": "execute_result",
          "data": {
            "text/plain": [
              "0.8121757029987414"
            ]
          },
          "metadata": {},
          "execution_count": 165
        }
      ]
    },
    {
      "cell_type": "markdown",
      "source": [
        "# R-KARE = 0.8121757029987414\n"
      ],
      "metadata": {
        "id": "WOcLgYy6m-mQ"
      }
    },
    {
      "cell_type": "markdown",
      "source": [
        "# Multiple Linear Regression (ÇOKLU)"
      ],
      "metadata": {
        "id": "6Xj2pCCknsQP"
      }
    },
    {
      "cell_type": "code",
      "source": [
        "df = pd.read_csv(\"advertising.csv\")\n",
        "df"
      ],
      "metadata": {
        "colab": {
          "base_uri": "https://localhost:8080/",
          "height": 424
        },
        "id": "8mTCw3p8maUq",
        "outputId": "25357d9e-88c7-441e-e4ea-1a5f693ca264"
      },
      "execution_count": null,
      "outputs": [
        {
          "output_type": "execute_result",
          "data": {
            "text/plain": [
              "        TV  Radio  Newspaper  Sales\n",
              "0   230.10  37.80      69.20  22.10\n",
              "1    44.50  39.30      45.10  10.40\n",
              "2    17.20  45.90      69.30  12.00\n",
              "3   151.50  41.30      58.50  16.50\n",
              "4   180.80  10.80      58.40  17.90\n",
              "..     ...    ...        ...    ...\n",
              "195  38.20   3.70      13.80   7.60\n",
              "196  94.20   4.90       8.10  14.00\n",
              "197 177.00   9.30       6.40  14.80\n",
              "198 283.60  42.00      66.20  25.50\n",
              "199 232.10   8.60       8.70  18.40\n",
              "\n",
              "[200 rows x 4 columns]"
            ],
            "text/html": [
              "\n",
              "  <div id=\"df-ed68e719-e575-4399-8c28-c43a7a74ee09\">\n",
              "    <div class=\"colab-df-container\">\n",
              "      <div>\n",
              "<style scoped>\n",
              "    .dataframe tbody tr th:only-of-type {\n",
              "        vertical-align: middle;\n",
              "    }\n",
              "\n",
              "    .dataframe tbody tr th {\n",
              "        vertical-align: top;\n",
              "    }\n",
              "\n",
              "    .dataframe thead th {\n",
              "        text-align: right;\n",
              "    }\n",
              "</style>\n",
              "<table border=\"1\" class=\"dataframe\">\n",
              "  <thead>\n",
              "    <tr style=\"text-align: right;\">\n",
              "      <th></th>\n",
              "      <th>TV</th>\n",
              "      <th>Radio</th>\n",
              "      <th>Newspaper</th>\n",
              "      <th>Sales</th>\n",
              "    </tr>\n",
              "  </thead>\n",
              "  <tbody>\n",
              "    <tr>\n",
              "      <th>0</th>\n",
              "      <td>230.10</td>\n",
              "      <td>37.80</td>\n",
              "      <td>69.20</td>\n",
              "      <td>22.10</td>\n",
              "    </tr>\n",
              "    <tr>\n",
              "      <th>1</th>\n",
              "      <td>44.50</td>\n",
              "      <td>39.30</td>\n",
              "      <td>45.10</td>\n",
              "      <td>10.40</td>\n",
              "    </tr>\n",
              "    <tr>\n",
              "      <th>2</th>\n",
              "      <td>17.20</td>\n",
              "      <td>45.90</td>\n",
              "      <td>69.30</td>\n",
              "      <td>12.00</td>\n",
              "    </tr>\n",
              "    <tr>\n",
              "      <th>3</th>\n",
              "      <td>151.50</td>\n",
              "      <td>41.30</td>\n",
              "      <td>58.50</td>\n",
              "      <td>16.50</td>\n",
              "    </tr>\n",
              "    <tr>\n",
              "      <th>4</th>\n",
              "      <td>180.80</td>\n",
              "      <td>10.80</td>\n",
              "      <td>58.40</td>\n",
              "      <td>17.90</td>\n",
              "    </tr>\n",
              "    <tr>\n",
              "      <th>...</th>\n",
              "      <td>...</td>\n",
              "      <td>...</td>\n",
              "      <td>...</td>\n",
              "      <td>...</td>\n",
              "    </tr>\n",
              "    <tr>\n",
              "      <th>195</th>\n",
              "      <td>38.20</td>\n",
              "      <td>3.70</td>\n",
              "      <td>13.80</td>\n",
              "      <td>7.60</td>\n",
              "    </tr>\n",
              "    <tr>\n",
              "      <th>196</th>\n",
              "      <td>94.20</td>\n",
              "      <td>4.90</td>\n",
              "      <td>8.10</td>\n",
              "      <td>14.00</td>\n",
              "    </tr>\n",
              "    <tr>\n",
              "      <th>197</th>\n",
              "      <td>177.00</td>\n",
              "      <td>9.30</td>\n",
              "      <td>6.40</td>\n",
              "      <td>14.80</td>\n",
              "    </tr>\n",
              "    <tr>\n",
              "      <th>198</th>\n",
              "      <td>283.60</td>\n",
              "      <td>42.00</td>\n",
              "      <td>66.20</td>\n",
              "      <td>25.50</td>\n",
              "    </tr>\n",
              "    <tr>\n",
              "      <th>199</th>\n",
              "      <td>232.10</td>\n",
              "      <td>8.60</td>\n",
              "      <td>8.70</td>\n",
              "      <td>18.40</td>\n",
              "    </tr>\n",
              "  </tbody>\n",
              "</table>\n",
              "<p>200 rows × 4 columns</p>\n",
              "</div>\n",
              "      <button class=\"colab-df-convert\" onclick=\"convertToInteractive('df-ed68e719-e575-4399-8c28-c43a7a74ee09')\"\n",
              "              title=\"Convert this dataframe to an interactive table.\"\n",
              "              style=\"display:none;\">\n",
              "        \n",
              "  <svg xmlns=\"http://www.w3.org/2000/svg\" height=\"24px\"viewBox=\"0 0 24 24\"\n",
              "       width=\"24px\">\n",
              "    <path d=\"M0 0h24v24H0V0z\" fill=\"none\"/>\n",
              "    <path d=\"M18.56 5.44l.94 2.06.94-2.06 2.06-.94-2.06-.94-.94-2.06-.94 2.06-2.06.94zm-11 1L8.5 8.5l.94-2.06 2.06-.94-2.06-.94L8.5 2.5l-.94 2.06-2.06.94zm10 10l.94 2.06.94-2.06 2.06-.94-2.06-.94-.94-2.06-.94 2.06-2.06.94z\"/><path d=\"M17.41 7.96l-1.37-1.37c-.4-.4-.92-.59-1.43-.59-.52 0-1.04.2-1.43.59L10.3 9.45l-7.72 7.72c-.78.78-.78 2.05 0 2.83L4 21.41c.39.39.9.59 1.41.59.51 0 1.02-.2 1.41-.59l7.78-7.78 2.81-2.81c.8-.78.8-2.07 0-2.86zM5.41 20L4 18.59l7.72-7.72 1.47 1.35L5.41 20z\"/>\n",
              "  </svg>\n",
              "      </button>\n",
              "      \n",
              "  <style>\n",
              "    .colab-df-container {\n",
              "      display:flex;\n",
              "      flex-wrap:wrap;\n",
              "      gap: 12px;\n",
              "    }\n",
              "\n",
              "    .colab-df-convert {\n",
              "      background-color: #E8F0FE;\n",
              "      border: none;\n",
              "      border-radius: 50%;\n",
              "      cursor: pointer;\n",
              "      display: none;\n",
              "      fill: #1967D2;\n",
              "      height: 32px;\n",
              "      padding: 0 0 0 0;\n",
              "      width: 32px;\n",
              "    }\n",
              "\n",
              "    .colab-df-convert:hover {\n",
              "      background-color: #E2EBFA;\n",
              "      box-shadow: 0px 1px 2px rgba(60, 64, 67, 0.3), 0px 1px 3px 1px rgba(60, 64, 67, 0.15);\n",
              "      fill: #174EA6;\n",
              "    }\n",
              "\n",
              "    [theme=dark] .colab-df-convert {\n",
              "      background-color: #3B4455;\n",
              "      fill: #D2E3FC;\n",
              "    }\n",
              "\n",
              "    [theme=dark] .colab-df-convert:hover {\n",
              "      background-color: #434B5C;\n",
              "      box-shadow: 0px 1px 3px 1px rgba(0, 0, 0, 0.15);\n",
              "      filter: drop-shadow(0px 1px 2px rgba(0, 0, 0, 0.3));\n",
              "      fill: #FFFFFF;\n",
              "    }\n",
              "  </style>\n",
              "\n",
              "      <script>\n",
              "        const buttonEl =\n",
              "          document.querySelector('#df-ed68e719-e575-4399-8c28-c43a7a74ee09 button.colab-df-convert');\n",
              "        buttonEl.style.display =\n",
              "          google.colab.kernel.accessAllowed ? 'block' : 'none';\n",
              "\n",
              "        async function convertToInteractive(key) {\n",
              "          const element = document.querySelector('#df-ed68e719-e575-4399-8c28-c43a7a74ee09');\n",
              "          const dataTable =\n",
              "            await google.colab.kernel.invokeFunction('convertToInteractive',\n",
              "                                                     [key], {});\n",
              "          if (!dataTable) return;\n",
              "\n",
              "          const docLinkHtml = 'Like what you see? Visit the ' +\n",
              "            '<a target=\"_blank\" href=https://colab.research.google.com/notebooks/data_table.ipynb>data table notebook</a>'\n",
              "            + ' to learn more about interactive tables.';\n",
              "          element.innerHTML = '';\n",
              "          dataTable['output_type'] = 'display_data';\n",
              "          await google.colab.output.renderOutput(dataTable, element);\n",
              "          const docLink = document.createElement('div');\n",
              "          docLink.innerHTML = docLinkHtml;\n",
              "          element.appendChild(docLink);\n",
              "        }\n",
              "      </script>\n",
              "    </div>\n",
              "  </div>\n",
              "  "
            ]
          },
          "metadata": {},
          "execution_count": 166
        }
      ]
    },
    {
      "cell_type": "code",
      "source": [
        "X = df.drop(\"Sales\", axis = 1)\n",
        "y = df[[\"Sales\"]]"
      ],
      "metadata": {
        "id": "JesTxy6kn5RD"
      },
      "execution_count": null,
      "outputs": []
    },
    {
      "cell_type": "code",
      "source": [
        "# Model\n",
        "X_train, X_test, y_train, y_test = train_test_split(X, \n",
        "                                                    y,\n",
        "                                                    test_size=0.20, #test boyutu %20\n",
        "                                                    random_state = 1)\n",
        "X_train.shape #bağımsız yani tv, radio, newspaper değişkenleri"
      ],
      "metadata": {
        "colab": {
          "base_uri": "https://localhost:8080/"
        },
        "id": "5jmh0foRoBEs",
        "outputId": "19419c58-3be6-49f0-c28b-7a7794e11b1c"
      },
      "execution_count": null,
      "outputs": [
        {
          "output_type": "execute_result",
          "data": {
            "text/plain": [
              "(160, 3)"
            ]
          },
          "metadata": {},
          "execution_count": 168
        }
      ]
    },
    {
      "cell_type": "code",
      "source": [
        "y_train.shape #bağımlı yani sales değişkeni"
      ],
      "metadata": {
        "colab": {
          "base_uri": "https://localhost:8080/"
        },
        "id": "SMx_iIMso5Cy",
        "outputId": "c4e8c563-bec6-4e12-8879-6932208cc4dd"
      },
      "execution_count": null,
      "outputs": [
        {
          "output_type": "execute_result",
          "data": {
            "text/plain": [
              "(160, 1)"
            ]
          },
          "metadata": {},
          "execution_count": 169
        }
      ]
    },
    {
      "cell_type": "code",
      "source": [
        "X_test.shape #%20 lik kısım"
      ],
      "metadata": {
        "colab": {
          "base_uri": "https://localhost:8080/"
        },
        "id": "1XvdP-8Yo6vM",
        "outputId": "4213c51d-a220-4e3b-f97d-639d8bb9fcb9"
      },
      "execution_count": null,
      "outputs": [
        {
          "output_type": "execute_result",
          "data": {
            "text/plain": [
              "(40, 3)"
            ]
          },
          "metadata": {},
          "execution_count": 170
        }
      ]
    },
    {
      "cell_type": "code",
      "source": [
        "y_test.shape #%20 lik kısım"
      ],
      "metadata": {
        "colab": {
          "base_uri": "https://localhost:8080/"
        },
        "id": "1LHCjki8pHYw",
        "outputId": "d88405bd-2e02-498e-d7ad-78c7fa237d65"
      },
      "execution_count": null,
      "outputs": [
        {
          "output_type": "execute_result",
          "data": {
            "text/plain": [
              "(40, 1)"
            ]
          },
          "metadata": {},
          "execution_count": 171
        }
      ]
    },
    {
      "cell_type": "code",
      "source": [
        "reg_model = LinearRegression().fit(X_train, y_train)"
      ],
      "metadata": {
        "id": "sRAyUvXypJAC"
      },
      "execution_count": null,
      "outputs": []
    },
    {
      "cell_type": "code",
      "source": [
        "#Sabitini b sini alalım. (b-> bias)\n",
        "b = reg_model.intercept_[0]\n",
        "b"
      ],
      "metadata": {
        "colab": {
          "base_uri": "https://localhost:8080/"
        },
        "id": "BtreTQq1pgNc",
        "outputId": "be24a510-6426-44ff-93ab-af9ad1ee6c8b"
      },
      "execution_count": null,
      "outputs": [
        {
          "output_type": "execute_result",
          "data": {
            "text/plain": [
              "4.63762444239792"
            ]
          },
          "metadata": {},
          "execution_count": 173
        }
      ]
    },
    {
      "cell_type": "code",
      "source": [
        "# Ağırlığını (weight) alalım\n",
        "weight = reg_model.coef_\n",
        "weight"
      ],
      "metadata": {
        "colab": {
          "base_uri": "https://localhost:8080/"
        },
        "id": "GX3I8UWpp0uJ",
        "outputId": "3779b1ac-bbdc-466c-9c3c-e33d9ef0e4ab"
      },
      "execution_count": null,
      "outputs": [
        {
          "output_type": "execute_result",
          "data": {
            "text/plain": [
              "array([[ 0.05507865,  0.10308563, -0.00090115]])"
            ]
          },
          "metadata": {},
          "execution_count": 174
        }
      ]
    },
    {
      "cell_type": "code",
      "source": [
        "# TV :30\n",
        "# radio :10\n",
        "# newspaper : 40\n",
        "# b + w*x\n",
        "tahmini_sales = b + weight[0][0]*30 + weight[0][1]*10 + weight[0][2]*40\n",
        "tahmini_sales"
      ],
      "metadata": {
        "colab": {
          "base_uri": "https://localhost:8080/"
        },
        "id": "34HWiUhEp5uy",
        "outputId": "184ebcef-41d9-4781-9bf7-0fc3e399d40e"
      },
      "execution_count": null,
      "outputs": [
        {
          "output_type": "execute_result",
          "data": {
            "text/plain": [
              "7.2847943502867105"
            ]
          },
          "metadata": {},
          "execution_count": 175
        }
      ]
    },
    {
      "cell_type": "code",
      "source": [
        "#fonksiyonlaştıralım:\n",
        "degerler=[[30],[10],[40]]\n",
        "degerler= pd.DataFrame(degerler).T\n",
        "tahmini_sales2 = reg_model.predict(degerler)\n",
        "tahmini_sales2"
      ],
      "metadata": {
        "colab": {
          "base_uri": "https://localhost:8080/"
        },
        "id": "eYGlkg4Hq5dL",
        "outputId": "f477841f-cb11-4558-a802-57d36b2af02a"
      },
      "execution_count": null,
      "outputs": [
        {
          "output_type": "stream",
          "name": "stderr",
          "text": [
            "/usr/local/lib/python3.7/dist-packages/sklearn/base.py:451: UserWarning: X does not have valid feature names, but LinearRegression was fitted with feature names\n",
            "  \"X does not have valid feature names, but\"\n"
          ]
        },
        {
          "output_type": "execute_result",
          "data": {
            "text/plain": [
              "array([[7.28479435]])"
            ]
          },
          "metadata": {},
          "execution_count": 176
        }
      ]
    },
    {
      "cell_type": "code",
      "source": [
        "#Tahmin Başarısı Değerlendirme\n",
        "# Train RMSE\n",
        "y_pred = reg_model.predict(X_train)\n",
        "np.sqrt(mean_squared_error(y_train, y_pred))"
      ],
      "metadata": {
        "colab": {
          "base_uri": "https://localhost:8080/"
        },
        "id": "A9xqzzUEspSb",
        "outputId": "34da6615-4f73-4641-dd28-858029dc9066"
      },
      "execution_count": null,
      "outputs": [
        {
          "output_type": "execute_result",
          "data": {
            "text/plain": [
              "1.6704413245680072"
            ]
          },
          "metadata": {},
          "execution_count": 177
        }
      ]
    },
    {
      "cell_type": "code",
      "source": [
        "#Train RKARE-> bağımsız değişkenlerin bağımlı değişkenleri etkileme, açıklama oranıdır.\n",
        "#Yeni değerler ekleyince açıklama oranımız yükseldi. Başarı arttı. Bir önceki değer 0.8121757029987414\n",
        "reg_model.score(X_train, y_train)"
      ],
      "metadata": {
        "colab": {
          "base_uri": "https://localhost:8080/"
        },
        "id": "g9A-ucVttg5u",
        "outputId": "8a07fd71-66d0-43c3-c01c-d15d8dda872b"
      },
      "execution_count": null,
      "outputs": [
        {
          "output_type": "execute_result",
          "data": {
            "text/plain": [
              "0.905486333977187"
            ]
          },
          "metadata": {},
          "execution_count": 178
        }
      ]
    },
    {
      "cell_type": "code",
      "source": [
        "# Test RMSE\n",
        "#Predict metodu tahmin etmek için kullanılır.\n",
        "# Train hatamız = Train RMSE = 1.6704413245680072\n",
        "#Normalde test hatası train hatasından daha yüksek çıkar.\n",
        "# Burada ise tam tersi, beklentidışı ve güzel bir durum.\n",
        "y_pred = reg_model.predict(X_test)\n",
        "np.sqrt(mean_squared_error(y_test, y_pred))"
      ],
      "metadata": {
        "colab": {
          "base_uri": "https://localhost:8080/"
        },
        "id": "NqwDSZRvt3tm",
        "outputId": "3c59b541-6062-464e-fdf6-443c6e5f7bfb"
      },
      "execution_count": null,
      "outputs": [
        {
          "output_type": "execute_result",
          "data": {
            "text/plain": [
              "1.552202825951676"
            ]
          },
          "metadata": {},
          "execution_count": 179
        }
      ]
    },
    {
      "cell_type": "code",
      "source": [
        "#Bir önceki rkare değeri -> R-KARE = 0.8121757029987414\n",
        "#Test için RKARE : Yani veri setindeki bağımsız değişkenlerin bağımlı değişkeni açıklama yüzzdesi %88 civarında\n",
        "#Bir önceki rkare ye oranla bir tık daha yüksek.\n",
        "reg_model.score(X_test, y_test)"
      ],
      "metadata": {
        "colab": {
          "base_uri": "https://localhost:8080/"
        },
        "id": "WSjYY8jEu2j9",
        "outputId": "682e12d9-88ef-45b6-d51b-526155824180"
      },
      "execution_count": null,
      "outputs": [
        {
          "output_type": "execute_result",
          "data": {
            "text/plain": [
              "0.8747226291661847"
            ]
          },
          "metadata": {},
          "execution_count": 180
        }
      ]
    },
    {
      "cell_type": "code",
      "source": [
        "# 10 Katlı CV RMSE\n",
        "np.mean(np.sqrt(-cross_val_score(reg_model,\n",
        "                                 X,#bütün veri\n",
        "                                 y,\n",
        "                                 cv = 10,#train veri setimiz zaten küçük olduğundan train üzerinde kullanmamayı tercih ediyoruz.\n",
        "                                 scoring = \"neg_mean_squared_error\")))#negatif ortalama hatayı veriyor bu yüzden cross_val önüne - koyduk."
      ],
      "metadata": {
        "colab": {
          "base_uri": "https://localhost:8080/"
        },
        "id": "6mLMm9KtvvOK",
        "outputId": "4662f53f-6ece-4e7a-a45b-3e2c6ede2872"
      },
      "execution_count": null,
      "outputs": [
        {
          "output_type": "execute_result",
          "data": {
            "text/plain": [
              "1.658502109162588"
            ]
          },
          "metadata": {},
          "execution_count": 181
        }
      ]
    },
    {
      "cell_type": "markdown",
      "source": [
        "# 10 Katlı CV RMSE = 1.658502109162588"
      ],
      "metadata": {
        "id": "2CXUWrCKx5qz"
      }
    },
    {
      "cell_type": "code",
      "source": [
        "# Veri setimiz küçük olduğundan 5 katlı cv de tercih edilebilirdi. Çok bir fark olmayacaktır.\n",
        "np.mean(np.sqrt(-cross_val_score(reg_model,\n",
        "                                 X,#bütün veri\n",
        "                                 y,\n",
        "                                 cv = 5,\n",
        "                                 scoring = \"neg_mean_squared_error\")))"
      ],
      "metadata": {
        "colab": {
          "base_uri": "https://localhost:8080/"
        },
        "id": "KzA9lnmSxukC",
        "outputId": "55440fad-49bf-41d9-f0be-28dd7595aa07"
      },
      "execution_count": null,
      "outputs": [
        {
          "output_type": "execute_result",
          "data": {
            "text/plain": [
              "1.6657702460059216"
            ]
          },
          "metadata": {},
          "execution_count": 182
        }
      ]
    }
  ]
}