{
  "nbformat": 4,
  "nbformat_minor": 0,
  "metadata": {
    "colab": {
      "name": "CART.ipynb",
      "provenance": [],
      "collapsed_sections": []
    },
    "kernelspec": {
      "name": "python3",
      "display_name": "Python 3"
    },
    "language_info": {
      "name": "python"
    }
  },
  "cells": [
    {
      "cell_type": "code",
      "source": [
        "!pip install SKompiler"
      ],
      "metadata": {
        "colab": {
          "base_uri": "https://localhost:8080/"
        },
        "id": "UT6BAopKki4a",
        "outputId": "21900c1f-7f4a-41b8-88c2-a0bd7a4f1557"
      },
      "execution_count": null,
      "outputs": [
        {
          "output_type": "stream",
          "name": "stdout",
          "text": [
            "Looking in indexes: https://pypi.org/simple, https://us-python.pkg.dev/colab-wheels/public/simple/\n",
            "Requirement already satisfied: SKompiler in /usr/local/lib/python3.7/dist-packages (0.6)\n",
            "Requirement already satisfied: scikit-learn>=0.22 in /usr/local/lib/python3.7/dist-packages (from SKompiler) (0.23.1)\n",
            "Requirement already satisfied: scipy>=0.19.1 in /usr/local/lib/python3.7/dist-packages (from scikit-learn>=0.22->SKompiler) (1.7.3)\n",
            "Requirement already satisfied: joblib>=0.11 in /usr/local/lib/python3.7/dist-packages (from scikit-learn>=0.22->SKompiler) (1.1.0)\n",
            "Requirement already satisfied: threadpoolctl>=2.0.0 in /usr/local/lib/python3.7/dist-packages (from scikit-learn>=0.22->SKompiler) (3.1.0)\n",
            "Requirement already satisfied: numpy>=1.13.3 in /usr/local/lib/python3.7/dist-packages (from scikit-learn>=0.22->SKompiler) (1.21.6)\n"
          ]
        }
      ]
    },
    {
      "cell_type": "code",
      "execution_count": null,
      "metadata": {
        "id": "HhWiEBTtO7W8"
      },
      "outputs": [],
      "source": [
        "import warnings\n",
        "import joblib\n",
        "import pydotplus\n",
        "import numpy as np\n",
        "import pandas as pd\n",
        "import seaborn as sns\n",
        "from matplotlib import pyplot as plt\n",
        "from sklearn.tree import DecisionTreeClassifier, export_graphviz, export_text\n",
        "from sklearn.metrics import classification_report, roc_auc_score\n",
        "from sklearn.model_selection import train_test_split, GridSearchCV, cross_validate, validation_curve\n",
        "from skompiler import skompile\n",
        "pd.set_option(\"display.max_columns\", None)\n",
        "warnings.simplefilter(action=\"ignore\", category=Warning)"
      ]
    },
    {
      "cell_type": "markdown",
      "source": [
        "# 1. Modelleme"
      ],
      "metadata": {
        "id": "I3vY8pNSk3zI"
      }
    },
    {
      "cell_type": "code",
      "source": [
        "df = pd.read_csv(\"diabetes.csv\")\n",
        "df.head()"
      ],
      "metadata": {
        "colab": {
          "base_uri": "https://localhost:8080/",
          "height": 270
        },
        "id": "v6m_c666kLDh",
        "outputId": "4936864a-8db6-47c7-fdf1-259023986322"
      },
      "execution_count": null,
      "outputs": [
        {
          "output_type": "execute_result",
          "data": {
            "text/plain": [
              "   Pregnancies  Glucose  BloodPressure  SkinThickness  Insulin   BMI  \\\n",
              "0            6      148             72             35        0  33.6   \n",
              "1            1       85             66             29        0  26.6   \n",
              "2            8      183             64              0        0  23.3   \n",
              "3            1       89             66             23       94  28.1   \n",
              "4            0      137             40             35      168  43.1   \n",
              "\n",
              "   DiabetesPedigreeFunction  Age  Outcome  \n",
              "0                     0.627   50        1  \n",
              "1                     0.351   31        0  \n",
              "2                     0.672   32        1  \n",
              "3                     0.167   21        0  \n",
              "4                     2.288   33        1  "
            ],
            "text/html": [
              "\n",
              "  <div id=\"df-52c1fee5-b100-4584-8c79-2444917f07c4\">\n",
              "    <div class=\"colab-df-container\">\n",
              "      <div>\n",
              "<style scoped>\n",
              "    .dataframe tbody tr th:only-of-type {\n",
              "        vertical-align: middle;\n",
              "    }\n",
              "\n",
              "    .dataframe tbody tr th {\n",
              "        vertical-align: top;\n",
              "    }\n",
              "\n",
              "    .dataframe thead th {\n",
              "        text-align: right;\n",
              "    }\n",
              "</style>\n",
              "<table border=\"1\" class=\"dataframe\">\n",
              "  <thead>\n",
              "    <tr style=\"text-align: right;\">\n",
              "      <th></th>\n",
              "      <th>Pregnancies</th>\n",
              "      <th>Glucose</th>\n",
              "      <th>BloodPressure</th>\n",
              "      <th>SkinThickness</th>\n",
              "      <th>Insulin</th>\n",
              "      <th>BMI</th>\n",
              "      <th>DiabetesPedigreeFunction</th>\n",
              "      <th>Age</th>\n",
              "      <th>Outcome</th>\n",
              "    </tr>\n",
              "  </thead>\n",
              "  <tbody>\n",
              "    <tr>\n",
              "      <th>0</th>\n",
              "      <td>6</td>\n",
              "      <td>148</td>\n",
              "      <td>72</td>\n",
              "      <td>35</td>\n",
              "      <td>0</td>\n",
              "      <td>33.6</td>\n",
              "      <td>0.627</td>\n",
              "      <td>50</td>\n",
              "      <td>1</td>\n",
              "    </tr>\n",
              "    <tr>\n",
              "      <th>1</th>\n",
              "      <td>1</td>\n",
              "      <td>85</td>\n",
              "      <td>66</td>\n",
              "      <td>29</td>\n",
              "      <td>0</td>\n",
              "      <td>26.6</td>\n",
              "      <td>0.351</td>\n",
              "      <td>31</td>\n",
              "      <td>0</td>\n",
              "    </tr>\n",
              "    <tr>\n",
              "      <th>2</th>\n",
              "      <td>8</td>\n",
              "      <td>183</td>\n",
              "      <td>64</td>\n",
              "      <td>0</td>\n",
              "      <td>0</td>\n",
              "      <td>23.3</td>\n",
              "      <td>0.672</td>\n",
              "      <td>32</td>\n",
              "      <td>1</td>\n",
              "    </tr>\n",
              "    <tr>\n",
              "      <th>3</th>\n",
              "      <td>1</td>\n",
              "      <td>89</td>\n",
              "      <td>66</td>\n",
              "      <td>23</td>\n",
              "      <td>94</td>\n",
              "      <td>28.1</td>\n",
              "      <td>0.167</td>\n",
              "      <td>21</td>\n",
              "      <td>0</td>\n",
              "    </tr>\n",
              "    <tr>\n",
              "      <th>4</th>\n",
              "      <td>0</td>\n",
              "      <td>137</td>\n",
              "      <td>40</td>\n",
              "      <td>35</td>\n",
              "      <td>168</td>\n",
              "      <td>43.1</td>\n",
              "      <td>2.288</td>\n",
              "      <td>33</td>\n",
              "      <td>1</td>\n",
              "    </tr>\n",
              "  </tbody>\n",
              "</table>\n",
              "</div>\n",
              "      <button class=\"colab-df-convert\" onclick=\"convertToInteractive('df-52c1fee5-b100-4584-8c79-2444917f07c4')\"\n",
              "              title=\"Convert this dataframe to an interactive table.\"\n",
              "              style=\"display:none;\">\n",
              "        \n",
              "  <svg xmlns=\"http://www.w3.org/2000/svg\" height=\"24px\"viewBox=\"0 0 24 24\"\n",
              "       width=\"24px\">\n",
              "    <path d=\"M0 0h24v24H0V0z\" fill=\"none\"/>\n",
              "    <path d=\"M18.56 5.44l.94 2.06.94-2.06 2.06-.94-2.06-.94-.94-2.06-.94 2.06-2.06.94zm-11 1L8.5 8.5l.94-2.06 2.06-.94-2.06-.94L8.5 2.5l-.94 2.06-2.06.94zm10 10l.94 2.06.94-2.06 2.06-.94-2.06-.94-.94-2.06-.94 2.06-2.06.94z\"/><path d=\"M17.41 7.96l-1.37-1.37c-.4-.4-.92-.59-1.43-.59-.52 0-1.04.2-1.43.59L10.3 9.45l-7.72 7.72c-.78.78-.78 2.05 0 2.83L4 21.41c.39.39.9.59 1.41.59.51 0 1.02-.2 1.41-.59l7.78-7.78 2.81-2.81c.8-.78.8-2.07 0-2.86zM5.41 20L4 18.59l7.72-7.72 1.47 1.35L5.41 20z\"/>\n",
              "  </svg>\n",
              "      </button>\n",
              "      \n",
              "  <style>\n",
              "    .colab-df-container {\n",
              "      display:flex;\n",
              "      flex-wrap:wrap;\n",
              "      gap: 12px;\n",
              "    }\n",
              "\n",
              "    .colab-df-convert {\n",
              "      background-color: #E8F0FE;\n",
              "      border: none;\n",
              "      border-radius: 50%;\n",
              "      cursor: pointer;\n",
              "      display: none;\n",
              "      fill: #1967D2;\n",
              "      height: 32px;\n",
              "      padding: 0 0 0 0;\n",
              "      width: 32px;\n",
              "    }\n",
              "\n",
              "    .colab-df-convert:hover {\n",
              "      background-color: #E2EBFA;\n",
              "      box-shadow: 0px 1px 2px rgba(60, 64, 67, 0.3), 0px 1px 3px 1px rgba(60, 64, 67, 0.15);\n",
              "      fill: #174EA6;\n",
              "    }\n",
              "\n",
              "    [theme=dark] .colab-df-convert {\n",
              "      background-color: #3B4455;\n",
              "      fill: #D2E3FC;\n",
              "    }\n",
              "\n",
              "    [theme=dark] .colab-df-convert:hover {\n",
              "      background-color: #434B5C;\n",
              "      box-shadow: 0px 1px 3px 1px rgba(0, 0, 0, 0.15);\n",
              "      filter: drop-shadow(0px 1px 2px rgba(0, 0, 0, 0.3));\n",
              "      fill: #FFFFFF;\n",
              "    }\n",
              "  </style>\n",
              "\n",
              "      <script>\n",
              "        const buttonEl =\n",
              "          document.querySelector('#df-52c1fee5-b100-4584-8c79-2444917f07c4 button.colab-df-convert');\n",
              "        buttonEl.style.display =\n",
              "          google.colab.kernel.accessAllowed ? 'block' : 'none';\n",
              "\n",
              "        async function convertToInteractive(key) {\n",
              "          const element = document.querySelector('#df-52c1fee5-b100-4584-8c79-2444917f07c4');\n",
              "          const dataTable =\n",
              "            await google.colab.kernel.invokeFunction('convertToInteractive',\n",
              "                                                     [key], {});\n",
              "          if (!dataTable) return;\n",
              "\n",
              "          const docLinkHtml = 'Like what you see? Visit the ' +\n",
              "            '<a target=\"_blank\" href=https://colab.research.google.com/notebooks/data_table.ipynb>data table notebook</a>'\n",
              "            + ' to learn more about interactive tables.';\n",
              "          element.innerHTML = '';\n",
              "          dataTable['output_type'] = 'display_data';\n",
              "          await google.colab.output.renderOutput(dataTable, element);\n",
              "          const docLink = document.createElement('div');\n",
              "          docLink.innerHTML = docLinkHtml;\n",
              "          element.appendChild(docLink);\n",
              "        }\n",
              "      </script>\n",
              "    </div>\n",
              "  </div>\n",
              "  "
            ]
          },
          "metadata": {},
          "execution_count": 5
        }
      ]
    },
    {
      "cell_type": "code",
      "source": [
        "y = df[\"Outcome\"]\n",
        "X = df.drop([\"Outcome\"], axis =1)\n",
        "\n",
        "cart_model = DecisionTreeClassifier(random_state =1).fit(X,y)"
      ],
      "metadata": {
        "id": "yv8ivwNUlC0T"
      },
      "execution_count": null,
      "outputs": []
    },
    {
      "cell_type": "code",
      "source": [
        "#Confusion matrix için y_pred:\n",
        "y_pred = cart_model.predict(X)\n",
        "y_pred"
      ],
      "metadata": {
        "colab": {
          "base_uri": "https://localhost:8080/"
        },
        "id": "EWHUI2LWlXzK",
        "outputId": "671c2170-ee20-4115-b367-750b65f9a60d"
      },
      "execution_count": null,
      "outputs": [
        {
          "output_type": "execute_result",
          "data": {
            "text/plain": [
              "array([1, 0, 1, 0, 1, 0, 1, 0, 1, 1, 0, 1, 0, 1, 1, 1, 1, 1, 0, 1, 0, 0,\n",
              "       1, 1, 1, 1, 1, 0, 0, 0, 0, 1, 0, 0, 0, 0, 0, 1, 1, 1, 0, 0, 0, 1,\n",
              "       0, 1, 0, 0, 1, 0, 0, 0, 0, 1, 0, 0, 1, 0, 0, 0, 0, 1, 0, 0, 1, 0,\n",
              "       1, 0, 0, 0, 1, 0, 1, 0, 0, 0, 0, 0, 1, 0, 0, 0, 0, 0, 1, 0, 0, 0,\n",
              "       1, 0, 0, 0, 0, 1, 0, 0, 0, 0, 0, 1, 1, 0, 0, 0, 0, 0, 0, 0, 0, 1,\n",
              "       1, 1, 0, 0, 1, 1, 1, 0, 0, 0, 1, 0, 0, 0, 1, 1, 0, 0, 1, 1, 1, 1,\n",
              "       1, 0, 0, 0, 0, 0, 0, 0, 0, 0, 0, 1, 0, 0, 0, 0, 0, 0, 0, 0, 1, 0,\n",
              "       1, 1, 0, 0, 0, 1, 0, 0, 0, 0, 1, 1, 0, 0, 0, 0, 1, 1, 0, 0, 0, 1,\n",
              "       0, 1, 0, 1, 0, 0, 0, 0, 0, 1, 1, 1, 1, 1, 0, 0, 1, 1, 0, 1, 0, 1,\n",
              "       1, 1, 0, 0, 0, 0, 0, 0, 1, 1, 0, 1, 0, 0, 0, 1, 1, 1, 1, 0, 1, 1,\n",
              "       1, 1, 0, 0, 0, 0, 0, 1, 0, 0, 1, 1, 0, 0, 0, 1, 1, 1, 1, 0, 0, 0,\n",
              "       1, 1, 0, 1, 0, 0, 0, 0, 0, 0, 0, 0, 1, 1, 0, 0, 0, 1, 0, 1, 0, 0,\n",
              "       1, 0, 1, 0, 0, 1, 1, 0, 0, 0, 0, 0, 1, 0, 0, 0, 1, 0, 0, 1, 1, 0,\n",
              "       0, 1, 0, 0, 0, 1, 1, 1, 0, 0, 1, 0, 1, 0, 1, 1, 0, 1, 0, 0, 1, 0,\n",
              "       1, 1, 0, 0, 1, 0, 1, 0, 0, 1, 0, 1, 0, 1, 1, 1, 0, 0, 1, 0, 1, 0,\n",
              "       0, 0, 1, 0, 0, 0, 0, 1, 1, 1, 0, 0, 0, 0, 0, 0, 0, 0, 0, 1, 0, 0,\n",
              "       0, 0, 0, 1, 1, 1, 0, 1, 1, 0, 0, 1, 0, 0, 1, 0, 0, 1, 1, 0, 0, 0,\n",
              "       0, 1, 0, 0, 1, 0, 0, 0, 0, 0, 0, 0, 1, 1, 1, 0, 0, 1, 0, 0, 1, 0,\n",
              "       0, 1, 0, 1, 1, 0, 1, 0, 1, 0, 1, 0, 1, 1, 0, 0, 0, 0, 1, 1, 0, 1,\n",
              "       0, 1, 0, 0, 0, 0, 1, 1, 0, 1, 0, 1, 0, 0, 0, 0, 0, 1, 0, 0, 0, 0,\n",
              "       1, 0, 0, 1, 1, 1, 0, 0, 1, 0, 0, 1, 0, 0, 0, 1, 0, 0, 1, 0, 0, 0,\n",
              "       0, 0, 0, 0, 0, 0, 1, 0, 0, 0, 0, 0, 0, 0, 1, 0, 0, 0, 1, 0, 0, 0,\n",
              "       1, 1, 0, 0, 0, 0, 0, 0, 0, 1, 0, 0, 0, 0, 1, 0, 0, 0, 1, 0, 0, 0,\n",
              "       1, 0, 0, 0, 1, 0, 0, 0, 0, 1, 1, 0, 0, 0, 0, 0, 0, 1, 0, 0, 0, 0,\n",
              "       0, 0, 0, 0, 0, 0, 0, 1, 0, 0, 0, 1, 1, 1, 1, 0, 0, 1, 1, 0, 0, 0,\n",
              "       0, 0, 0, 0, 0, 0, 0, 0, 0, 0, 1, 1, 0, 0, 0, 0, 0, 0, 0, 1, 0, 0,\n",
              "       0, 0, 0, 0, 0, 1, 0, 1, 1, 0, 0, 0, 1, 0, 1, 0, 1, 0, 1, 0, 1, 0,\n",
              "       0, 1, 0, 0, 1, 0, 0, 0, 0, 1, 1, 0, 1, 0, 0, 0, 0, 1, 1, 0, 1, 0,\n",
              "       0, 0, 1, 1, 0, 0, 0, 0, 0, 0, 0, 0, 0, 0, 1, 0, 0, 0, 0, 1, 0, 0,\n",
              "       1, 0, 0, 0, 1, 0, 0, 0, 1, 1, 1, 0, 0, 0, 0, 0, 0, 1, 0, 0, 0, 1,\n",
              "       0, 1, 1, 1, 1, 0, 1, 1, 0, 0, 0, 0, 0, 0, 0, 1, 1, 0, 1, 0, 0, 1,\n",
              "       0, 1, 0, 0, 0, 0, 0, 1, 0, 1, 0, 1, 0, 1, 1, 0, 0, 0, 0, 1, 1, 0,\n",
              "       0, 0, 1, 0, 1, 1, 0, 0, 1, 0, 0, 1, 1, 0, 0, 1, 0, 0, 1, 0, 0, 0,\n",
              "       0, 0, 0, 0, 1, 1, 1, 0, 0, 0, 0, 0, 0, 1, 1, 0, 0, 1, 0, 0, 1, 0,\n",
              "       1, 1, 1, 0, 0, 1, 1, 1, 0, 1, 0, 1, 0, 1, 0, 0, 0, 0, 1, 0])"
            ]
          },
          "metadata": {},
          "execution_count": 7
        }
      ]
    },
    {
      "cell_type": "code",
      "source": [
        "y_prob = cart_model.predict_proba(X)[:,1]\n",
        "y_prob"
      ],
      "metadata": {
        "colab": {
          "base_uri": "https://localhost:8080/"
        },
        "id": "G5sZYwIPlgl5",
        "outputId": "5d29be0c-1fd0-465d-fdd7-6e8379f010c2"
      },
      "execution_count": null,
      "outputs": [
        {
          "output_type": "execute_result",
          "data": {
            "text/plain": [
              "array([1., 0., 1., 0., 1., 0., 1., 0., 1., 1., 0., 1., 0., 1., 1., 1., 1.,\n",
              "       1., 0., 1., 0., 0., 1., 1., 1., 1., 1., 0., 0., 0., 0., 1., 0., 0.,\n",
              "       0., 0., 0., 1., 1., 1., 0., 0., 0., 1., 0., 1., 0., 0., 1., 0., 0.,\n",
              "       0., 0., 1., 0., 0., 1., 0., 0., 0., 0., 1., 0., 0., 1., 0., 1., 0.,\n",
              "       0., 0., 1., 0., 1., 0., 0., 0., 0., 0., 1., 0., 0., 0., 0., 0., 1.,\n",
              "       0., 0., 0., 1., 0., 0., 0., 0., 1., 0., 0., 0., 0., 0., 1., 1., 0.,\n",
              "       0., 0., 0., 0., 0., 0., 0., 1., 1., 1., 0., 0., 1., 1., 1., 0., 0.,\n",
              "       0., 1., 0., 0., 0., 1., 1., 0., 0., 1., 1., 1., 1., 1., 0., 0., 0.,\n",
              "       0., 0., 0., 0., 0., 0., 0., 1., 0., 0., 0., 0., 0., 0., 0., 0., 1.,\n",
              "       0., 1., 1., 0., 0., 0., 1., 0., 0., 0., 0., 1., 1., 0., 0., 0., 0.,\n",
              "       1., 1., 0., 0., 0., 1., 0., 1., 0., 1., 0., 0., 0., 0., 0., 1., 1.,\n",
              "       1., 1., 1., 0., 0., 1., 1., 0., 1., 0., 1., 1., 1., 0., 0., 0., 0.,\n",
              "       0., 0., 1., 1., 0., 1., 0., 0., 0., 1., 1., 1., 1., 0., 1., 1., 1.,\n",
              "       1., 0., 0., 0., 0., 0., 1., 0., 0., 1., 1., 0., 0., 0., 1., 1., 1.,\n",
              "       1., 0., 0., 0., 1., 1., 0., 1., 0., 0., 0., 0., 0., 0., 0., 0., 1.,\n",
              "       1., 0., 0., 0., 1., 0., 1., 0., 0., 1., 0., 1., 0., 0., 1., 1., 0.,\n",
              "       0., 0., 0., 0., 1., 0., 0., 0., 1., 0., 0., 1., 1., 0., 0., 1., 0.,\n",
              "       0., 0., 1., 1., 1., 0., 0., 1., 0., 1., 0., 1., 1., 0., 1., 0., 0.,\n",
              "       1., 0., 1., 1., 0., 0., 1., 0., 1., 0., 0., 1., 0., 1., 0., 1., 1.,\n",
              "       1., 0., 0., 1., 0., 1., 0., 0., 0., 1., 0., 0., 0., 0., 1., 1., 1.,\n",
              "       0., 0., 0., 0., 0., 0., 0., 0., 0., 1., 0., 0., 0., 0., 0., 1., 1.,\n",
              "       1., 0., 1., 1., 0., 0., 1., 0., 0., 1., 0., 0., 1., 1., 0., 0., 0.,\n",
              "       0., 1., 0., 0., 1., 0., 0., 0., 0., 0., 0., 0., 1., 1., 1., 0., 0.,\n",
              "       1., 0., 0., 1., 0., 0., 1., 0., 1., 1., 0., 1., 0., 1., 0., 1., 0.,\n",
              "       1., 1., 0., 0., 0., 0., 1., 1., 0., 1., 0., 1., 0., 0., 0., 0., 1.,\n",
              "       1., 0., 1., 0., 1., 0., 0., 0., 0., 0., 1., 0., 0., 0., 0., 1., 0.,\n",
              "       0., 1., 1., 1., 0., 0., 1., 0., 0., 1., 0., 0., 0., 1., 0., 0., 1.,\n",
              "       0., 0., 0., 0., 0., 0., 0., 0., 0., 1., 0., 0., 0., 0., 0., 0., 0.,\n",
              "       1., 0., 0., 0., 1., 0., 0., 0., 1., 1., 0., 0., 0., 0., 0., 0., 0.,\n",
              "       1., 0., 0., 0., 0., 1., 0., 0., 0., 1., 0., 0., 0., 1., 0., 0., 0.,\n",
              "       1., 0., 0., 0., 0., 1., 1., 0., 0., 0., 0., 0., 0., 1., 0., 0., 0.,\n",
              "       0., 0., 0., 0., 0., 0., 0., 0., 1., 0., 0., 0., 1., 1., 1., 1., 0.,\n",
              "       0., 1., 1., 0., 0., 0., 0., 0., 0., 0., 0., 0., 0., 0., 0., 0., 1.,\n",
              "       1., 0., 0., 0., 0., 0., 0., 0., 1., 0., 0., 0., 0., 0., 0., 0., 1.,\n",
              "       0., 1., 1., 0., 0., 0., 1., 0., 1., 0., 1., 0., 1., 0., 1., 0., 0.,\n",
              "       1., 0., 0., 1., 0., 0., 0., 0., 1., 1., 0., 1., 0., 0., 0., 0., 1.,\n",
              "       1., 0., 1., 0., 0., 0., 1., 1., 0., 0., 0., 0., 0., 0., 0., 0., 0.,\n",
              "       0., 1., 0., 0., 0., 0., 1., 0., 0., 1., 0., 0., 0., 1., 0., 0., 0.,\n",
              "       1., 1., 1., 0., 0., 0., 0., 0., 0., 1., 0., 0., 0., 1., 0., 1., 1.,\n",
              "       1., 1., 0., 1., 1., 0., 0., 0., 0., 0., 0., 0., 1., 1., 0., 1., 0.,\n",
              "       0., 1., 0., 1., 0., 0., 0., 0., 0., 1., 0., 1., 0., 1., 0., 1., 1.,\n",
              "       0., 0., 0., 0., 1., 1., 0., 0., 0., 1., 0., 1., 1., 0., 0., 1., 0.,\n",
              "       0., 1., 1., 0., 0., 1., 0., 0., 1., 0., 0., 0., 0., 0., 0., 0., 1.,\n",
              "       1., 1., 0., 0., 0., 0., 0., 0., 1., 1., 0., 0., 1., 0., 0., 1., 0.,\n",
              "       1., 1., 1., 0., 0., 1., 1., 1., 0., 1., 0., 1., 0., 1., 0., 0., 0.,\n",
              "       0., 1., 0.])"
            ]
          },
          "metadata": {},
          "execution_count": 8
        }
      ]
    },
    {
      "cell_type": "code",
      "source": [
        "print(classification_report(y, y_pred))"
      ],
      "metadata": {
        "colab": {
          "base_uri": "https://localhost:8080/"
        },
        "id": "fgQBrQ2ll486",
        "outputId": "f958b2ac-e7df-41f6-dd91-74da95a5d1ea"
      },
      "execution_count": null,
      "outputs": [
        {
          "output_type": "stream",
          "name": "stdout",
          "text": [
            "              precision    recall  f1-score   support\n",
            "\n",
            "           0       1.00      1.00      1.00       500\n",
            "           1       1.00      1.00      1.00       268\n",
            "\n",
            "    accuracy                           1.00       768\n",
            "   macro avg       1.00      1.00      1.00       768\n",
            "weighted avg       1.00      1.00      1.00       768\n",
            "\n"
          ]
        }
      ]
    },
    {
      "cell_type": "code",
      "source": [
        "#AUC\n",
        "roc_auc_score(y,y_prob)"
      ],
      "metadata": {
        "colab": {
          "base_uri": "https://localhost:8080/"
        },
        "id": "b4WvBZ2DmC91",
        "outputId": "67879d34-d2c6-4f5e-adf9-3df5373b91fd"
      },
      "execution_count": null,
      "outputs": [
        {
          "output_type": "execute_result",
          "data": {
            "text/plain": [
              "1.0"
            ]
          },
          "metadata": {},
          "execution_count": 10
        }
      ]
    },
    {
      "cell_type": "markdown",
      "source": [
        "# **-------------------------PATLADIK-------------------------** "
      ],
      "metadata": {
        "id": "hsy_G-xTmNHc"
      }
    },
    {
      "cell_type": "markdown",
      "source": [
        "# 2. Holdout ile başarı değerlendirelim:"
      ],
      "metadata": {
        "id": "ZHSzhruBmqvT"
      }
    },
    {
      "cell_type": "code",
      "source": [
        "X_train, X_test, y_train, y_test = train_test_split(X, y,\n",
        "                                                    test_size=0.30,\n",
        "                                                    random_state=17)"
      ],
      "metadata": {
        "id": "GLSBuSXDmhu0"
      },
      "execution_count": null,
      "outputs": []
    },
    {
      "cell_type": "code",
      "source": [
        "cart_model = DecisionTreeClassifier(random_state=17).fit(X_train, y_train)"
      ],
      "metadata": {
        "id": "6MDAMKIynCY-"
      },
      "execution_count": null,
      "outputs": []
    },
    {
      "cell_type": "code",
      "source": [
        "#Train Hatası\n",
        "y_pred = cart_model.predict(X_train)\n",
        "y_prob = cart_model.predict_proba(X_train)[:,1]\n",
        "print(classification_report(y_train, y_pred))\n",
        "roc_auc_score(y_train, y_prob)\n"
      ],
      "metadata": {
        "colab": {
          "base_uri": "https://localhost:8080/"
        },
        "id": "u6xTf-EPnPQg",
        "outputId": "dbebae5f-e97d-4e74-f32b-6c9b4acb1852"
      },
      "execution_count": null,
      "outputs": [
        {
          "output_type": "stream",
          "name": "stdout",
          "text": [
            "              precision    recall  f1-score   support\n",
            "\n",
            "           0       1.00      1.00      1.00       350\n",
            "           1       1.00      1.00      1.00       187\n",
            "\n",
            "    accuracy                           1.00       537\n",
            "   macro avg       1.00      1.00      1.00       537\n",
            "weighted avg       1.00      1.00      1.00       537\n",
            "\n"
          ]
        },
        {
          "output_type": "execute_result",
          "data": {
            "text/plain": [
              "1.0"
            ]
          },
          "metadata": {},
          "execution_count": 13
        }
      ]
    },
    {
      "cell_type": "code",
      "source": [
        "#Test Hatası\n",
        "y_pred = cart_model.predict(X_test)\n",
        "y_prob = cart_model.predict_proba(X_test)[:,1]\n",
        "print(classification_report(y_test, y_pred))\n",
        "roc_auc_score(y_test, y_prob)"
      ],
      "metadata": {
        "colab": {
          "base_uri": "https://localhost:8080/"
        },
        "id": "a-ff54Sanzrw",
        "outputId": "e45eacd2-d563-45ee-8ace-730e65e63eec"
      },
      "execution_count": null,
      "outputs": [
        {
          "output_type": "stream",
          "name": "stdout",
          "text": [
            "              precision    recall  f1-score   support\n",
            "\n",
            "           0       0.77      0.78      0.77       150\n",
            "           1       0.58      0.57      0.58        81\n",
            "\n",
            "    accuracy                           0.71       231\n",
            "   macro avg       0.68      0.67      0.67       231\n",
            "weighted avg       0.70      0.71      0.70       231\n",
            "\n"
          ]
        },
        {
          "output_type": "execute_result",
          "data": {
            "text/plain": [
              "0.6739506172839506"
            ]
          },
          "metadata": {},
          "execution_count": 14
        }
      ]
    },
    {
      "cell_type": "markdown",
      "source": [
        "Görüldüğü gibi model göremediği veride patladı. Overfit oldu. Ezbere kaçtı ayıp etti sonra böyle başka veriler görünce eli ayağı oynadı bütün değerler düştü."
      ],
      "metadata": {
        "id": "4pu5NBtKpXSI"
      }
    },
    {
      "cell_type": "code",
      "source": [
        "#Train setini baştan tekrar oluşturalım\n",
        "X_train, X_test, y_train, y_test = train_test_split(X, y,\n",
        "                                                    test_size=0.30,\n",
        "                                                    random_state=45)\n",
        "cart_model = DecisionTreeClassifier(random_state=45).fit(X_train, y_train)\n"
      ],
      "metadata": {
        "id": "4OCS431DoRmS"
      },
      "execution_count": null,
      "outputs": []
    },
    {
      "cell_type": "code",
      "source": [
        "#Ben merak ettim random_state değişince trainde bir farklılık oldu mu diye?\n",
        "#Train Hatası\n",
        "y_pred = cart_model.predict(X_train)\n",
        "y_prob = cart_model.predict_proba(X_train)[:,1]\n",
        "print(classification_report(y_train, y_pred))\n",
        "roc_auc_score(y_train, y_prob)"
      ],
      "metadata": {
        "colab": {
          "base_uri": "https://localhost:8080/"
        },
        "id": "1_0SMBe6qDfR",
        "outputId": "a2171ede-2648-46f8-ea7a-e2b064d0c9a8"
      },
      "execution_count": null,
      "outputs": [
        {
          "output_type": "stream",
          "name": "stdout",
          "text": [
            "              precision    recall  f1-score   support\n",
            "\n",
            "           0       1.00      1.00      1.00       346\n",
            "           1       1.00      1.00      1.00       191\n",
            "\n",
            "    accuracy                           1.00       537\n",
            "   macro avg       1.00      1.00      1.00       537\n",
            "weighted avg       1.00      1.00      1.00       537\n",
            "\n"
          ]
        },
        {
          "output_type": "execute_result",
          "data": {
            "text/plain": [
              "1.0"
            ]
          },
          "metadata": {},
          "execution_count": 16
        }
      ]
    },
    {
      "cell_type": "markdown",
      "source": [
        "Olmamış..."
      ],
      "metadata": {
        "id": "lyVoUErmqPkL"
      }
    },
    {
      "cell_type": "code",
      "source": [
        "#Test Hatalarına baştan tekrar bakıyoruz:\n",
        "y_pred = cart_model.predict(X_test)\n",
        "y_prob = cart_model.predict_proba(X_test)[:,1]\n",
        "print(classification_report(y_test, y_pred))\n",
        "roc_auc_score(y_test, y_prob)"
      ],
      "metadata": {
        "colab": {
          "base_uri": "https://localhost:8080/"
        },
        "id": "aYZJ0mE-qC2_",
        "outputId": "acee0d2b-457d-4c6f-8b55-484c6f4c147f"
      },
      "execution_count": null,
      "outputs": [
        {
          "output_type": "stream",
          "name": "stdout",
          "text": [
            "              precision    recall  f1-score   support\n",
            "\n",
            "           0       0.75      0.78      0.77       154\n",
            "           1       0.53      0.49      0.51        77\n",
            "\n",
            "    accuracy                           0.68       231\n",
            "   macro avg       0.64      0.64      0.64       231\n",
            "weighted avg       0.68      0.68      0.68       231\n",
            "\n"
          ]
        },
        {
          "output_type": "execute_result",
          "data": {
            "text/plain": [
              "0.6363636363636364"
            ]
          },
          "metadata": {},
          "execution_count": 17
        }
      ]
    },
    {
      "cell_type": "markdown",
      "source": [
        "Random_state i değiştirmemiz çok da bir şey ifade etmedi iyileşmedi daha da kötüleşti. Biz de diyoruz ki bu böyle olmaz cross validate yöntemine bakalım."
      ],
      "metadata": {
        "id": "uptu60nHqf0L"
      }
    },
    {
      "cell_type": "markdown",
      "source": [
        "# 3. CV ile başarı değerlendirme:\n"
      ],
      "metadata": {
        "id": "b0KFLPywqyca"
      }
    },
    {
      "cell_type": "code",
      "source": [
        "cart_model = DecisionTreeClassifier(random_state=17).fit(X, y)#buradaki fit yazılmasa da olur. Zaten cv onu dikkate almayarak kendisi tekrardan fit edecektir."
      ],
      "metadata": {
        "id": "taY_HM-5qRo5"
      },
      "execution_count": null,
      "outputs": []
    },
    {
      "cell_type": "code",
      "source": [
        "cv_result = cross_validate(cart_model,X,y,\n",
        "                           cv=5,\n",
        "                           scoring = [ \"accuracy\",\"f1\",\"roc_auc\"])\n",
        "cv_result"
      ],
      "metadata": {
        "colab": {
          "base_uri": "https://localhost:8080/"
        },
        "id": "uT29_13arLPV",
        "outputId": "9e03cd63-f995-4505-88e4-99c69fa79b9b"
      },
      "execution_count": null,
      "outputs": [
        {
          "output_type": "execute_result",
          "data": {
            "text/plain": [
              "{'fit_time': array([0.01704693, 0.00849104, 0.00769925, 0.00849771, 0.00762653]),\n",
              " 'score_time': array([0.00810194, 0.00916672, 0.00981617, 0.01126456, 0.00911117]),\n",
              " 'test_accuracy': array([0.69480519, 0.65584416, 0.66883117, 0.78431373, 0.7254902 ]),\n",
              " 'test_f1': array([0.52525253, 0.56910569, 0.51428571, 0.66666667, 0.58      ]),\n",
              " 'test_roc_auc': array([0.64574074, 0.65407407, 0.63      , 0.74632075, 0.68358491])}"
            ]
          },
          "metadata": {},
          "execution_count": 19
        }
      ]
    },
    {
      "cell_type": "code",
      "source": [
        "cv_result['test_accuracy'].mean()"
      ],
      "metadata": {
        "colab": {
          "base_uri": "https://localhost:8080/"
        },
        "id": "oDA10d9-ro1q",
        "outputId": "832de047-345e-49f8-a776-891e98814c99"
      },
      "execution_count": null,
      "outputs": [
        {
          "output_type": "execute_result",
          "data": {
            "text/plain": [
              "0.7058568882098294"
            ]
          },
          "metadata": {},
          "execution_count": 20
        }
      ]
    },
    {
      "cell_type": "code",
      "source": [
        "cv_result['test_f1'].mean()"
      ],
      "metadata": {
        "colab": {
          "base_uri": "https://localhost:8080/"
        },
        "id": "Naw-XdxJr7NP",
        "outputId": "5ccb3f57-143e-4f1b-ae34-f1a23f2076b8"
      },
      "execution_count": null,
      "outputs": [
        {
          "output_type": "execute_result",
          "data": {
            "text/plain": [
              "0.5710621194523633"
            ]
          },
          "metadata": {},
          "execution_count": 21
        }
      ]
    },
    {
      "cell_type": "code",
      "source": [
        "cv_result['test_roc_auc'].mean()"
      ],
      "metadata": {
        "colab": {
          "base_uri": "https://localhost:8080/"
        },
        "id": "qn3ueWFWr-fZ",
        "outputId": "b044c90b-4d19-477a-cf38-c8d7b723208e"
      },
      "execution_count": null,
      "outputs": [
        {
          "output_type": "execute_result",
          "data": {
            "text/plain": [
              "0.6719440950384347"
            ]
          },
          "metadata": {},
          "execution_count": 22
        }
      ]
    },
    {
      "cell_type": "markdown",
      "source": [
        "CV ile elde ettiğimiz hatalar, başarılar daha güvenilir geliyor :) Her zamanki gibi.\n",
        "Ama bu değerleri iyileştirebiliriz. Yok mu bi hiper parametrelerimizi gözden geçirmek? Var bu arada!"
      ],
      "metadata": {
        "id": "PpbMLmwXsT95"
      }
    },
    {
      "cell_type": "code",
      "source": [
        "cart_model.get_params()"
      ],
      "metadata": {
        "colab": {
          "base_uri": "https://localhost:8080/"
        },
        "id": "SrwNzawYsBhL",
        "outputId": "3c5e6428-6f73-4e27-b9d5-919429c48e22"
      },
      "execution_count": null,
      "outputs": [
        {
          "output_type": "execute_result",
          "data": {
            "text/plain": [
              "{'ccp_alpha': 0.0,\n",
              " 'class_weight': None,\n",
              " 'criterion': 'gini',\n",
              " 'max_depth': None,\n",
              " 'max_features': None,\n",
              " 'max_leaf_nodes': None,\n",
              " 'min_impurity_decrease': 0.0,\n",
              " 'min_impurity_split': None,\n",
              " 'min_samples_leaf': 1,\n",
              " 'min_samples_split': 2,\n",
              " 'min_weight_fraction_leaf': 0.0,\n",
              " 'presort': 'deprecated',\n",
              " 'random_state': 17,\n",
              " 'splitter': 'best'}"
            ]
          },
          "metadata": {},
          "execution_count": 23
        }
      ]
    },
    {
      "cell_type": "markdown",
      "source": [
        "Burada görülen **min_samples_split** = 2 yani 2 tane kalması durumuna göre bölme işlemine karar verebiliyor bu overfite neden olabilir. \n",
        "Aynı zamanda **max_depth** yani derinlik, bir ağacın derinliğinin ne şekilde olması gerektiğiyle alakalı.\n",
        "Bunlar overfitin önüne geçebilecek parametreler. Bu durumları ele alalım ve :"
      ],
      "metadata": {
        "id": "fQ0bSzASwJ88"
      }
    },
    {
      "cell_type": "code",
      "source": [
        "cart_params = {\"max_depth\": range(1,11),\n",
        "               \"min_samples_split\": range(2,20)}\n",
        "\n",
        "#Bu değerleri neye göre belirliyoruz? Ön tanımlı değerleri kontrol ederek buradan bir çıkarım yapabiliriz.\n",
        "cart_best_grid = GridSearchCV(cart_model,\n",
        "                              cart_params,\n",
        "                              cv=5,\n",
        "                              n_jobs=-1,\n",
        "                              verbose=1).fit(X,y)"
      ],
      "metadata": {
        "colab": {
          "base_uri": "https://localhost:8080/"
        },
        "id": "0yzFUH7MwI3B",
        "outputId": "a4bb6c07-6fec-40d6-f4bc-e51097a1e0b0"
      },
      "execution_count": null,
      "outputs": [
        {
          "output_type": "stream",
          "name": "stdout",
          "text": [
            "Fitting 5 folds for each of 180 candidates, totalling 900 fits\n"
          ]
        },
        {
          "output_type": "stream",
          "name": "stderr",
          "text": [
            "[Parallel(n_jobs=-1)]: Using backend LokyBackend with 2 concurrent workers.\n",
            "[Parallel(n_jobs=-1)]: Done 240 tasks      | elapsed:    3.5s\n",
            "[Parallel(n_jobs=-1)]: Done 900 out of 900 | elapsed:   10.0s finished\n"
          ]
        }
      ]
    },
    {
      "cell_type": "code",
      "source": [
        "cart_best_grid.best_params_"
      ],
      "metadata": {
        "colab": {
          "base_uri": "https://localhost:8080/"
        },
        "id": "u3GvGh9Nx-r3",
        "outputId": "df730649-f7d3-4142-95ca-49a2416634a7"
      },
      "execution_count": null,
      "outputs": [
        {
          "output_type": "execute_result",
          "data": {
            "text/plain": [
              "{'max_depth': 5, 'min_samples_split': 4}"
            ]
          },
          "metadata": {},
          "execution_count": 25
        }
      ]
    },
    {
      "cell_type": "code",
      "source": [
        "#Yukarıdaki çıktıda görüleceği gibi max_depth = 5, min_samples_split = 4 bizim best parametrelerimizmiş.\n",
        "#Biz de bu değerlere göre best score u görelim:\n",
        "cart_best_grid.best_score_"
      ],
      "metadata": {
        "colab": {
          "base_uri": "https://localhost:8080/"
        },
        "id": "c5bbNR57ygeb",
        "outputId": "b66c3c29-dcd4-4d4e-98a6-fa690dcad1d4"
      },
      "execution_count": null,
      "outputs": [
        {
          "output_type": "execute_result",
          "data": {
            "text/plain": [
              "0.7500806383159324"
            ]
          },
          "metadata": {},
          "execution_count": 26
        }
      ]
    },
    {
      "cell_type": "markdown",
      "source": [
        "! NOT: Hangi score değerinin (f1,accuracy,auc) iyi olduğu best_score_ ve best_params_ noktalarını bulmak istersek de GridSearchCV içinde scoring=\"f1\", scoring=\"auc\" olarak belirterek de sonuçları bu değerlere göre alabiliriz."
      ],
      "metadata": {
        "id": "tB1tsvQAzbnr"
      }
    },
    {
      "cell_type": "code",
      "source": [
        "#Şimdi rastgele bir gözlem seçelim :\n",
        "random = X.sample(1, random_state = 45)\n",
        "random"
      ],
      "metadata": {
        "colab": {
          "base_uri": "https://localhost:8080/",
          "height": 145
        },
        "id": "KNoVk0cAy2Y_",
        "outputId": "6d5d8d87-28d7-448b-d37d-5947e3ca6fb5"
      },
      "execution_count": null,
      "outputs": [
        {
          "output_type": "execute_result",
          "data": {
            "text/plain": [
              "     Pregnancies  Glucose  BloodPressure  SkinThickness  Insulin   BMI  \\\n",
              "195            5      158             84             41      210  39.4   \n",
              "\n",
              "     DiabetesPedigreeFunction  Age  \n",
              "195                     0.395   29  "
            ],
            "text/html": [
              "\n",
              "  <div id=\"df-9883cf6e-1481-4a2b-b59f-83bee769d053\">\n",
              "    <div class=\"colab-df-container\">\n",
              "      <div>\n",
              "<style scoped>\n",
              "    .dataframe tbody tr th:only-of-type {\n",
              "        vertical-align: middle;\n",
              "    }\n",
              "\n",
              "    .dataframe tbody tr th {\n",
              "        vertical-align: top;\n",
              "    }\n",
              "\n",
              "    .dataframe thead th {\n",
              "        text-align: right;\n",
              "    }\n",
              "</style>\n",
              "<table border=\"1\" class=\"dataframe\">\n",
              "  <thead>\n",
              "    <tr style=\"text-align: right;\">\n",
              "      <th></th>\n",
              "      <th>Pregnancies</th>\n",
              "      <th>Glucose</th>\n",
              "      <th>BloodPressure</th>\n",
              "      <th>SkinThickness</th>\n",
              "      <th>Insulin</th>\n",
              "      <th>BMI</th>\n",
              "      <th>DiabetesPedigreeFunction</th>\n",
              "      <th>Age</th>\n",
              "    </tr>\n",
              "  </thead>\n",
              "  <tbody>\n",
              "    <tr>\n",
              "      <th>195</th>\n",
              "      <td>5</td>\n",
              "      <td>158</td>\n",
              "      <td>84</td>\n",
              "      <td>41</td>\n",
              "      <td>210</td>\n",
              "      <td>39.4</td>\n",
              "      <td>0.395</td>\n",
              "      <td>29</td>\n",
              "    </tr>\n",
              "  </tbody>\n",
              "</table>\n",
              "</div>\n",
              "      <button class=\"colab-df-convert\" onclick=\"convertToInteractive('df-9883cf6e-1481-4a2b-b59f-83bee769d053')\"\n",
              "              title=\"Convert this dataframe to an interactive table.\"\n",
              "              style=\"display:none;\">\n",
              "        \n",
              "  <svg xmlns=\"http://www.w3.org/2000/svg\" height=\"24px\"viewBox=\"0 0 24 24\"\n",
              "       width=\"24px\">\n",
              "    <path d=\"M0 0h24v24H0V0z\" fill=\"none\"/>\n",
              "    <path d=\"M18.56 5.44l.94 2.06.94-2.06 2.06-.94-2.06-.94-.94-2.06-.94 2.06-2.06.94zm-11 1L8.5 8.5l.94-2.06 2.06-.94-2.06-.94L8.5 2.5l-.94 2.06-2.06.94zm10 10l.94 2.06.94-2.06 2.06-.94-2.06-.94-.94-2.06-.94 2.06-2.06.94z\"/><path d=\"M17.41 7.96l-1.37-1.37c-.4-.4-.92-.59-1.43-.59-.52 0-1.04.2-1.43.59L10.3 9.45l-7.72 7.72c-.78.78-.78 2.05 0 2.83L4 21.41c.39.39.9.59 1.41.59.51 0 1.02-.2 1.41-.59l7.78-7.78 2.81-2.81c.8-.78.8-2.07 0-2.86zM5.41 20L4 18.59l7.72-7.72 1.47 1.35L5.41 20z\"/>\n",
              "  </svg>\n",
              "      </button>\n",
              "      \n",
              "  <style>\n",
              "    .colab-df-container {\n",
              "      display:flex;\n",
              "      flex-wrap:wrap;\n",
              "      gap: 12px;\n",
              "    }\n",
              "\n",
              "    .colab-df-convert {\n",
              "      background-color: #E8F0FE;\n",
              "      border: none;\n",
              "      border-radius: 50%;\n",
              "      cursor: pointer;\n",
              "      display: none;\n",
              "      fill: #1967D2;\n",
              "      height: 32px;\n",
              "      padding: 0 0 0 0;\n",
              "      width: 32px;\n",
              "    }\n",
              "\n",
              "    .colab-df-convert:hover {\n",
              "      background-color: #E2EBFA;\n",
              "      box-shadow: 0px 1px 2px rgba(60, 64, 67, 0.3), 0px 1px 3px 1px rgba(60, 64, 67, 0.15);\n",
              "      fill: #174EA6;\n",
              "    }\n",
              "\n",
              "    [theme=dark] .colab-df-convert {\n",
              "      background-color: #3B4455;\n",
              "      fill: #D2E3FC;\n",
              "    }\n",
              "\n",
              "    [theme=dark] .colab-df-convert:hover {\n",
              "      background-color: #434B5C;\n",
              "      box-shadow: 0px 1px 3px 1px rgba(0, 0, 0, 0.15);\n",
              "      filter: drop-shadow(0px 1px 2px rgba(0, 0, 0, 0.3));\n",
              "      fill: #FFFFFF;\n",
              "    }\n",
              "  </style>\n",
              "\n",
              "      <script>\n",
              "        const buttonEl =\n",
              "          document.querySelector('#df-9883cf6e-1481-4a2b-b59f-83bee769d053 button.colab-df-convert');\n",
              "        buttonEl.style.display =\n",
              "          google.colab.kernel.accessAllowed ? 'block' : 'none';\n",
              "\n",
              "        async function convertToInteractive(key) {\n",
              "          const element = document.querySelector('#df-9883cf6e-1481-4a2b-b59f-83bee769d053');\n",
              "          const dataTable =\n",
              "            await google.colab.kernel.invokeFunction('convertToInteractive',\n",
              "                                                     [key], {});\n",
              "          if (!dataTable) return;\n",
              "\n",
              "          const docLinkHtml = 'Like what you see? Visit the ' +\n",
              "            '<a target=\"_blank\" href=https://colab.research.google.com/notebooks/data_table.ipynb>data table notebook</a>'\n",
              "            + ' to learn more about interactive tables.';\n",
              "          element.innerHTML = '';\n",
              "          dataTable['output_type'] = 'display_data';\n",
              "          await google.colab.output.renderOutput(dataTable, element);\n",
              "          const docLink = document.createElement('div');\n",
              "          docLink.innerHTML = docLinkHtml;\n",
              "          element.appendChild(docLink);\n",
              "        }\n",
              "      </script>\n",
              "    </div>\n",
              "  </div>\n",
              "  "
            ]
          },
          "metadata": {},
          "execution_count": 27
        }
      ]
    },
    {
      "cell_type": "code",
      "source": [
        "cart_best_grid.predict(random)"
      ],
      "metadata": {
        "colab": {
          "base_uri": "https://localhost:8080/"
        },
        "id": "yogXdSy00H9y",
        "outputId": "f9c7ea22-232a-4d3c-d01d-31607042748c"
      },
      "execution_count": null,
      "outputs": [
        {
          "output_type": "execute_result",
          "data": {
            "text/plain": [
              "array([1])"
            ]
          },
          "metadata": {},
          "execution_count": 28
        }
      ]
    },
    {
      "cell_type": "markdown",
      "source": [
        "!NOT : GridSearchCV içerisinde en iyi kombinasyona ait modeli tutar, bu model kullanılarak modelleme yapılabilir ancak yine de en iyi parametreler ile bir model kurmak gerekiyor olabilir. Ayrıca bazı işlemlerde bu modelin bazı dezavantajları bulunmaktadır."
      ],
      "metadata": {
        "id": "bdiz_GD70ryf"
      }
    },
    {
      "cell_type": "markdown",
      "source": [
        "#4. Final Model"
      ],
      "metadata": {
        "id": "6lixLB9k1aq-"
      }
    },
    {
      "cell_type": "code",
      "source": [
        "cart_final = DecisionTreeClassifier(**cart_best_grid.best_params_, random_state=17).fit(X,y)"
      ],
      "metadata": {
        "id": "g230qaZ40MQs"
      },
      "execution_count": null,
      "outputs": []
    },
    {
      "cell_type": "code",
      "source": [
        "cart_final.get_params()"
      ],
      "metadata": {
        "colab": {
          "base_uri": "https://localhost:8080/"
        },
        "id": "VCdc2ObP1ulv",
        "outputId": "4e9909fb-89fc-4dfb-c7f1-f50062c66abe"
      },
      "execution_count": null,
      "outputs": [
        {
          "output_type": "execute_result",
          "data": {
            "text/plain": [
              "{'ccp_alpha': 0.0,\n",
              " 'class_weight': None,\n",
              " 'criterion': 'gini',\n",
              " 'max_depth': 5,\n",
              " 'max_features': None,\n",
              " 'max_leaf_nodes': None,\n",
              " 'min_impurity_decrease': 0.0,\n",
              " 'min_impurity_split': None,\n",
              " 'min_samples_leaf': 1,\n",
              " 'min_samples_split': 4,\n",
              " 'min_weight_fraction_leaf': 0.0,\n",
              " 'presort': 'deprecated',\n",
              " 'random_state': 17,\n",
              " 'splitter': 'best'}"
            ]
          },
          "metadata": {},
          "execution_count": 30
        }
      ]
    },
    {
      "cell_type": "code",
      "source": [
        "#Yukarıdaki işemin bir diğer yolu ise :\n",
        "cart_final = cart_model.set_params(**cart_best_grid.best_params_).fit(X,y)"
      ],
      "metadata": {
        "id": "02T7MGuU1ybE"
      },
      "execution_count": null,
      "outputs": []
    },
    {
      "cell_type": "code",
      "source": [
        "cart_final.get_params()"
      ],
      "metadata": {
        "colab": {
          "base_uri": "https://localhost:8080/"
        },
        "id": "k57WC27R2Hgg",
        "outputId": "ec651b43-6fa8-4d61-a127-d34dee15acaf"
      },
      "execution_count": null,
      "outputs": [
        {
          "output_type": "execute_result",
          "data": {
            "text/plain": [
              "{'ccp_alpha': 0.0,\n",
              " 'class_weight': None,\n",
              " 'criterion': 'gini',\n",
              " 'max_depth': 5,\n",
              " 'max_features': None,\n",
              " 'max_leaf_nodes': None,\n",
              " 'min_impurity_decrease': 0.0,\n",
              " 'min_impurity_split': None,\n",
              " 'min_samples_leaf': 1,\n",
              " 'min_samples_split': 4,\n",
              " 'min_weight_fraction_leaf': 0.0,\n",
              " 'presort': 'deprecated',\n",
              " 'random_state': 17,\n",
              " 'splitter': 'best'}"
            ]
          },
          "metadata": {},
          "execution_count": 32
        }
      ]
    },
    {
      "cell_type": "code",
      "source": [
        "cv_results= cross_validate(cart_final,\n",
        "                           X,y,\n",
        "                           cv=5,\n",
        "                            scoring = [ \"accuracy\",\"f1\",\"roc_auc\"])"
      ],
      "metadata": {
        "id": "WrHFZLQJ2J4G"
      },
      "execution_count": null,
      "outputs": []
    },
    {
      "cell_type": "code",
      "source": [
        "cv_results['test_accuracy'].mean()\n",
        "#Bir önceki test_accuracy değerimiz 0.7058568882098294"
      ],
      "metadata": {
        "colab": {
          "base_uri": "https://localhost:8080/"
        },
        "id": "fYMY5Et52XcZ",
        "outputId": "028109d0-5c6d-419b-d76e-9627eca099ab"
      },
      "execution_count": null,
      "outputs": [
        {
          "output_type": "execute_result",
          "data": {
            "text/plain": [
              "0.7500806383159324"
            ]
          },
          "metadata": {},
          "execution_count": 34
        }
      ]
    },
    {
      "cell_type": "code",
      "source": [
        "cv_results['test_f1'].mean()\n",
        "#Bir önceki test_f1 değerimiz 0.5710621194523633"
      ],
      "metadata": {
        "colab": {
          "base_uri": "https://localhost:8080/"
        },
        "id": "V3I3y0bZ2cAZ",
        "outputId": "34ac4bc1-e388-432a-d5f2-32e25f9858fb"
      },
      "execution_count": null,
      "outputs": [
        {
          "output_type": "execute_result",
          "data": {
            "text/plain": [
              "0.614625004082526"
            ]
          },
          "metadata": {},
          "execution_count": 35
        }
      ]
    },
    {
      "cell_type": "code",
      "source": [
        "cv_results['test_roc_auc'].mean()\n",
        "#Bir önceki test_roc_auc değerimiz 0.6719440950384347"
      ],
      "metadata": {
        "colab": {
          "base_uri": "https://localhost:8080/"
        },
        "id": "SFA3Hcgd2eV_",
        "outputId": "99c2f2ef-721c-4fe5-dd51-2eae933dd422"
      },
      "execution_count": null,
      "outputs": [
        {
          "output_type": "execute_result",
          "data": {
            "text/plain": [
              "0.797796645702306"
            ]
          },
          "metadata": {},
          "execution_count": 36
        }
      ]
    },
    {
      "cell_type": "markdown",
      "source": [
        "Görüldüğü üzere bir önceki haline göre başarılarımızı arttırdık. Hatalarımızı düşürdük."
      ],
      "metadata": {
        "id": "XNrzx-WZ3bqp"
      }
    },
    {
      "cell_type": "markdown",
      "source": [
        "# 5. Feature Importance"
      ],
      "metadata": {
        "id": "_WuTXi-S3okM"
      }
    },
    {
      "cell_type": "code",
      "source": [
        "#Değişkenlerin önem düzeylerine bakalım :\n",
        "cart_final.feature_importances_"
      ],
      "metadata": {
        "colab": {
          "base_uri": "https://localhost:8080/"
        },
        "id": "zJJpNdI32giv",
        "outputId": "c35fe018-592f-42a6-a72e-7f2415f0533b"
      },
      "execution_count": null,
      "outputs": [
        {
          "output_type": "execute_result",
          "data": {
            "text/plain": [
              "array([0.01129738, 0.49448119, 0.05065617, 0.        , 0.01497644,\n",
              "       0.22221379, 0.06819923, 0.13817579])"
            ]
          },
          "metadata": {},
          "execution_count": 37
        }
      ]
    },
    {
      "cell_type": "markdown",
      "source": [
        "Ama buradan pek de bir şey anlamıyoruz. Tamam önemliler de ne bunlar kim önemli?"
      ],
      "metadata": {
        "id": "fdkpOeCm5eUG"
      }
    },
    {
      "cell_type": "code",
      "source": [
        "#Önemli değişkenleri daha iyi gözlemleyebilmek adına:\n",
        "def plot_importance(model,features,num=len(X),save=False):\n",
        "  feature_imp = pd.DataFrame({\"Value\": model.feature_importances_, \"Feature\":features.columns})\n",
        "  plt.figure(figsize=(10,10))\n",
        "  sns.set(font_scale=1)\n",
        "  sns.barplot(x=\"Value\", y=\"Feature\", data=feature_imp.sort_values(by=\"Value\",\n",
        "                                                                   ascending=False)[0:num])\n",
        "  plt.title(\"Features\")\n",
        "  plt.tight_layout()\n",
        "  plt.show()\n",
        "  if save:\n",
        "    plt.savefig(\"importances.png\")"
      ],
      "metadata": {
        "id": "LAdS35dq5cxZ"
      },
      "execution_count": null,
      "outputs": []
    },
    {
      "cell_type": "code",
      "source": [
        "plot_importance(cart_final, X)"
      ],
      "metadata": {
        "colab": {
          "base_uri": "https://localhost:8080/",
          "height": 662
        },
        "id": "Kx1lIdSQ6kvS",
        "outputId": "1b731925-5c06-4df3-861f-c4b94e4443ea"
      },
      "execution_count": null,
      "outputs": [
        {
          "output_type": "display_data",
          "data": {
            "text/plain": [
              "<Figure size 720x720 with 1 Axes>"
            ],
            "image/png": "[encoded data removed]"
          },
          "metadata": {
            "needs_background": "light"
          }
        }
      ]
    },
    {
      "cell_type": "markdown",
      "source": [
        "#6. Analyzing Model Complexity with Learning Curves (BONUS)"
      ],
      "metadata": {
        "id": "L9JE89nZ8Yvr"
      }
    },
    {
      "cell_type": "code",
      "source": [
        "#Model karmaşıklığı modelden modele farklılık gösteriyorolabilir.\n",
        "train_score, test_score = validation_curve(cart_final, X, y,\n",
        "                                           param_name=\"max_depth\",\n",
        "                                           param_range=range(1,11),\n",
        "                                           scoring=\"roc_auc\",\n",
        "                                           cv=5)\n",
        "\n",
        "#Bu işlemle cart_final modeliyle X bağımlı değişkeni ve y bağımsız değişkeni alındı,\n",
        "# max_depth için 1-11 değerlendirmeleri yapıldı ve bunların test_score ve train_score ları kaydedildi.\n",
        "# 10 tane deneme parametremiz var (param_range), her deneme değeri için 5 tane çapraz doğrulama yapılacak.(cv)\n",
        "# Buradaki bir array bir parametre değerine karşılık elde edilen hataları ifade ediyor.\n",
        "# Arraylarin içi de kaç tane cross validation varsa onu ifade ediyor. (cv=5)\n",
        "train_score, test_score"
      ],
      "metadata": {
        "colab": {
          "base_uri": "https://localhost:8080/"
        },
        "id": "9yiKrcpa8YLq",
        "outputId": "6220a44c-aa2c-4518-ed81-13bea573a12c"
      },
      "execution_count": null,
      "outputs": [
        {
          "output_type": "execute_result",
          "data": {
            "text/plain": [
              "(array([[0.73253505, 0.69223131, 0.71232477, 0.65764535, 0.71200581],\n",
              "        [0.80581192, 0.78356308, 0.79807243, 0.76099419, 0.80418023],\n",
              "        [0.84599299, 0.8404264 , 0.83589953, 0.80871512, 0.85089535],\n",
              "        [0.87873832, 0.88042056, 0.88091121, 0.85968605, 0.88578488],\n",
              "        [0.91303738, 0.90725467, 0.91617991, 0.89705814, 0.91373837],\n",
              "        [0.94301986, 0.94181659, 0.943125  , 0.91934302, 0.93837791],\n",
              "        [0.96739486, 0.96415304, 0.96676402, 0.93493023, 0.96244186],\n",
              "        [0.98292056, 0.97774533, 0.98331192, 0.95220349, 0.98444186],\n",
              "        [0.99254089, 0.98566589, 0.99387266, 0.96551163, 0.99315116],\n",
              "        [0.99503505, 0.9884229 , 0.99603388, 0.97868023, 0.99655814]]),\n",
              " array([[0.64851852, 0.65648148, 0.68203704, 0.66367925, 0.73018868],\n",
              "        [0.74074074, 0.69064815, 0.72212963, 0.77075472, 0.76122642],\n",
              "        [0.7887963 , 0.71222222, 0.77453704, 0.80018868, 0.77679245],\n",
              "        [0.7912963 , 0.73      , 0.78611111, 0.84216981, 0.78924528],\n",
              "        [0.81537037, 0.72333333, 0.80518519, 0.83962264, 0.8054717 ],\n",
              "        [0.78518519, 0.69583333, 0.77509259, 0.79537736, 0.77556604],\n",
              "        [0.7612963 , 0.71777778, 0.72064815, 0.80216981, 0.77650943],\n",
              "        [0.77037037, 0.69777778, 0.74574074, 0.7659434 , 0.72632075],\n",
              "        [0.67916667, 0.67898148, 0.69111111, 0.77207547, 0.70707547],\n",
              "        [0.71212963, 0.66916667, 0.68407407, 0.78971698, 0.70084906]]))"
            ]
          },
          "metadata": {},
          "execution_count": 40
        }
      ]
    },
    {
      "cell_type": "code",
      "source": [
        "# Burada bir score elde etmek istersek : train setinin ve test setinin ortalamasını almak durumundayız.\n",
        "mean_train_score = np.mean(train_score, axis=1)\n",
        "mean_train_score"
      ],
      "metadata": {
        "colab": {
          "base_uri": "https://localhost:8080/"
        },
        "id": "LrNXdplh_fLi",
        "outputId": "30f6e584-9a6d-43dc-e06e-f57004cf2e8c"
      },
      "execution_count": null,
      "outputs": [
        {
          "output_type": "execute_result",
          "data": {
            "text/plain": [
              "array([0.70134846, 0.79052437, 0.83638588, 0.8771082 , 0.90945369,\n",
              "       0.93713648, 0.9591368 , 0.97612463, 0.98614845, 0.99094604])"
            ]
          },
          "metadata": {},
          "execution_count": 41
        }
      ]
    },
    {
      "cell_type": "code",
      "source": [
        "#Her bir parametre için (params=1-11 arası yani 10 tane) hata değeri elde etmiş oluruz.\n",
        "mean_test_score = np.mean(test_score, axis=1)\n",
        "mean_test_score"
      ],
      "metadata": {
        "colab": {
          "base_uri": "https://localhost:8080/"
        },
        "id": "_s13BcZmBR_g",
        "outputId": "376d1106-7aaa-4328-9216-99b3227671d7"
      },
      "execution_count": null,
      "outputs": [
        {
          "output_type": "execute_result",
          "data": {
            "text/plain": [
              "array([0.67618099, 0.73709993, 0.77050734, 0.7877645 , 0.79779665,\n",
              "       0.7654109 , 0.75568029, 0.74123061, 0.70568204, 0.71118728])"
            ]
          },
          "metadata": {},
          "execution_count": 42
        }
      ]
    },
    {
      "cell_type": "markdown",
      "source": [
        "NOT : Validasyon = Test"
      ],
      "metadata": {
        "id": "UBbh1xSAB2uk"
      }
    },
    {
      "cell_type": "code",
      "source": [
        "# Bu değerleri görselleştirmek istersek bir fonksiyon yazalım:\n",
        "def val_curve_params(model, X, y, param_name, param_range, scoring=\"roc_auc\", cv=10):\n",
        "  train_score, test_score = validation_curve(model, X = X, y = y,\n",
        "                                           param_name = param_name,\n",
        "                                           param_range = param_range,\n",
        "                                           scoring=scoring,\n",
        "                                           cv = cv)\n",
        "  mean_train_score = np.mean(train_score, axis=1)\n",
        "  mean_test_score = np.mean(test_score, axis=1)\n",
        "\n",
        "  plt.plot(param_range, mean_train_score,\n",
        "           label=\"Training Score\", color=\"b\")\n",
        "  \n",
        "  plt.plot(param_range, mean_test_score,\n",
        "           label=\"Validation Score\", color=\"r\")\n",
        "  \n",
        "  plt.title(f\"Validation Curve for{type(model).__name__}\")\n",
        "  plt.xlabel(f\"Number of {param_name}\")\n",
        "  plt.ylabel(f\"{scoring}\")\n",
        "  plt.tight_layout()\n",
        "  plt.legend(loc=\"best\")\n",
        "  plt.show(block=True)"
      ],
      "metadata": {
        "id": "qKBXYtmoBUZv"
      },
      "execution_count": null,
      "outputs": []
    },
    {
      "cell_type": "code",
      "source": [
        "val_curve_params(cart_final, X, y, \"max_depth\", range(1,11), scoring=\"f1\")\n",
        "cart_val_params =[[\"max_depth\", range(1,11)], [\"min_samples_split\", range(2,20)]]\n",
        "for i in range(len(cart_val_params)):\n",
        "  val_curve_params(cart_model, X, y, cart_val_params[i][0], cart_val_params[i][1])"
      ],
      "metadata": {
        "colab": {
          "base_uri": "https://localhost:8080/",
          "height": 845
        },
        "id": "2OZdAlWcDahJ",
        "outputId": "29bd718b-ac8e-49f7-dad3-591acb65a708"
      },
      "execution_count": null,
      "outputs": [
        {
          "output_type": "display_data",
          "data": {
            "text/plain": [
              "<Figure size 432x288 with 1 Axes>"
            ],
            "image/png": "[encoded data removed]"
          },
          "metadata": {}
        },
        {
          "output_type": "display_data",
          "data": {
            "text/plain": [
              "<Figure size 432x288 with 1 Axes>"
            ],
            "image/png": "[encoded data removed]"
          },
          "metadata": {}
        },
        {
          "output_type": "display_data",
          "data": {
            "text/plain": [
              "<Figure size 432x288 with 1 Axes>"
            ],
            "image/png": "[encoded data removed]"
          },
          "metadata": {}
        }
      ]
    },
    {
      "cell_type": "markdown",
      "source": [
        "# Görselleştirme (Visulization)"
      ],
      "metadata": {
        "id": "qyOwIfG7m6s9"
      }
    },
    {
      "cell_type": "code",
      "source": [
        "!pip install graphviz"
      ],
      "metadata": {
        "id": "nuRr4H1uFG3f",
        "colab": {
          "base_uri": "https://localhost:8080/"
        },
        "outputId": "e9a73525-b6b3-4576-8d7c-d292ee8d2b4e"
      },
      "execution_count": null,
      "outputs": [
        {
          "output_type": "stream",
          "name": "stdout",
          "text": [
            "Looking in indexes: https://pypi.org/simple, https://us-python.pkg.dev/colab-wheels/public/simple/\n",
            "Requirement already satisfied: graphviz in /usr/local/lib/python3.7/dist-packages (0.10.1)\n"
          ]
        }
      ]
    },
    {
      "cell_type": "code",
      "source": [
        "import graphviz\n",
        "def tree_graph(model, col_names, file_name):\n",
        "  tree_str = export_graphviz(model, feature_names=col_names, filled=True, out_file=None)\n",
        "  graph = pydotplus.graph_from_dot_data(tree_str)\n",
        "  graph.write_png(file_name)"
      ],
      "metadata": {
        "id": "uUkI_ZAxmunu"
      },
      "execution_count": null,
      "outputs": []
    },
    {
      "cell_type": "code",
      "source": [
        "tree_graph(model=cart_final, col_names=X.columns, file_name=\"cart_final.png\")"
      ],
      "metadata": {
        "id": "TtZ1OOm-oF2P"
      },
      "execution_count": null,
      "outputs": []
    },
    {
      "cell_type": "code",
      "source": [
        "cart_final.get_params()"
      ],
      "metadata": {
        "colab": {
          "base_uri": "https://localhost:8080/"
        },
        "id": "lZXZ3lw0oTde",
        "outputId": "681d06de-1e79-4029-d311-93e1c241190d"
      },
      "execution_count": null,
      "outputs": [
        {
          "output_type": "execute_result",
          "data": {
            "text/plain": [
              "{'ccp_alpha': 0.0,\n",
              " 'class_weight': None,\n",
              " 'criterion': 'gini',\n",
              " 'max_depth': 5,\n",
              " 'max_features': None,\n",
              " 'max_leaf_nodes': None,\n",
              " 'min_impurity_decrease': 0.0,\n",
              " 'min_impurity_split': None,\n",
              " 'min_samples_leaf': 1,\n",
              " 'min_samples_split': 4,\n",
              " 'min_weight_fraction_leaf': 0.0,\n",
              " 'presort': 'deprecated',\n",
              " 'random_state': 17,\n",
              " 'splitter': 'best'}"
            ]
          },
          "metadata": {},
          "execution_count": 48
        }
      ]
    },
    {
      "cell_type": "markdown",
      "source": [
        "#Karar Kuralları"
      ],
      "metadata": {
        "id": "BYY6TyksqrvX"
      }
    },
    {
      "cell_type": "code",
      "source": [
        "tree_rules = export_text(cart_final, feature_names=list(X.columns))\n",
        "print(tree_rules)"
      ],
      "metadata": {
        "colab": {
          "base_uri": "https://localhost:8080/"
        },
        "id": "yXa2LasnolCE",
        "outputId": "fbbe8eb4-6b26-470e-b3b5-6bc621778519"
      },
      "execution_count": null,
      "outputs": [
        {
          "output_type": "stream",
          "name": "stdout",
          "text": [
            "|--- Glucose <= 127.50\n",
            "|   |--- Age <= 28.50\n",
            "|   |   |--- BMI <= 45.40\n",
            "|   |   |   |--- BMI <= 30.95\n",
            "|   |   |   |   |--- Pregnancies <= 7.50\n",
            "|   |   |   |   |   |--- class: 0\n",
            "|   |   |   |   |--- Pregnancies >  7.50\n",
            "|   |   |   |   |   |--- class: 1\n",
            "|   |   |   |--- BMI >  30.95\n",
            "|   |   |   |   |--- DiabetesPedigreeFunction <= 0.50\n",
            "|   |   |   |   |   |--- class: 0\n",
            "|   |   |   |   |--- DiabetesPedigreeFunction >  0.50\n",
            "|   |   |   |   |   |--- class: 0\n",
            "|   |   |--- BMI >  45.40\n",
            "|   |   |   |--- BloodPressure <= 99.00\n",
            "|   |   |   |   |--- class: 1\n",
            "|   |   |   |--- BloodPressure >  99.00\n",
            "|   |   |   |   |--- class: 0\n",
            "|   |--- Age >  28.50\n",
            "|   |   |--- BMI <= 26.35\n",
            "|   |   |   |--- BMI <= 9.65\n",
            "|   |   |   |   |--- class: 1\n",
            "|   |   |   |--- BMI >  9.65\n",
            "|   |   |   |   |--- class: 0\n",
            "|   |   |--- BMI >  26.35\n",
            "|   |   |   |--- Glucose <= 99.50\n",
            "|   |   |   |   |--- Glucose <= 28.50\n",
            "|   |   |   |   |   |--- class: 1\n",
            "|   |   |   |   |--- Glucose >  28.50\n",
            "|   |   |   |   |   |--- class: 0\n",
            "|   |   |   |--- Glucose >  99.50\n",
            "|   |   |   |   |--- DiabetesPedigreeFunction <= 0.56\n",
            "|   |   |   |   |   |--- class: 0\n",
            "|   |   |   |   |--- DiabetesPedigreeFunction >  0.56\n",
            "|   |   |   |   |   |--- class: 1\n",
            "|--- Glucose >  127.50\n",
            "|   |--- BMI <= 29.95\n",
            "|   |   |--- Glucose <= 145.50\n",
            "|   |   |   |--- Insulin <= 132.50\n",
            "|   |   |   |   |--- BMI <= 28.15\n",
            "|   |   |   |   |   |--- class: 0\n",
            "|   |   |   |   |--- BMI >  28.15\n",
            "|   |   |   |   |   |--- class: 1\n",
            "|   |   |   |--- Insulin >  132.50\n",
            "|   |   |   |   |--- class: 0\n",
            "|   |   |--- Glucose >  145.50\n",
            "|   |   |   |--- Age <= 25.50\n",
            "|   |   |   |   |--- class: 0\n",
            "|   |   |   |--- Age >  25.50\n",
            "|   |   |   |   |--- Age <= 61.00\n",
            "|   |   |   |   |   |--- class: 1\n",
            "|   |   |   |   |--- Age >  61.00\n",
            "|   |   |   |   |   |--- class: 0\n",
            "|   |--- BMI >  29.95\n",
            "|   |   |--- Glucose <= 157.50\n",
            "|   |   |   |--- Age <= 30.50\n",
            "|   |   |   |   |--- BloodPressure <= 61.00\n",
            "|   |   |   |   |   |--- class: 1\n",
            "|   |   |   |   |--- BloodPressure >  61.00\n",
            "|   |   |   |   |   |--- class: 0\n",
            "|   |   |   |--- Age >  30.50\n",
            "|   |   |   |   |--- DiabetesPedigreeFunction <= 0.43\n",
            "|   |   |   |   |   |--- class: 1\n",
            "|   |   |   |   |--- DiabetesPedigreeFunction >  0.43\n",
            "|   |   |   |   |   |--- class: 1\n",
            "|   |   |--- Glucose >  157.50\n",
            "|   |   |   |--- Insulin <= 629.50\n",
            "|   |   |   |   |--- DiabetesPedigreeFunction <= 0.30\n",
            "|   |   |   |   |   |--- class: 1\n",
            "|   |   |   |   |--- DiabetesPedigreeFunction >  0.30\n",
            "|   |   |   |   |   |--- class: 1\n",
            "|   |   |   |--- Insulin >  629.50\n",
            "|   |   |   |   |--- class: 0\n",
            "\n"
          ]
        }
      ]
    },
    {
      "cell_type": "markdown",
      "source": [
        "# Karar Kurallarının Python Kodlarını Çıkarma"
      ],
      "metadata": {
        "id": "-23fViH3rz8X"
      }
    },
    {
      "cell_type": "code",
      "source": [
        "!pip install update scikit-learn==0.23.1"
      ],
      "metadata": {
        "id": "ghYOTee8sZwt"
      },
      "execution_count": null,
      "outputs": []
    },
    {
      "cell_type": "code",
      "source": [
        "import sklearn\n",
        "\n",
        "print('The scikit-learn version is {}.'.format(sklearn.__version__))"
      ],
      "metadata": {
        "colab": {
          "base_uri": "https://localhost:8080/"
        },
        "id": "adJ0s1yJqPQx",
        "outputId": "398ad77f-f814-4907-df6d-b2c2af6486cb"
      },
      "execution_count": null,
      "outputs": [
        {
          "output_type": "stream",
          "name": "stdout",
          "text": [
            "The scikit-learn version is 0.23.1.\n"
          ]
        }
      ]
    },
    {
      "cell_type": "code",
      "source": [
        "# Python kodlarını çıkarabilmek için:\n",
        "print(skompile(cart_final.predict).to(\"python/code\"))"
      ],
      "metadata": {
        "colab": {
          "base_uri": "https://localhost:8080/"
        },
        "id": "I-suF4F-tAM5",
        "outputId": "7ddd281d-ab70-49fd-f4fb-36dac351e0df"
      },
      "execution_count": null,
      "outputs": [
        {
          "output_type": "stream",
          "name": "stdout",
          "text": [
            "(((((0 if x[0] <= 7.5 else 1) if x[5] <= 30.949999809265137 else 0 if x[6] <=\n",
            "    0.5005000084638596 else 0) if x[5] <= 45.39999961853027 else 1 if x[2] <=\n",
            "    99.0 else 0) if x[7] <= 28.5 else (1 if x[5] <= 9.649999618530273 else \n",
            "    0) if x[5] <= 26.350000381469727 else (1 if x[1] <= 28.5 else 0) if x[1\n",
            "    ] <= 99.5 else 0 if x[6] <= 0.5609999895095825 else 1) if x[1] <= 127.5\n",
            "     else (((0 if x[5] <= 28.149999618530273 else 1) if x[4] <= 132.5 else \n",
            "    0) if x[1] <= 145.5 else 0 if x[7] <= 25.5 else 1 if x[7] <= 61.0 else \n",
            "    0) if x[5] <= 29.949999809265137 else ((1 if x[2] <= 61.0 else 0) if x[\n",
            "    7] <= 30.5 else 1 if x[6] <= 0.4294999986886978 else 1) if x[1] <= \n",
            "    157.5 else (1 if x[6] <= 0.3004999905824661 else 1) if x[4] <= 629.5 else 0\n",
            "    )\n",
            "\n"
          ]
        }
      ]
    },
    {
      "cell_type": "code",
      "source": [
        "# Sql kodlarını çıkarabilmek için :\n",
        "print(skompile(cart_model.predict).to(\"sqlalchemy/sqlite\"))"
      ],
      "metadata": {
        "colab": {
          "base_uri": "https://localhost:8080/"
        },
        "id": "E7IErcRRtSpY",
        "outputId": "cfb25a2a-ff14-46a0-b511-6bd26e38b9ab"
      },
      "execution_count": null,
      "outputs": [
        {
          "output_type": "stream",
          "name": "stdout",
          "text": [
            "SELECT CASE WHEN (x2 <= 127.5) THEN CASE WHEN (x8 <= 28.5) THEN CASE WHEN (x6 <= 45.39999961853027) THEN CASE WHEN (x6 <= 30.949999809265137) THEN CASE WHEN (x1 <= 7.5) THEN 0 ELSE 1 END ELSE 0 END ELSE CASE WHEN (x3 <= 99.0) THEN 1 ELSE 0 END END ELSE CASE WHEN (x6 <= 26.350000381469727) THEN CASE WHEN (x6 <= 9.649999618530273) THEN 1 ELSE 0 END ELSE CASE WHEN (x2 <= 99.5) THEN CASE WHEN (x2 <= 28.5) THEN 1 ELSE 0 END ELSE CASE WHEN (x7 <= 0.5609999895095825) THEN 0 ELSE 1 END END END END ELSE CASE WHEN (x6 <= 29.949999809265137) THEN CASE WHEN (x2 <= 145.5) THEN CASE WHEN (x5 <= 132.5) THEN CASE WHEN (x6 <= 28.149999618530273) THEN 0 ELSE 1 END ELSE 0 END ELSE CASE WHEN (x8 <= 25.5) THEN 0 ELSE CASE WHEN (x8 <= 61.0) THEN 1 ELSE 0 END END END ELSE CASE WHEN (x2 <= 157.5) THEN CASE WHEN (x8 <= 30.5) THEN CASE WHEN (x3 <= 61.0) THEN 1 ELSE 0 END ELSE 1 END ELSE CASE WHEN (x5 <= 629.5) THEN 1 ELSE 0 END END END END AS y \n",
            "FROM data\n"
          ]
        }
      ]
    },
    {
      "cell_type": "code",
      "source": [
        "# Excel kodlarını çıkarabilmek için :\n",
        "print(skompile(cart_model.predict).to(\"excel\"))"
      ],
      "metadata": {
        "colab": {
          "base_uri": "https://localhost:8080/"
        },
        "id": "nfBPAaxIuqc2",
        "outputId": "448c889c-10d1-4211-c068-323371cb82f1"
      },
      "execution_count": null,
      "outputs": [
        {
          "output_type": "stream",
          "name": "stdout",
          "text": [
            "A1=IF((x2<=127.5),IF((x ...418 chars skipped... ((x5<=629.5),1,0))))\n"
          ]
        }
      ]
    },
    {
      "cell_type": "markdown",
      "source": [
        "#Python Kodları İle Tahmin İşleri"
      ],
      "metadata": {
        "id": "134HPvhkwr-U"
      }
    },
    {
      "cell_type": "code",
      "source": [
        "def predict_with_rules(x):\n",
        "  return (((((0 if x[0] <= 7.5 else 1) if x[5] <= 30.949999809265137 else 0 if x[6] <=\n",
        "    0.5005000084638596 else 0) if x[5] <= 45.39999961853027 else 1 if x[2] <=\n",
        "    99.0 else 0) if x[7] <= 28.5 else (1 if x[5] <= 9.649999618530273 else \n",
        "    0) if x[5] <= 26.350000381469727 else (1 if x[1] <= 28.5 else 0) if x[1\n",
        "    ] <= 99.5 else 0 if x[6] <= 0.5609999895095825 else 1) if x[1] <= 127.5\n",
        "     else (((0 if x[5] <= 28.149999618530273 else 1) if x[4] <= 132.5 else \n",
        "    0) if x[1] <= 145.5 else 0 if x[7] <= 25.5 else 1 if x[7] <= 61.0 else \n",
        "    0) if x[5] <= 29.949999809265137 else ((1 if x[2] <= 61.0 else 0) if x[\n",
        "    7] <= 30.5 else 1 if x[6] <= 0.4294999986886978 else 1) if x[1] <= \n",
        "    157.5 else (1 if x[6] <= 0.3004999905824661 else 1) if x[4] <= 629.5 else 0\n",
        "    )"
      ],
      "metadata": {
        "id": "jy9CWGE_wkyj"
      },
      "execution_count": null,
      "outputs": []
    },
    {
      "cell_type": "code",
      "source": [
        "X.columns"
      ],
      "metadata": {
        "colab": {
          "base_uri": "https://localhost:8080/"
        },
        "id": "ouV8Rt9Mv9Ew",
        "outputId": "b9fe9a5b-8310-4323-9e14-9315a649afe9"
      },
      "execution_count": null,
      "outputs": [
        {
          "output_type": "execute_result",
          "data": {
            "text/plain": [
              "Index(['Pregnancies', 'Glucose', 'BloodPressure', 'SkinThickness', 'Insulin',\n",
              "       'BMI', 'DiabetesPedigreeFunction', 'Age'],\n",
              "      dtype='object')"
            ]
          },
          "metadata": {},
          "execution_count": 55
        }
      ]
    },
    {
      "cell_type": "code",
      "source": [
        "#Fonksiyon olarak tanımladık ve random bir veriyle deneyelim :\n",
        "x = [12,20,33,2,33,65,43,38]\n",
        "predict_with_rules(x)"
      ],
      "metadata": {
        "colab": {
          "base_uri": "https://localhost:8080/"
        },
        "id": "5yjaxbwpxG_h",
        "outputId": "26087f9d-f7a6-4b8d-f11a-a323c0e9845b"
      },
      "execution_count": null,
      "outputs": [
        {
          "output_type": "execute_result",
          "data": {
            "text/plain": [
              "1"
            ]
          },
          "metadata": {},
          "execution_count": 56
        }
      ]
    },
    {
      "cell_type": "markdown",
      "source": [
        "#Modeli Kaydetme Ve Çağırma"
      ],
      "metadata": {
        "id": "TuxtN-u_rovm"
      }
    },
    {
      "cell_type": "code",
      "source": [
        "#Model Kaydetme\n",
        "joblib.dump(cart_final, \"cart_final.pkl\") "
      ],
      "metadata": {
        "colab": {
          "base_uri": "https://localhost:8080/"
        },
        "id": "xn3tluG2rryL",
        "outputId": "5b155e28-ed04-41a0-e5bc-2fabd481d480"
      },
      "execution_count": null,
      "outputs": [
        {
          "output_type": "execute_result",
          "data": {
            "text/plain": [
              "['cart_final.pkl']"
            ]
          },
          "metadata": {},
          "execution_count": 57
        }
      ]
    },
    {
      "cell_type": "code",
      "source": [
        "#Modeli diskten okuyalım:\n",
        "cart_model_from_disc = joblib.load(\"cart_final.pkl\")"
      ],
      "metadata": {
        "id": "j0SjCb0gsIuL"
      },
      "execution_count": null,
      "outputs": []
    },
    {
      "cell_type": "code",
      "source": [
        "#Yeni bir gözlem birimi oluşturalım:\n",
        "x = [12,34,22,98,56,3,27,9]\n",
        "#predict fonksiyonunu kullandığımızdan dolayı x i dataframe e dönüştürmeliyiz.\n",
        "cart_model_from_disc.predict(pd.DataFrame(x).T)"
      ],
      "metadata": {
        "colab": {
          "base_uri": "https://localhost:8080/"
        },
        "id": "iWhiobS0sT27",
        "outputId": "54c769ca-041e-4475-ad81-82cfc9fda4bb"
      },
      "execution_count": null,
      "outputs": [
        {
          "output_type": "execute_result",
          "data": {
            "text/plain": [
              "array([1])"
            ]
          },
          "metadata": {},
          "execution_count": 60
        }
      ]
    },
    {
      "cell_type": "markdown",
      "source": [
        "! NOT: Basit çözümler, veri tabanlarına yakın çözümler her zaman tercih edilir."
      ],
      "metadata": {
        "id": "A6_8zaOVt9sa"
      }
    }
  ]
}