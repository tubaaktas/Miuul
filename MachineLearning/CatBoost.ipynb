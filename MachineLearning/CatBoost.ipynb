{
  "nbformat": 4,
  "nbformat_minor": 0,
  "metadata": {
    "colab": {
      "name": "CatBoost.ipynb",
      "provenance": [],
      "collapsed_sections": []
    },
    "kernelspec": {
      "name": "python3",
      "display_name": "Python 3"
    },
    "language_info": {
      "name": "python"
    }
  },
  "cells": [
    {
      "cell_type": "code",
      "execution_count": null,
      "metadata": {
        "colab": {
          "base_uri": "https://localhost:8080/"
        },
        "id": "N9tHkzHasM9J",
        "outputId": "2e3ad31c-d7b6-474b-ab30-a3617f4885e4"
      },
      "outputs": [
        {
          "output_type": "stream",
          "name": "stdout",
          "text": [
            "Looking in indexes: https://pypi.org/simple, https://us-python.pkg.dev/colab-wheels/public/simple/\n",
            "Collecting catboost\n",
            "  Downloading catboost-1.0.6-cp37-none-manylinux1_x86_64.whl (76.6 MB)\n",
            "\u001b[K     |████████████████████████████████| 76.6 MB 78 kB/s \n",
            "\u001b[?25hRequirement already satisfied: six in /usr/local/lib/python3.7/dist-packages (from catboost) (1.15.0)\n",
            "Requirement already satisfied: numpy>=1.16.0 in /usr/local/lib/python3.7/dist-packages (from catboost) (1.21.6)\n",
            "Requirement already satisfied: plotly in /usr/local/lib/python3.7/dist-packages (from catboost) (5.5.0)\n",
            "Requirement already satisfied: pandas>=0.24.0 in /usr/local/lib/python3.7/dist-packages (from catboost) (1.3.5)\n",
            "Requirement already satisfied: graphviz in /usr/local/lib/python3.7/dist-packages (from catboost) (0.10.1)\n",
            "Requirement already satisfied: scipy in /usr/local/lib/python3.7/dist-packages (from catboost) (1.7.3)\n",
            "Requirement already satisfied: matplotlib in /usr/local/lib/python3.7/dist-packages (from catboost) (3.2.2)\n",
            "Requirement already satisfied: python-dateutil>=2.7.3 in /usr/local/lib/python3.7/dist-packages (from pandas>=0.24.0->catboost) (2.8.2)\n",
            "Requirement already satisfied: pytz>=2017.3 in /usr/local/lib/python3.7/dist-packages (from pandas>=0.24.0->catboost) (2022.1)\n",
            "Requirement already satisfied: kiwisolver>=1.0.1 in /usr/local/lib/python3.7/dist-packages (from matplotlib->catboost) (1.4.4)\n",
            "Requirement already satisfied: cycler>=0.10 in /usr/local/lib/python3.7/dist-packages (from matplotlib->catboost) (0.11.0)\n",
            "Requirement already satisfied: pyparsing!=2.0.4,!=2.1.2,!=2.1.6,>=2.0.1 in /usr/local/lib/python3.7/dist-packages (from matplotlib->catboost) (3.0.9)\n",
            "Requirement already satisfied: typing-extensions in /usr/local/lib/python3.7/dist-packages (from kiwisolver>=1.0.1->matplotlib->catboost) (4.1.1)\n",
            "Requirement already satisfied: tenacity>=6.2.0 in /usr/local/lib/python3.7/dist-packages (from plotly->catboost) (8.0.1)\n",
            "Installing collected packages: catboost\n",
            "Successfully installed catboost-1.0.6\n"
          ]
        }
      ],
      "source": [
        "!pip install catboost"
      ]
    },
    {
      "cell_type": "code",
      "source": [
        "import warnings\n",
        "import numpy as np\n",
        "import pandas as pd\n",
        "import seaborn as sns\n",
        "from matplotlib import pyplot as plt\n",
        "from sklearn.ensemble import RandomForestClassifier, GradientBoostingClassifier, VotingClassifier\n",
        "from sklearn.model_selection import GridSearchCV, cross_validate, RandomizedSearchCV, validation_curve\n",
        "\n",
        "from catboost import CatBoostClassifier\n",
        "pd.set_option(\"display.max_columns\", None)\n",
        "warnings.simplefilter(action=\"ignore\", category = Warning)"
      ],
      "metadata": {
        "id": "5I7_xEaksR5_"
      },
      "execution_count": null,
      "outputs": []
    },
    {
      "cell_type": "code",
      "source": [
        "df = pd.read_csv(\"diabetes.csv\")\n",
        "y = df[\"Outcome\"]\n",
        "X = df.drop([\"Outcome\"], axis=1)"
      ],
      "metadata": {
        "id": "AsqcC1MUsTgN"
      },
      "execution_count": null,
      "outputs": []
    },
    {
      "cell_type": "code",
      "source": [
        "catboost_model = CatBoostClassifier(random_state = 17, verbose = False)"
      ],
      "metadata": {
        "id": "1EoO22EcsbIl"
      },
      "execution_count": null,
      "outputs": []
    },
    {
      "cell_type": "code",
      "source": [
        "def cv_func_result(model, X, y, cv=10, scoring=[\"accuracy\", \"f1\", \"roc_auc\"],returns=False):\n",
        "  cv_results = cross_validate(model, X=X, y=y, cv=cv, scoring=scoring)\n",
        "  for col in scoring:\n",
        "    if col == \"accuracy\":\n",
        "      print(\"Accuracy test mean = {0}\".format(cv_results[\"test_accuracy\"].mean()))\n",
        "    elif col == \"f1\":\n",
        "      print(\"F1 test mean = {0}\".format(cv_results[\"test_f1\"].mean()))\n",
        "    elif col == \"roc_auc\":\n",
        "      print(\"ROC_AUC test mean = {0}\".format(cv_results[\"test_roc_auc\"].mean()))\n",
        "  if returns:\n",
        "    return cv_results\n",
        "\n",
        "cv_func_result(catboost_model, X, y, cv=5)"
      ],
      "metadata": {
        "colab": {
          "base_uri": "https://localhost:8080/"
        },
        "id": "aYMMNi_Dspm6",
        "outputId": "13343fa8-54ae-4679-f3a9-6ff5df4c7fa4"
      },
      "execution_count": null,
      "outputs": [
        {
          "output_type": "stream",
          "name": "stdout",
          "text": [
            "Accuracy test mean = 0.7735251676428148\n",
            "F1 test mean = 0.6502723851348231\n",
            "ROC_AUC test mean = 0.8378923829489867\n"
          ]
        }
      ]
    },
    {
      "cell_type": "markdown",
      "source": [
        "#Hiperparametre optimizasyonu yapmadan önceki hatalarımız :\n",
        "* Accuracy test mean = 0.7735251676428148\n",
        "* F1 test mean = 0.6502723851348231\n",
        "* ROC_AUC test mean = 0.8378923829489867"
      ],
      "metadata": {
        "id": "z6z00CfwsyJ8"
      }
    },
    {
      "cell_type": "code",
      "source": [
        "catboost_params = {\"learning_rate\": [0.1, 0.01],\n",
        "                  \"depth\": [3, 6],\n",
        "                  \"iterations\": [200, 500]}\n",
        "\n",
        "def model_best_params(model, params, cv=5, n_jobs=-1, verbose =True, random_state =17):\n",
        "  model_best_grid = GridSearchCV(model, params, cv=cv, n_jobs = n_jobs, verbose = verbose).fit(X,y)\n",
        "  for x in model_best_grid.best_params_.keys():\n",
        "    print('For {0} best param {1}'.format(x, model_best_grid.best_params_[x]))\n",
        "  \n",
        "  print(\"Set with the best parameters of your model...\")\n",
        "  model_final = model.set_params(**model_best_grid.best_params_, random_state = random_state).fit(X,y)\n",
        "  return model_final\n",
        "\n",
        "catboost_final = model_best_params(catboost_model, catboost_params)"
      ],
      "metadata": {
        "colab": {
          "base_uri": "https://localhost:8080/"
        },
        "id": "enxj3gnXstwz",
        "outputId": "4fafc086-ff92-426e-e292-7fd342290e34"
      },
      "execution_count": null,
      "outputs": [
        {
          "output_type": "stream",
          "name": "stdout",
          "text": [
            "Fitting 5 folds for each of 8 candidates, totalling 40 fits\n",
            "For depth best param 3\n",
            "For iterations best param 500\n",
            "For learning_rate best param 0.01\n",
            "Set with the best parameters of your model...\n"
          ]
        }
      ]
    },
    {
      "cell_type": "code",
      "source": [
        "cv_func_result(catboost_final, X, y, cv=5)"
      ],
      "metadata": {
        "colab": {
          "base_uri": "https://localhost:8080/"
        },
        "id": "ZYa0-GZltWGa",
        "outputId": "7a57eae6-1dea-4b53-a2cf-0059615f2b44"
      },
      "execution_count": null,
      "outputs": [
        {
          "output_type": "stream",
          "name": "stdout",
          "text": [
            "Accuracy test mean = 0.7721755368814192\n",
            "F1 test mean = 0.6322580676028952\n",
            "ROC_AUC test mean = 0.842001397624039\n"
          ]
        }
      ]
    },
    {
      "cell_type": "markdown",
      "source": [
        "#Hiperparametre optimizasyonundan sonra hatalarımız:\n",
        "* Accuracy test mean = 0.7721755368814192\n",
        "* F1 test mean = 0.6322580676028952\n",
        "* ROC_AUC test mean =  0.842001397624039"
      ],
      "metadata": {
        "id": "w0H78-0ptXhc"
      }
    },
    {
      "cell_type": "code",
      "source": [
        ""
      ],
      "metadata": {
        "id": "sFRAi-xIt8Zn"
      },
      "execution_count": null,
      "outputs": []
    }
  ]
}