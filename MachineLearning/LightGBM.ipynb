{
  "nbformat": 4,
  "nbformat_minor": 0,
  "metadata": {
    "colab": {
      "name": "LightGBM.ipynb",
      "provenance": []
    },
    "kernelspec": {
      "name": "python3",
      "display_name": "Python 3"
    },
    "language_info": {
      "name": "python"
    }
  },
  "cells": [
    {
      "cell_type": "code",
      "execution_count": null,
      "metadata": {
        "colab": {
          "base_uri": "https://localhost:8080/"
        },
        "id": "f6Fxrnzqm_z4",
        "outputId": "10eb1e3f-eeb2-4b61-d4f2-444efc63cea3"
      },
      "outputs": [
        {
          "output_type": "stream",
          "name": "stdout",
          "text": [
            "Looking in indexes: https://pypi.org/simple, https://us-python.pkg.dev/colab-wheels/public/simple/\n",
            "Requirement already satisfied: lightgbm in /usr/local/lib/python3.7/dist-packages (2.2.3)\n",
            "Requirement already satisfied: scikit-learn in /usr/local/lib/python3.7/dist-packages (from lightgbm) (1.0.2)\n",
            "Requirement already satisfied: scipy in /usr/local/lib/python3.7/dist-packages (from lightgbm) (1.7.3)\n",
            "Requirement already satisfied: numpy in /usr/local/lib/python3.7/dist-packages (from lightgbm) (1.21.6)\n",
            "Requirement already satisfied: threadpoolctl>=2.0.0 in /usr/local/lib/python3.7/dist-packages (from scikit-learn->lightgbm) (3.1.0)\n",
            "Requirement already satisfied: joblib>=0.11 in /usr/local/lib/python3.7/dist-packages (from scikit-learn->lightgbm) (1.1.0)\n"
          ]
        }
      ],
      "source": [
        "!pip install lightgbm"
      ]
    },
    {
      "cell_type": "code",
      "source": [
        "import warnings\n",
        "import numpy as np\n",
        "import pandas as pd\n",
        "import seaborn as sns\n",
        "from matplotlib import pyplot as plt\n",
        "from sklearn.ensemble import RandomForestClassifier, GradientBoostingClassifier, VotingClassifier\n",
        "from sklearn.model_selection import GridSearchCV, cross_validate, RandomizedSearchCV, validation_curve\n",
        "\n",
        "from lightgbm import LGBMClassifier\n",
        "pd.set_option(\"display.max_columns\", None)\n",
        "warnings.simplefilter(action=\"ignore\", category = Warning)"
      ],
      "metadata": {
        "id": "wBrOI1-mnMAg"
      },
      "execution_count": null,
      "outputs": []
    },
    {
      "cell_type": "code",
      "source": [
        "df = pd.read_csv(\"diabetes.csv\")\n",
        "y = df[\"Outcome\"]\n",
        "X = df.drop([\"Outcome\"], axis=1)"
      ],
      "metadata": {
        "id": "9kLHQktpnPio"
      },
      "execution_count": null,
      "outputs": []
    },
    {
      "cell_type": "code",
      "source": [
        "lgbm_model = LGBMClassifier(random_state = 17)\n",
        "lgbm_model.get_params()"
      ],
      "metadata": {
        "colab": {
          "base_uri": "https://localhost:8080/"
        },
        "id": "E_NDzJEhnVub",
        "outputId": "46e57ccc-033e-45dd-8400-395bfa367ee1"
      },
      "execution_count": null,
      "outputs": [
        {
          "output_type": "execute_result",
          "data": {
            "text/plain": [
              "{'boosting_type': 'gbdt',\n",
              " 'class_weight': None,\n",
              " 'colsample_bytree': 1.0,\n",
              " 'importance_type': 'split',\n",
              " 'learning_rate': 0.1,\n",
              " 'max_depth': -1,\n",
              " 'min_child_samples': 20,\n",
              " 'min_child_weight': 0.001,\n",
              " 'min_split_gain': 0.0,\n",
              " 'n_estimators': 100,\n",
              " 'n_jobs': -1,\n",
              " 'num_leaves': 31,\n",
              " 'objective': None,\n",
              " 'random_state': 17,\n",
              " 'reg_alpha': 0.0,\n",
              " 'reg_lambda': 0.0,\n",
              " 'silent': True,\n",
              " 'subsample': 1.0,\n",
              " 'subsample_for_bin': 200000,\n",
              " 'subsample_freq': 0}"
            ]
          },
          "metadata": {},
          "execution_count": 4
        }
      ]
    },
    {
      "cell_type": "code",
      "source": [
        "def cv_func_result(model, X, y, cv=10, scoring=[\"accuracy\", \"f1\", \"roc_auc\"],returns=False):\n",
        "  cv_results = cross_validate(model, X=X, y=y, cv=cv, scoring=scoring)\n",
        "  for col in scoring:\n",
        "    if col == \"accuracy\":\n",
        "      print(\"Accuracy test mean = {0}\".format(cv_results[\"test_accuracy\"].mean()))\n",
        "    elif col == \"f1\":\n",
        "      print(\"F1 test mean = {0}\".format(cv_results[\"test_f1\"].mean()))\n",
        "    elif col == \"roc_auc\":\n",
        "      print(\"ROC_AUC test mean = {0}\".format(cv_results[\"test_roc_auc\"].mean()))\n",
        "  if returns:\n",
        "    return cv_results\n",
        "\n",
        "cv_func_result(lgbm_model, X, y, cv=5)"
      ],
      "metadata": {
        "colab": {
          "base_uri": "https://localhost:8080/"
        },
        "id": "kiqAjsR9noTk",
        "outputId": "ba43566f-a478-4b71-fc2f-ff18426eba93"
      },
      "execution_count": null,
      "outputs": [
        {
          "output_type": "stream",
          "name": "stdout",
          "text": [
            "Accuracy test mean = 0.7487479840421016\n",
            "F1 test mean = 0.6191041399705154\n",
            "ROC_AUC test mean = 0.8028567435359889\n"
          ]
        }
      ]
    },
    {
      "cell_type": "markdown",
      "source": [
        "#Hiperparametre optimizasyonu yapmadan önceki hatalarımız :\n",
        "* Accuracy test mean = 0.7487479840421016\n",
        "* F1 test mean = 0.6191041399705154\n",
        "* ROC_AUC test mean = 0.8028567435359889"
      ],
      "metadata": {
        "id": "tpvt8a8Hnj4Q"
      }
    },
    {
      "cell_type": "code",
      "source": [
        "lgbm_params = {\"learning_rate\": [0.1, 0.01],\n",
        "                  \"n_estimators\": [100, 300, 500, 1000],\n",
        "                  \"colsample_bytree\": [ 0.5, 0.7, 1]}\n",
        "\n",
        "def model_best_params(model, params, cv=5, n_jobs=-1, verbose =True, random_state =17):\n",
        "  model_best_grid = GridSearchCV(model, params, cv=cv, n_jobs = n_jobs, verbose = verbose).fit(X,y)\n",
        "  for x in model_best_grid.best_params_.keys():\n",
        "    print('For {0} best param {1}'.format(x, model_best_grid.best_params_[x]))\n",
        "  \n",
        "  print(\"Set with the best parameters of your model...\")\n",
        "  model_final = model.set_params(**model_best_grid.best_params_, random_state = random_state).fit(X,y)\n",
        "  return model_final\n",
        "\n",
        "lgbm_final = model_best_params(lgbm_model, lgbm_params)"
      ],
      "metadata": {
        "colab": {
          "base_uri": "https://localhost:8080/"
        },
        "id": "3gXLebrBngKM",
        "outputId": "a2b62be2-0df8-4093-c5d4-89d71703b168"
      },
      "execution_count": null,
      "outputs": [
        {
          "output_type": "stream",
          "name": "stdout",
          "text": [
            "Fitting 5 folds for each of 24 candidates, totalling 120 fits\n",
            "For colsample_bytree best param 0.7\n",
            "For learning_rate best param 0.01\n",
            "For n_estimators best param 300\n",
            "Set with the best parameters of your model...\n"
          ]
        }
      ]
    },
    {
      "cell_type": "code",
      "source": [
        "cv_func_result(lgbm_final, X, y, cv=5)"
      ],
      "metadata": {
        "colab": {
          "base_uri": "https://localhost:8080/"
        },
        "id": "l2Y8nNfBpy_d",
        "outputId": "a33511df-e9b3-4b3f-bbdb-df27ffa8057a"
      },
      "execution_count": null,
      "outputs": [
        {
          "output_type": "stream",
          "name": "stdout",
          "text": [
            "Accuracy test mean = 0.7656650539003481\n",
            "F1 test mean = 0.6235412536580761\n",
            "ROC_AUC test mean = 0.8215443745632426\n"
          ]
        }
      ]
    },
    {
      "cell_type": "markdown",
      "source": [
        "#İlk hiperparametre optimizasyonundan sonra hatalarımız:\n",
        "* Accuracy test mean = 0.7656650539003481\n",
        "* F1 test mean = 0.6235412536580761\n",
        "* ROC_AUC test mean =  0.8215443745632426"
      ],
      "metadata": {
        "id": "RpwLQVvep4jJ"
      }
    }
  ]
}