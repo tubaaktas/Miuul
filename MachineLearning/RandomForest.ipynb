{
  "nbformat": 4,
  "nbformat_minor": 0,
  "metadata": {
    "colab": {
      "name": "RandomForest.ipynb",
      "provenance": [],
      "collapsed_sections": []
    },
    "kernelspec": {
      "name": "python3",
      "display_name": "Python 3"
    },
    "language_info": {
      "name": "python"
    }
  },
  "cells": [
    {
      "cell_type": "code",
      "source": [
        "!pip install catboost\n",
        "!pip install lightgbm\n",
        "!pip install xgboost"
      ],
      "metadata": {
        "colab": {
          "base_uri": "https://localhost:8080/"
        },
        "id": "FhmeNMDhS21l",
        "outputId": "4a2065aa-e7b1-4e2f-d6c2-363b1629e2e4"
      },
      "execution_count": null,
      "outputs": [
        {
          "output_type": "stream",
          "name": "stdout",
          "text": [
            "Looking in indexes: https://pypi.org/simple, https://us-python.pkg.dev/colab-wheels/public/simple/\n",
            "Collecting catboost\n",
            "  Downloading catboost-1.0.6-cp37-none-manylinux1_x86_64.whl (76.6 MB)\n",
            "\u001b[K     |████████████████████████████████| 76.6 MB 89 kB/s \n",
            "\u001b[?25hRequirement already satisfied: graphviz in /usr/local/lib/python3.7/dist-packages (from catboost) (0.10.1)\n",
            "Requirement already satisfied: matplotlib in /usr/local/lib/python3.7/dist-packages (from catboost) (3.2.2)\n",
            "Requirement already satisfied: plotly in /usr/local/lib/python3.7/dist-packages (from catboost) (5.5.0)\n",
            "Requirement already satisfied: scipy in /usr/local/lib/python3.7/dist-packages (from catboost) (1.7.3)\n",
            "Requirement already satisfied: six in /usr/local/lib/python3.7/dist-packages (from catboost) (1.15.0)\n",
            "Requirement already satisfied: pandas>=0.24.0 in /usr/local/lib/python3.7/dist-packages (from catboost) (1.3.5)\n",
            "Requirement already satisfied: numpy>=1.16.0 in /usr/local/lib/python3.7/dist-packages (from catboost) (1.21.6)\n",
            "Requirement already satisfied: pytz>=2017.3 in /usr/local/lib/python3.7/dist-packages (from pandas>=0.24.0->catboost) (2022.1)\n",
            "Requirement already satisfied: python-dateutil>=2.7.3 in /usr/local/lib/python3.7/dist-packages (from pandas>=0.24.0->catboost) (2.8.2)\n",
            "Requirement already satisfied: pyparsing!=2.0.4,!=2.1.2,!=2.1.6,>=2.0.1 in /usr/local/lib/python3.7/dist-packages (from matplotlib->catboost) (3.0.9)\n",
            "Requirement already satisfied: cycler>=0.10 in /usr/local/lib/python3.7/dist-packages (from matplotlib->catboost) (0.11.0)\n",
            "Requirement already satisfied: kiwisolver>=1.0.1 in /usr/local/lib/python3.7/dist-packages (from matplotlib->catboost) (1.4.4)\n",
            "Requirement already satisfied: typing-extensions in /usr/local/lib/python3.7/dist-packages (from kiwisolver>=1.0.1->matplotlib->catboost) (4.1.1)\n",
            "Requirement already satisfied: tenacity>=6.2.0 in /usr/local/lib/python3.7/dist-packages (from plotly->catboost) (8.0.1)\n",
            "Installing collected packages: catboost\n",
            "Successfully installed catboost-1.0.6\n",
            "Looking in indexes: https://pypi.org/simple, https://us-python.pkg.dev/colab-wheels/public/simple/\n",
            "Requirement already satisfied: lightgbm in /usr/local/lib/python3.7/dist-packages (2.2.3)\n",
            "Requirement already satisfied: scikit-learn in /usr/local/lib/python3.7/dist-packages (from lightgbm) (1.0.2)\n",
            "Requirement already satisfied: scipy in /usr/local/lib/python3.7/dist-packages (from lightgbm) (1.7.3)\n",
            "Requirement already satisfied: numpy in /usr/local/lib/python3.7/dist-packages (from lightgbm) (1.21.6)\n",
            "Requirement already satisfied: threadpoolctl>=2.0.0 in /usr/local/lib/python3.7/dist-packages (from scikit-learn->lightgbm) (3.1.0)\n",
            "Requirement already satisfied: joblib>=0.11 in /usr/local/lib/python3.7/dist-packages (from scikit-learn->lightgbm) (1.1.0)\n",
            "Looking in indexes: https://pypi.org/simple, https://us-python.pkg.dev/colab-wheels/public/simple/\n",
            "Requirement already satisfied: xgboost in /usr/local/lib/python3.7/dist-packages (0.90)\n",
            "Requirement already satisfied: scipy in /usr/local/lib/python3.7/dist-packages (from xgboost) (1.7.3)\n",
            "Requirement already satisfied: numpy in /usr/local/lib/python3.7/dist-packages (from xgboost) (1.21.6)\n"
          ]
        }
      ]
    },
    {
      "cell_type": "code",
      "execution_count": null,
      "metadata": {
        "id": "BGrMD3TNvDBR"
      },
      "outputs": [],
      "source": [
        "import warnings\n",
        "import numpy as np\n",
        "import pandas as pd\n",
        "import seaborn as sns\n",
        "from matplotlib import pyplot as plt\n",
        "from sklearn.ensemble import RandomForestClassifier, GradientBoostingClassifier, VotingClassifier\n",
        "from sklearn.model_selection import GridSearchCV, cross_validate, RandomizedSearchCV, validation_curve\n",
        "\n",
        "from xgboost import XGBClassifier\n",
        "from lightgbm import LGBMClassifier\n",
        "from catboost import CatBoostClassifier"
      ]
    },
    {
      "cell_type": "code",
      "source": [
        "pd.set_option(\"display.max_columns\", None)\n",
        "warnings.simplefilter(action=\"ignore\", category = Warning)"
      ],
      "metadata": {
        "id": "QdY5T6YaTaBu"
      },
      "execution_count": null,
      "outputs": []
    },
    {
      "cell_type": "code",
      "source": [
        "df = pd.read_csv(\"diabetes.csv\")\n",
        "y = df[\"Outcome\"]\n",
        "X = df.drop([\"Outcome\"], axis=1)"
      ],
      "metadata": {
        "id": "hKPS3I51TqT3"
      },
      "execution_count": null,
      "outputs": []
    },
    {
      "cell_type": "markdown",
      "source": [
        "#Random Forest"
      ],
      "metadata": {
        "id": "u4nHG_tnXVBZ"
      }
    },
    {
      "cell_type": "code",
      "source": [
        "rf_model = RandomForestClassifier(random_state=17)\n",
        "rf_model.get_params()"
      ],
      "metadata": {
        "colab": {
          "base_uri": "https://localhost:8080/"
        },
        "id": "SSboR0qcT2YL",
        "outputId": "f270741f-79de-4b8d-8f50-fdec2cbade60"
      },
      "execution_count": null,
      "outputs": [
        {
          "output_type": "execute_result",
          "data": {
            "text/plain": [
              "{'bootstrap': True,\n",
              " 'ccp_alpha': 0.0,\n",
              " 'class_weight': None,\n",
              " 'criterion': 'gini',\n",
              " 'max_depth': None,\n",
              " 'max_features': 'auto',\n",
              " 'max_leaf_nodes': None,\n",
              " 'max_samples': None,\n",
              " 'min_impurity_decrease': 0.0,\n",
              " 'min_samples_leaf': 1,\n",
              " 'min_samples_split': 2,\n",
              " 'min_weight_fraction_leaf': 0.0,\n",
              " 'n_estimators': 100,\n",
              " 'n_jobs': None,\n",
              " 'oob_score': False,\n",
              " 'random_state': 17,\n",
              " 'verbose': 0,\n",
              " 'warm_start': False}"
            ]
          },
          "metadata": {},
          "execution_count": 5
        }
      ]
    },
    {
      "cell_type": "code",
      "source": [
        "#Hiperparametre değişimi yapmadan önce ön tanımlı değerler ile alacağımız hataları da göz önünde bulunduralım:\n",
        "cv_results = cross_validate(rf_model, X, y, cv=10, scoring=[\"accuracy\", \"f1\", \"roc_auc\"])\n",
        "cv_results[\"test_accuracy\"].mean()"
      ],
      "metadata": {
        "colab": {
          "base_uri": "https://localhost:8080/"
        },
        "id": "jRwOuDU7YVOq",
        "outputId": "6acbe694-ec86-4b3f-e4e9-a6e99fab490b"
      },
      "execution_count": null,
      "outputs": [
        {
          "output_type": "execute_result",
          "data": {
            "text/plain": [
              "0.753896103896104"
            ]
          },
          "metadata": {},
          "execution_count": 6
        }
      ]
    },
    {
      "cell_type": "code",
      "source": [
        "cv_results[\"test_f1\"].mean()"
      ],
      "metadata": {
        "colab": {
          "base_uri": "https://localhost:8080/"
        },
        "id": "aep0gKweY73R",
        "outputId": "dad92f16-caa0-4c15-cc6d-a60d45181586"
      },
      "execution_count": null,
      "outputs": [
        {
          "output_type": "execute_result",
          "data": {
            "text/plain": [
              "0.6190701534636385"
            ]
          },
          "metadata": {},
          "execution_count": 7
        }
      ]
    },
    {
      "cell_type": "code",
      "source": [
        "cv_results[\"test_roc_auc\"].mean()"
      ],
      "metadata": {
        "colab": {
          "base_uri": "https://localhost:8080/"
        },
        "id": "pE2rL42yY8Nt",
        "outputId": "e414fff5-d027-4460-e8f3-8645b30cd7b8"
      },
      "execution_count": null,
      "outputs": [
        {
          "output_type": "execute_result",
          "data": {
            "text/plain": [
              "0.8233960113960114"
            ]
          },
          "metadata": {},
          "execution_count": 8
        }
      ]
    },
    {
      "cell_type": "markdown",
      "source": [
        "#Hiperparametreler ön tanımlı hallerinde kullanıldığındaki hata sonuçları:\n",
        "#ACCURACY = 0.753896103896104\n",
        "#F1 = 0.6190701534636385\n",
        "#ROC_AUC = 0.8233960113960114"
      ],
      "metadata": {
        "id": "j1bs0hJtY-xh"
      }
    },
    {
      "cell_type": "markdown",
      "source": [
        "#NOT: Hiperparametre optimizasyonu yapıldığı halde daha düşük sonuç almıyorsanız bunun sebebi:\n",
        "* Ön tanımlı değerleri parametre setinizde bulundurmadığınızdan,\n",
        "* Rastgelelikle ilgili olabilir."
      ],
      "metadata": {
        "id": "1M2FE2-DZc5y"
      }
    },
    {
      "cell_type": "code",
      "source": [
        "#Hiperparametre optimizasyonu yapalım:\n",
        "#Ön tanımlı değerlerimizi de bu parametreye koyuyoruz çünkü çalışmanın en başında alınacak hatadan daha kötü bir hata elde etmemiş olalım.\n",
        "\n",
        "rf_params = {\"max_depth\": [5, 8, None], #Derinlik\n",
        "             \"max_features\": [3, 5, 7, \"auto\"], #Bölünmelerde göz önünde bulundurulması gereken değişken sayısı(Dikkat ! Veri setindeki değişken sayısından daha fazla olmamalı !!!)\n",
        "             \"min_samples_split\": [2, 5, 8, 15, 20], #Bir düğümün dallanmaya maruz bırakılıp bırakılmayacağını karar vermek için kaç tane gözlem birimi olması gerektiği\n",
        "             \"n_estimators\": [100, 200, 500]} #Random forest için birbirinden bağımsız fit edilecek (kurulacak olan) ağaç sayısı\n",
        "\n",
        "#GridSearchCV kullanarak aramamızı yapalım:\n",
        "#rf_best_grid = GridSearchCV(rf_model, rf_params, cv=5, n_jobs=-1, verbose =1).fit(X,y)"
      ],
      "metadata": {
        "id": "ceAVoBlkXfq7"
      },
      "execution_count": null,
      "outputs": []
    },
    {
      "cell_type": "code",
      "source": [
        "def model_best_params(model, params, cv=5, n_jobs=-1, verbose =1, random_state =17):\n",
        "  model_best_grid = GridSearchCV(model, params, cv=cv, n_jobs = n_jobs, verbose = verbose).fit(X,y)\n",
        "  for x in model_best_grid.best_params_.keys():\n",
        "    print('For {0} best param {1}'.format(x, model_best_grid.best_params_[x]))\n",
        "  \n",
        "  print(\"Set with the best parameters of your model...\")\n",
        "  final_model = model.set_params(**model_best_grid.best_params_, random_state = random_state).fit(X,y)\n",
        "  return final_model\n",
        "\n",
        "rf_final = model_best_params(rf_model, rf_params)"
      ],
      "metadata": {
        "colab": {
          "base_uri": "https://localhost:8080/"
        },
        "id": "Ti9CqZvu3VNs",
        "outputId": "164bf032-9097-4089-bc55-84fd513f6466"
      },
      "execution_count": null,
      "outputs": [
        {
          "output_type": "stream",
          "name": "stdout",
          "text": [
            "Fitting 5 folds for each of 180 candidates, totalling 900 fits\n",
            "For max_depth best param None\n",
            "For max_features best param 5\n",
            "For min_samples_split best param 8\n",
            "For n_estimators best param 500\n",
            "Set with the best parameters of your model...\n"
          ]
        }
      ]
    },
    {
      "cell_type": "code",
      "source": [
        "def cv_func(final_model, X, y, cv=10, scoring=[\"accuracy\", \"f1\", \"roc_auc\"],returns=False):\n",
        "  cv_results = cross_validate(final_model, X=X, y=y, cv=cv, scoring=scoring)\n",
        "  for col in scoring:\n",
        "    if col == \"accuracy\":\n",
        "      print(\"Accuracy test mean = {0}\".format(cv_results[\"test_accuracy\"].mean()))\n",
        "    elif col == \"f1\":\n",
        "      print(\"F1 test mean = {0}\".format(cv_results[\"test_f1\"].mean()))\n",
        "    elif col == \"roc_auc\":\n",
        "      print(\"ROC_AUC test mean = {0}\".format(cv_results[\"test_roc_auc\"].mean()))\n",
        "  if returns:\n",
        "    return cv_results\n",
        "\n",
        "cv_func(rf_final, X, y)"
      ],
      "metadata": {
        "colab": {
          "base_uri": "https://localhost:8080/"
        },
        "id": "Wnfd5DlCAaZU",
        "outputId": "2407bd27-dc42-4618-a8d6-115723dbf4fe"
      },
      "execution_count": null,
      "outputs": [
        {
          "output_type": "stream",
          "name": "stdout",
          "text": [
            "Accuracy test mean = 0.766848940533151\n",
            "F1 test mean = 0.6447777811143756\n",
            "ROC_AUC test mean = 0.8271054131054132\n"
          ]
        }
      ]
    },
    {
      "cell_type": "markdown",
      "source": [
        "#Hiperparametre optimizasyonu yaparak aldığımız sonuçlar :\n",
        "#ACCURACY = 0.766848940533151\n",
        "#F1 = 0.6447777811143756\n",
        "#ROC_AUC = 0.8271054131054132"
      ],
      "metadata": {
        "id": "nkHTAkP0dyvZ"
      }
    },
    {
      "cell_type": "code",
      "source": [
        "def plot_importance(model,features,num=len(X),save=False):\n",
        "  feature_imp = pd.DataFrame({\"Value\": model.feature_importances_, \"Feature\":features.columns})\n",
        "  plt.figure(figsize=(10,10))\n",
        "  sns.set(font_scale=1)\n",
        "  sns.barplot(x=\"Value\", y=\"Feature\", data=feature_imp.sort_values(by=\"Value\",\n",
        "                                                                   ascending=False)[0:num])\n",
        "  plt.title(\"Features\")\n",
        "  plt.tight_layout()\n",
        "  plt.show()\n",
        "  if save:\n",
        "    plt.savefig(\"importances.png\")\n",
        "\n",
        "plot_importance(rf_final, X)"
      ],
      "metadata": {
        "colab": {
          "base_uri": "https://localhost:8080/",
          "height": 662
        },
        "id": "SoEeqIVkgXn4",
        "outputId": "97ca88e0-cd1e-465c-fcfa-958ee2d6ba95"
      },
      "execution_count": null,
      "outputs": [
        {
          "output_type": "display_data",
          "data": {
            "text/plain": [
              "<Figure size 720x720 with 1 Axes>"
            ],
            "image/png": "[encoded data removed]"
          },
          "metadata": {
            "needs_background": "light"
          }
        }
      ]
    },
    {
      "cell_type": "code",
      "source": [
        "def val_curve_params(model, X, y, param_name, param_range, scoring=\"roc_auc\", cv=10):\n",
        "  train_score, test_score = validation_curve(model, X = X, y = y,\n",
        "                                           param_name = param_name,\n",
        "                                           param_range = param_range,\n",
        "                                           scoring=scoring,\n",
        "                                           cv = cv)\n",
        "  mean_train_score = np.mean(train_score, axis=1)\n",
        "  mean_test_score = np.mean(test_score, axis=1)\n",
        "\n",
        "  plt.plot(param_range, mean_train_score,\n",
        "           label=\"Training Score\", color=\"b\")\n",
        "  \n",
        "  plt.plot(param_range, mean_test_score,\n",
        "           label=\"Validation Score\", color=\"r\")\n",
        "  \n",
        "  plt.title(f\"Validation Curve for{type(model).__name__}\")\n",
        "  plt.xlabel(f\"Number of {param_name}\")\n",
        "  plt.ylabel(f\"{scoring}\")\n",
        "  plt.tight_layout()\n",
        "  plt.legend(loc=\"best\")\n",
        "  plt.show(block=True)\n",
        "\n",
        "val_curve_params(rf_final, X, y, \"max_depth\", range(1,11))"
      ],
      "metadata": {
        "colab": {
          "base_uri": "https://localhost:8080/",
          "height": 293
        },
        "id": "lzyYOLdGFIi3",
        "outputId": "28a4b6d9-e919-400e-c854-acb480ad1dab"
      },
      "execution_count": null,
      "outputs": [
        {
          "output_type": "display_data",
          "data": {
            "text/plain": [
              "<Figure size 432x288 with 1 Axes>"
            ],
            "image/png": "[encoded data removed]"
          },
          "metadata": {}
        }
      ]
    },
    {
      "cell_type": "code",
      "source": [
        "gbm_model = GradientBoostingClassifier(random_state = 17)\n",
        "gbm_model.get_params()"
      ],
      "metadata": {
        "colab": {
          "base_uri": "https://localhost:8080/"
        },
        "id": "5MFQIJXtQ5UN",
        "outputId": "a63e7b14-91cd-4997-e11a-754c8c0b9340"
      },
      "execution_count": null,
      "outputs": [
        {
          "output_type": "execute_result",
          "data": {
            "text/plain": [
              "{'ccp_alpha': 0.0,\n",
              " 'criterion': 'friedman_mse',\n",
              " 'init': None,\n",
              " 'learning_rate': 0.1,\n",
              " 'loss': 'deviance',\n",
              " 'max_depth': 3,\n",
              " 'max_features': None,\n",
              " 'max_leaf_nodes': None,\n",
              " 'min_impurity_decrease': 0.0,\n",
              " 'min_samples_leaf': 1,\n",
              " 'min_samples_split': 2,\n",
              " 'min_weight_fraction_leaf': 0.0,\n",
              " 'n_estimators': 100,\n",
              " 'n_iter_no_change': None,\n",
              " 'random_state': 17,\n",
              " 'subsample': 1.0,\n",
              " 'tol': 0.0001,\n",
              " 'validation_fraction': 0.1,\n",
              " 'verbose': 0,\n",
              " 'warm_start': False}"
            ]
          },
          "metadata": {},
          "execution_count": 15
        }
      ]
    },
    {
      "cell_type": "code",
      "source": [
        "def cv_func_result(model, X, y, cv=10, scoring=[\"accuracy\", \"f1\", \"roc_auc\"],returns=False):\n",
        "  cv_results = cross_validate(model, X=X, y=y, cv=cv, scoring=scoring)\n",
        "  for col in scoring:\n",
        "    if col == \"accuracy\":\n",
        "      print(\"Accuracy test mean = {0}\".format(cv_results[\"test_accuracy\"].mean()))\n",
        "    elif col == \"f1\":\n",
        "      print(\"F1 test mean = {0}\".format(cv_results[\"test_f1\"].mean()))\n",
        "    elif col == \"roc_auc\":\n",
        "      print(\"ROC_AUC test mean = {0}\".format(cv_results[\"test_roc_auc\"].mean()))\n",
        "  if returns:\n",
        "    return cv_results\n",
        "\n",
        "cv_func_result(gbm_model, X, y, cv=5)"
      ],
      "metadata": {
        "colab": {
          "base_uri": "https://localhost:8080/"
        },
        "id": "hZAMAmLoQ7zV",
        "outputId": "80d4ccd4-e60c-4b61-f469-ec97d02d721b"
      },
      "execution_count": null,
      "outputs": [
        {
          "output_type": "stream",
          "name": "stdout",
          "text": [
            "Accuracy test mean = 0.7591715474068416\n",
            "F1 test mean = 0.634235802826363\n",
            "ROC_AUC test mean = 0.8254867225716283\n"
          ]
        }
      ]
    },
    {
      "cell_type": "code",
      "source": [
        "gbm_params = {\"learning_rate\":[0.01, 0.1],\n",
        "              \"max_depth\":[3,8,10],\n",
        "              \"n_estimators\":[100,500, 1000],\n",
        "              \"subsample\":[1, 0.5, 0.7]}\n",
        "\n",
        "def model_best_params(model, params, cv=5, n_jobs=-1, verbose =True, random_state =17):\n",
        "  model_best_grid = GridSearchCV(model, params, cv=cv, n_jobs = n_jobs, verbose = verbose).fit(X,y)\n",
        "  for x in model_best_grid.best_params_.keys():\n",
        "    print('For {0} best param {1}'.format(x, model_best_grid.best_params_[x]))\n",
        "  \n",
        "  print(\"Set with the best parameters of your model...\")\n",
        "  model_final = model.set_params(**model_best_grid.best_params_, random_state = random_state).fit(X,y)\n",
        "  return model_final\n",
        "\n",
        "gbm_final = model_best_params(gbm_model, gbm_params)\n",
        "gbm_final"
      ],
      "metadata": {
        "colab": {
          "base_uri": "https://localhost:8080/"
        },
        "id": "txMSuSvvPKuJ",
        "outputId": "f0f00bbc-fb43-4a20-8364-407ac4b32b31"
      },
      "execution_count": null,
      "outputs": [
        {
          "output_type": "stream",
          "name": "stdout",
          "text": [
            "Fitting 5 folds for each of 54 candidates, totalling 270 fits\n",
            "For learning_rate best param 0.1\n",
            "For max_depth best param 10\n",
            "For n_estimators best param 100\n",
            "For subsample best param 0.5\n",
            "Set with the best parameters of your model...\n"
          ]
        },
        {
          "output_type": "execute_result",
          "data": {
            "text/plain": [
              "GradientBoostingClassifier(max_depth=10, random_state=17, subsample=0.5)"
            ]
          },
          "metadata": {},
          "execution_count": 17
        }
      ]
    },
    {
      "cell_type": "code",
      "source": [
        "gbm_final = cv_func_result(gbm_final, X, y, cv=5)"
      ],
      "metadata": {
        "colab": {
          "base_uri": "https://localhost:8080/"
        },
        "id": "sOqBmJjmPOt3",
        "outputId": "7c204eed-80b3-40c6-b880-d11c0a801cc5"
      },
      "execution_count": null,
      "outputs": [
        {
          "output_type": "stream",
          "name": "stdout",
          "text": [
            "Accuracy test mean = 0.7774127832951362\n",
            "F1 test mean = 0.6624630868272237\n",
            "ROC_AUC test mean = 0.8300300489168414\n"
          ]
        }
      ]
    },
    {
      "cell_type": "code",
      "source": [
        ""
      ],
      "metadata": {
        "id": "S1Kypi01TFgF"
      },
      "execution_count": null,
      "outputs": []
    }
  ]
}