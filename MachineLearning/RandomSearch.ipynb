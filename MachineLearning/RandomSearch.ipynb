{
  "nbformat": 4,
  "nbformat_minor": 0,
  "metadata": {
    "colab": {
      "name": "RandomSearch.ipynb",
      "provenance": []
    },
    "kernelspec": {
      "name": "python3",
      "display_name": "Python 3"
    },
    "language_info": {
      "name": "python"
    }
  },
  "cells": [
    {
      "cell_type": "code",
      "execution_count": null,
      "metadata": {
        "id": "TtgX3AlPV-ns"
      },
      "outputs": [],
      "source": [
        "import warnings\n",
        "import numpy as np\n",
        "import pandas as pd\n",
        "import seaborn as sns\n",
        "from matplotlib import pyplot as plt\n",
        "from sklearn.ensemble import RandomForestClassifier, GradientBoostingClassifier, VotingClassifier\n",
        "from sklearn.model_selection import GridSearchCV, cross_validate, RandomizedSearchCV, validation_curve\n"
      ]
    },
    {
      "cell_type": "code",
      "source": [
        "df = pd.read_csv(\"diabetes.csv\")\n",
        "y = df[\"Outcome\"]\n",
        "X = df.drop([\"Outcome\"], axis=1)"
      ],
      "metadata": {
        "id": "gjcZ0N0Lgp4M"
      },
      "execution_count": null,
      "outputs": []
    },
    {
      "cell_type": "code",
      "source": [
        "rf_model = RandomForestClassifier(random_state=17)"
      ],
      "metadata": {
        "id": "cfWK5u99ZtFx"
      },
      "execution_count": null,
      "outputs": []
    },
    {
      "cell_type": "code",
      "source": [
        "rf_model.get_params()"
      ],
      "metadata": {
        "colab": {
          "base_uri": "https://localhost:8080/"
        },
        "id": "Vlxv-3rpt1bs",
        "outputId": "e519bd8a-4f1c-4138-f308-e3054306331c"
      },
      "execution_count": null,
      "outputs": [
        {
          "output_type": "execute_result",
          "data": {
            "text/plain": [
              "{'bootstrap': True,\n",
              " 'ccp_alpha': 0.0,\n",
              " 'class_weight': None,\n",
              " 'criterion': 'gini',\n",
              " 'max_depth': 22,\n",
              " 'max_features': 'sqrt',\n",
              " 'max_leaf_nodes': None,\n",
              " 'max_samples': None,\n",
              " 'min_impurity_decrease': 0.0,\n",
              " 'min_samples_leaf': 1,\n",
              " 'min_samples_split': 28,\n",
              " 'min_weight_fraction_leaf': 0.0,\n",
              " 'n_estimators': 200,\n",
              " 'n_jobs': None,\n",
              " 'oob_score': False,\n",
              " 'random_state': 17,\n",
              " 'verbose': 0,\n",
              " 'warm_start': False}"
            ]
          },
          "metadata": {},
          "execution_count": 43
        }
      ]
    },
    {
      "cell_type": "code",
      "source": [
        "rf_random_params = {\"max_depth\": np.random.randint(5,50,10),\n",
        "                    \"max_features\":[3, 5, 7, \"auto\",\"sqrt\"],\n",
        "                    \"min_samples_split\": np.random.randint(2, 50, 20),\n",
        "                    \"n_estimators\":[int(x) for x in np.linspace(start=200, stop=1500, num=10)]}"
      ],
      "metadata": {
        "id": "N5Vjbw-tZznv"
      },
      "execution_count": null,
      "outputs": []
    },
    {
      "cell_type": "markdown",
      "source": [
        "Hayat Kurtaran Serisinden !\n",
        "\n",
        "Gidilecek yönü bimiyorsanız, ilgili algoritma içerisinde detaylı bir çalışma imkanınız olmadıysa öncelikle random search cv yardımıyla geniş bir hiper parametre seti girip, random search ile arama yapıp sonucunda optimum olarak bulduğunuz hiperparametrelerin etrafına yeni değerler koyarak gread search yapılması tavsiye edilir."
      ],
      "metadata": {
        "id": "Nn-QoWgjc7iS"
      }
    },
    {
      "cell_type": "code",
      "source": [
        "rf_random = RandomizedSearchCV(estimator = rf_model,\n",
        "                               param_distributions = rf_random_params,\n",
        "                               n_iter =100, #denenecek parametre sayısı\n",
        "                               cv= 3,\n",
        "                               verbose = True,\n",
        "                               random_state = 42,\n",
        "                               n_jobs=-1)"
      ],
      "metadata": {
        "id": "Ar6VMff_c6zB"
      },
      "execution_count": null,
      "outputs": []
    },
    {
      "cell_type": "code",
      "source": [
        "rf_random.fit(X, y)"
      ],
      "metadata": {
        "colab": {
          "base_uri": "https://localhost:8080/"
        },
        "id": "1rUA9rbgglmb",
        "outputId": "91f39ea8-ef39-473b-e44a-9695a75d3351"
      },
      "execution_count": null,
      "outputs": [
        {
          "output_type": "stream",
          "name": "stdout",
          "text": [
            "Fitting 3 folds for each of 100 candidates, totalling 300 fits\n"
          ]
        },
        {
          "output_type": "execute_result",
          "data": {
            "text/plain": [
              "RandomizedSearchCV(cv=3, estimator=RandomForestClassifier(random_state=17),\n",
              "                   n_iter=100, n_jobs=-1,\n",
              "                   param_distributions={'max_depth': array([22,  9,  5, 12, 47,  5, 42,  6, 14, 44]),\n",
              "                                        'max_features': [3, 5, 7, 'auto',\n",
              "                                                         'sqrt'],\n",
              "                                        'min_samples_split': array([42, 34, 22, 34,  8, 26, 28, 37, 49,  6, 44, 45, 42, 39, 30, 49,  6,\n",
              "       49, 33,  7]),\n",
              "                                        'n_estimators': [200, 344, 488, 633,\n",
              "                                                         777, 922, 1066, 1211,\n",
              "                                                         1355, 1500]},\n",
              "                   random_state=42, verbose=True)"
            ]
          },
          "metadata": {},
          "execution_count": 35
        }
      ]
    },
    {
      "cell_type": "code",
      "source": [
        "rf_random.best_params_"
      ],
      "metadata": {
        "colab": {
          "base_uri": "https://localhost:8080/"
        },
        "id": "tbGl0jAGgoKI",
        "outputId": "2defd10d-ad9d-4d35-c2ec-926be775b50b"
      },
      "execution_count": null,
      "outputs": [
        {
          "output_type": "execute_result",
          "data": {
            "text/plain": [
              "{'max_depth': 22,\n",
              " 'max_features': 'sqrt',\n",
              " 'min_samples_split': 28,\n",
              " 'n_estimators': 200}"
            ]
          },
          "metadata": {},
          "execution_count": 36
        }
      ]
    },
    {
      "cell_type": "code",
      "source": [
        "rf_model_final = rf_model.set_params(**rf_random.best_params_, random_state = 17).fit(X,y)"
      ],
      "metadata": {
        "id": "m40Mooc8s0Gb"
      },
      "execution_count": null,
      "outputs": []
    },
    {
      "cell_type": "code",
      "source": [
        "def cv_func_result(model, X, y, cv=10, scoring=[\"accuracy\", \"f1\", \"roc_auc\"],returns=False):\n",
        "  cv_results = cross_validate(model, X=X, y=y, cv=cv, scoring=scoring)\n",
        "  for col in scoring:\n",
        "    if col == \"accuracy\":\n",
        "      print(\"Accuracy test mean = {0}\".format(cv_results[\"test_accuracy\"].mean()))\n",
        "    elif col == \"f1\":\n",
        "      print(\"F1 test mean = {0}\".format(cv_results[\"test_f1\"].mean()))\n",
        "    elif col == \"roc_auc\":\n",
        "      print(\"ROC_AUC test mean = {0}\".format(cv_results[\"test_roc_auc\"].mean()))\n",
        "  if returns:\n",
        "    return cv_results\n",
        "\n",
        "cv_func_result(rf_model_final, X, y, cv=5)"
      ],
      "metadata": {
        "colab": {
          "base_uri": "https://localhost:8080/"
        },
        "id": "HxozhTWHrtrM",
        "outputId": "be1da57c-de29-4375-bce3-d40a5ea0b663"
      },
      "execution_count": null,
      "outputs": [
        {
          "output_type": "stream",
          "name": "stdout",
          "text": [
            "Accuracy test mean = 0.7682879212290977\n",
            "F1 test mean = 0.6293202548677237\n",
            "ROC_AUC test mean = 0.8361495457721873\n"
          ]
        }
      ]
    },
    {
      "cell_type": "markdown",
      "source": [
        "Bu bulduğumuz parametreler üzerinden gread search yapacağımız parametreler ekleyerek kendimiz deneyelim :"
      ],
      "metadata": {
        "id": "YFdG1MZjuoVo"
      }
    },
    {
      "cell_type": "code",
      "source": [
        "rf_params = {\"max_depth\":[12, 22, 32],\n",
        "              \"max_features\":[7, \"auto\",\"sqrt\"],\n",
        "              \"min_samples_split\": [16, 28, 35],\n",
        "              \"n_estimators\":[200, 150,300]}\n",
        "\n",
        "def model_best_params(model, params, cv=5, n_jobs=-1, verbose =True, random_state =17):\n",
        "  model_best_grid = GridSearchCV(model, params, cv=cv, n_jobs = n_jobs, verbose = verbose).fit(X,y)\n",
        "  for x in model_best_grid.best_params_.keys():\n",
        "    print('For {0} best param {1}'.format(x, model_best_grid.best_params_[x]))\n",
        "  \n",
        "  print(\"Set with the best parameters of your model...\")\n",
        "  model_final = model.set_params(**model_best_grid.best_params_, random_state = random_state).fit(X,y)\n",
        "  return model_final\n",
        "\n",
        "rf_final = model_best_params(rf_model, rf_params)"
      ],
      "metadata": {
        "colab": {
          "base_uri": "https://localhost:8080/"
        },
        "id": "J9m86GPstrGV",
        "outputId": "d87fc321-dc58-4a92-c247-e53e390f800d"
      },
      "execution_count": null,
      "outputs": [
        {
          "output_type": "stream",
          "name": "stdout",
          "text": [
            "Fitting 5 folds for each of 81 candidates, totalling 405 fits\n",
            "For max_depth best param 12\n",
            "For max_features best param auto\n",
            "For min_samples_split best param 16\n",
            "For n_estimators best param 200\n",
            "Set with the best parameters of your model...\n"
          ]
        }
      ]
    },
    {
      "cell_type": "markdown",
      "source": [
        "Yeni hiperparametrelerimizden en iyileri ekranda gördüğünüz gibi çıktı. Bunun üzerinden bir de hatalarına bakalım bir önceki duruma göre fark var mı ?"
      ],
      "metadata": {
        "id": "XCkLwMs4vN8x"
      }
    },
    {
      "cell_type": "code",
      "source": [
        "cv_func_result(rf_final, X, y, cv=5)"
      ],
      "metadata": {
        "colab": {
          "base_uri": "https://localhost:8080/"
        },
        "id": "yDD7O0raug2r",
        "outputId": "7258d685-3c09-46ef-a07a-ce25d0339ed0"
      },
      "execution_count": null,
      "outputs": [
        {
          "output_type": "stream",
          "name": "stdout",
          "text": [
            "Accuracy test mean = 0.7722349545878957\n",
            "F1 test mean = 0.6411009021749068\n",
            "ROC_AUC test mean = 0.8365136268343816\n"
          ]
        }
      ]
    },
    {
      "cell_type": "markdown",
      "source": [
        "f1 ve roc_auc da biraz artma olmuş ancak accuracy değerimiz düşmüş. Belki daha iyi aralıklar girseydim accuracy değerim de artardı. Denemekten zarar gelmez görmüş olduk."
      ],
      "metadata": {
        "id": "dZRvBOO6vdPh"
      }
    }
  ]
}