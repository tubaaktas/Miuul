{
  "nbformat": 4,
  "nbformat_minor": 0,
  "metadata": {
    "colab": {
      "name": "XGBoost.ipynb",
      "provenance": [],
      "collapsed_sections": []
    },
    "kernelspec": {
      "name": "python3",
      "display_name": "Python 3"
    },
    "language_info": {
      "name": "python"
    }
  },
  "cells": [
    {
      "cell_type": "code",
      "execution_count": null,
      "metadata": {
        "colab": {
          "base_uri": "https://localhost:8080/"
        },
        "id": "LyVPVDjkXkwg",
        "outputId": "0cd50895-d2dc-474b-dbc6-f8a09d366827"
      },
      "outputs": [
        {
          "output_type": "stream",
          "name": "stdout",
          "text": [
            "Looking in indexes: https://pypi.org/simple, https://us-python.pkg.dev/colab-wheels/public/simple/\n",
            "Collecting catboost\n",
            "  Downloading catboost-1.0.6-cp37-none-manylinux1_x86_64.whl (76.6 MB)\n",
            "\u001b[K     |████████████████████████████████| 76.6 MB 111 kB/s \n",
            "\u001b[?25hRequirement already satisfied: matplotlib in /usr/local/lib/python3.7/dist-packages (from catboost) (3.2.2)\n",
            "Requirement already satisfied: plotly in /usr/local/lib/python3.7/dist-packages (from catboost) (5.5.0)\n",
            "Requirement already satisfied: numpy>=1.16.0 in /usr/local/lib/python3.7/dist-packages (from catboost) (1.21.6)\n",
            "Requirement already satisfied: scipy in /usr/local/lib/python3.7/dist-packages (from catboost) (1.7.3)\n",
            "Requirement already satisfied: pandas>=0.24.0 in /usr/local/lib/python3.7/dist-packages (from catboost) (1.3.5)\n",
            "Requirement already satisfied: graphviz in /usr/local/lib/python3.7/dist-packages (from catboost) (0.10.1)\n",
            "Requirement already satisfied: six in /usr/local/lib/python3.7/dist-packages (from catboost) (1.15.0)\n",
            "Requirement already satisfied: python-dateutil>=2.7.3 in /usr/local/lib/python3.7/dist-packages (from pandas>=0.24.0->catboost) (2.8.2)\n",
            "Requirement already satisfied: pytz>=2017.3 in /usr/local/lib/python3.7/dist-packages (from pandas>=0.24.0->catboost) (2022.1)\n",
            "Requirement already satisfied: kiwisolver>=1.0.1 in /usr/local/lib/python3.7/dist-packages (from matplotlib->catboost) (1.4.4)\n",
            "Requirement already satisfied: pyparsing!=2.0.4,!=2.1.2,!=2.1.6,>=2.0.1 in /usr/local/lib/python3.7/dist-packages (from matplotlib->catboost) (3.0.9)\n",
            "Requirement already satisfied: cycler>=0.10 in /usr/local/lib/python3.7/dist-packages (from matplotlib->catboost) (0.11.0)\n",
            "Requirement already satisfied: typing-extensions in /usr/local/lib/python3.7/dist-packages (from kiwisolver>=1.0.1->matplotlib->catboost) (4.1.1)\n",
            "Requirement already satisfied: tenacity>=6.2.0 in /usr/local/lib/python3.7/dist-packages (from plotly->catboost) (8.0.1)\n",
            "Installing collected packages: catboost\n",
            "Successfully installed catboost-1.0.6\n",
            "Looking in indexes: https://pypi.org/simple, https://us-python.pkg.dev/colab-wheels/public/simple/\n",
            "Requirement already satisfied: lightgbm in /usr/local/lib/python3.7/dist-packages (2.2.3)\n",
            "Requirement already satisfied: numpy in /usr/local/lib/python3.7/dist-packages (from lightgbm) (1.21.6)\n",
            "Requirement already satisfied: scikit-learn in /usr/local/lib/python3.7/dist-packages (from lightgbm) (1.0.2)\n",
            "Requirement already satisfied: scipy in /usr/local/lib/python3.7/dist-packages (from lightgbm) (1.7.3)\n",
            "Requirement already satisfied: threadpoolctl>=2.0.0 in /usr/local/lib/python3.7/dist-packages (from scikit-learn->lightgbm) (3.1.0)\n",
            "Requirement already satisfied: joblib>=0.11 in /usr/local/lib/python3.7/dist-packages (from scikit-learn->lightgbm) (1.1.0)\n",
            "Looking in indexes: https://pypi.org/simple, https://us-python.pkg.dev/colab-wheels/public/simple/\n",
            "Requirement already satisfied: xgboost in /usr/local/lib/python3.7/dist-packages (0.90)\n",
            "Requirement already satisfied: numpy in /usr/local/lib/python3.7/dist-packages (from xgboost) (1.21.6)\n",
            "Requirement already satisfied: scipy in /usr/local/lib/python3.7/dist-packages (from xgboost) (1.7.3)\n"
          ]
        }
      ],
      "source": [
        "!pip install xgboost"
      ]
    },
    {
      "cell_type": "code",
      "source": [
        "import warnings\n",
        "import numpy as np\n",
        "import pandas as pd\n",
        "import seaborn as sns\n",
        "from matplotlib import pyplot as plt\n",
        "from sklearn.ensemble import RandomForestClassifier, GradientBoostingClassifier, VotingClassifier\n",
        "from sklearn.model_selection import GridSearchCV, cross_validate, RandomizedSearchCV, validation_curve\n",
        "\n",
        "from xgboost import XGBClassifier\n",
        "from lightgbm import LGBMClassifier\n",
        "from catboost import CatBoostClassifier\n",
        "pd.set_option(\"display.max_columns\", None)\n",
        "warnings.simplefilter(action=\"ignore\", category = Warning)"
      ],
      "metadata": {
        "id": "GLNuFmoCXqqt"
      },
      "execution_count": null,
      "outputs": []
    },
    {
      "cell_type": "code",
      "source": [
        "df = pd.read_csv(\"diabetes.csv\")\n",
        "y = df[\"Outcome\"]\n",
        "X = df.drop([\"Outcome\"], axis=1)"
      ],
      "metadata": {
        "id": "sxQVvlxnXxOY"
      },
      "execution_count": null,
      "outputs": []
    },
    {
      "cell_type": "code",
      "source": [
        "xgboost_model = XGBClassifier(random_state=17)\n",
        "xgboost_model.get_params()"
      ],
      "metadata": {
        "colab": {
          "base_uri": "https://localhost:8080/"
        },
        "id": "d4ACZqeSX4UO",
        "outputId": "87993a65-e770-46cc-8e53-736f1cce82ad"
      },
      "execution_count": null,
      "outputs": [
        {
          "output_type": "execute_result",
          "data": {
            "text/plain": [
              "{'base_score': 0.5,\n",
              " 'booster': 'gbtree',\n",
              " 'colsample_bylevel': 1,\n",
              " 'colsample_bynode': 1,\n",
              " 'colsample_bytree': 1,\n",
              " 'gamma': 0,\n",
              " 'learning_rate': 0.1,\n",
              " 'max_delta_step': 0,\n",
              " 'max_depth': 3,\n",
              " 'min_child_weight': 1,\n",
              " 'missing': None,\n",
              " 'n_estimators': 100,\n",
              " 'n_jobs': 1,\n",
              " 'nthread': None,\n",
              " 'objective': 'binary:logistic',\n",
              " 'random_state': 17,\n",
              " 'reg_alpha': 0,\n",
              " 'reg_lambda': 1,\n",
              " 'scale_pos_weight': 1,\n",
              " 'seed': None,\n",
              " 'silent': None,\n",
              " 'subsample': 1,\n",
              " 'verbosity': 1}"
            ]
          },
          "metadata": {},
          "execution_count": 26
        }
      ]
    },
    {
      "cell_type": "code",
      "source": [
        "def cv_func_result(model, X, y, cv=10, scoring=[\"accuracy\", \"f1\", \"roc_auc\"],returns=False):\n",
        "  cv_results = cross_validate(model, X=X, y=y, cv=cv, scoring=scoring)\n",
        "  for col in scoring:\n",
        "    if col == \"accuracy\":\n",
        "      print(\"Accuracy test mean = {0}\".format(cv_results[\"test_accuracy\"].mean()))\n",
        "    elif col == \"f1\":\n",
        "      print(\"F1 test mean = {0}\".format(cv_results[\"test_f1\"].mean()))\n",
        "    elif col == \"roc_auc\":\n",
        "      print(\"ROC_AUC test mean = {0}\".format(cv_results[\"test_roc_auc\"].mean()))\n",
        "  if returns:\n",
        "    return cv_results\n",
        "\n",
        "cv_func_result(xgboost_model, X, y, cv=5)"
      ],
      "metadata": {
        "colab": {
          "base_uri": "https://localhost:8080/"
        },
        "id": "dg6VdP1-YHeH",
        "outputId": "d9ffcc54-c30c-40c8-fdf0-55a0f796780a"
      },
      "execution_count": null,
      "outputs": [
        {
          "output_type": "stream",
          "name": "stdout",
          "text": [
            "Accuracy test mean = 0.7656820303879128\n",
            "F1 test mean = 0.6459643958047878\n",
            "ROC_AUC test mean = 0.8295541579315163\n"
          ]
        }
      ]
    },
    {
      "cell_type": "markdown",
      "source": [
        "#Hiperparametre optimizasyonu yapmadan önceki hatalarımız :\n",
        "* Accuracy test mean = 0.7656820303879128\n",
        "* F1 test mean = 0.6459643958047878\n",
        "* ROC_AUC test mean = 0.8295541579315163"
      ],
      "metadata": {
        "id": "l8NBxjFEYYDM"
      }
    },
    {
      "cell_type": "code",
      "source": [
        "xgboost_params = {\"learning_rate\": [0.1, 0.01, 0.001],\n",
        "                  \"max_depth\": [3, 5, 8],\n",
        "                  \"n_estimators\": [100, 500, 1000],\n",
        "                  \"colsample_bytree\": [ 0.3, 0.7, 1]}\n",
        "\n",
        "def model_best_params(model, params, cv=5, n_jobs=-1, verbose =True, random_state =17):\n",
        "  model_best_grid = GridSearchCV(model, params, cv=cv, n_jobs = n_jobs, verbose = verbose).fit(X,y)\n",
        "  for x in model_best_grid.best_params_.keys():\n",
        "    print('For {0} best param {1}'.format(x, model_best_grid.best_params_[x]))\n",
        "  \n",
        "  print(\"Set with the best parameters of your model...\")\n",
        "  model_final = model.set_params(**model_best_grid.best_params_, random_state = random_state).fit(X,y)\n",
        "  return model_final\n",
        "\n",
        "xgboost_final = model_best_params(xgboost_model, xgboost_params)"
      ],
      "metadata": {
        "colab": {
          "base_uri": "https://localhost:8080/"
        },
        "id": "l_GYATzlYW-t",
        "outputId": "1f088311-e3e4-4413-bf63-18527dbb3b36"
      },
      "execution_count": null,
      "outputs": [
        {
          "output_type": "stream",
          "name": "stdout",
          "text": [
            "Fitting 5 folds for each of 81 candidates, totalling 405 fits\n",
            "For colsample_bytree best param 0.7\n",
            "For learning_rate best param 0.01\n",
            "For max_depth best param 3\n",
            "For n_estimators best param 1000\n",
            "Set with the best parameters of your model...\n"
          ]
        }
      ]
    },
    {
      "cell_type": "markdown",
      "source": [
        "Not : colsample_bytree -> değişkenlerden alınacak olan gözlem sayısı"
      ],
      "metadata": {
        "id": "_pVSAtFwZN70"
      }
    },
    {
      "cell_type": "code",
      "source": [
        "cv_func_result(xgboost_final, X, y, cv=5)"
      ],
      "metadata": {
        "colab": {
          "base_uri": "https://localhost:8080/"
        },
        "id": "UWW6AAcwZk79",
        "outputId": "763016f8-86be-4a1f-8eda-9d87d51b2930"
      },
      "execution_count": null,
      "outputs": [
        {
          "output_type": "stream",
          "name": "stdout",
          "text": [
            "Accuracy test mean = 0.7786775316187081\n",
            "F1 test mean = 0.6642459436770524\n",
            "ROC_AUC test mean = 0.8326484975541579\n"
          ]
        }
      ]
    },
    {
      "cell_type": "markdown",
      "source": [
        "#Hiperparametre optimizasyonundan sonra hatalarımız:\n",
        "* Accuracy test mean = 0.7786775316187081\n",
        "* F1 test mean = 0.6642459436770524\n",
        "* ROC_AUC test mean =  0.8326484975541579"
      ],
      "metadata": {
        "id": "eIB9sFn1kE7M"
      }
    }
  ]
}